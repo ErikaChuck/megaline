{
 "cells": [
  {
   "cell_type": "markdown",
   "metadata": {
    "id": "3rYiDeEH0q0f"
   },
   "source": [
    "# ¿Cuál es la mejor tarifa?\n",
    "\n",
    "La empresa Megaline ofrece a sus clientes dos tarifas de prepago, Surf y Ultimate. El departamento comercial quiere saber cuál de las tarifas genera más ingresos para poder ajustar el presupuesto de publicidad.\n"
   ]
  },
  {
   "cell_type": "markdown",
   "metadata": {
    "id": "MQi4IPy70q0y"
   },
   "source": [
    "## Inicialización"
   ]
  },
  {
   "cell_type": "code",
   "execution_count": 8,
   "metadata": {
    "id": "MtYIuBxu0q0z"
   },
   "outputs": [],
   "source": [
    "# Iniciamos cargando las librerias necesarias\n",
    "import pandas as pd\n",
    "import numpy as np\n",
    "import math as mt\n",
    "import matplotlib.pyplot as plt\n",
    "import seaborn as sns\n",
    "from math import factorial\n",
    "from scipy import stats as st\n",
    "from scipy.stats import ttest_ind\n",
    "\n",
    "\n"
   ]
  },
  {
   "cell_type": "markdown",
   "metadata": {
    "id": "4ysWWC5i0q00"
   },
   "source": [
    "## Cargar datos"
   ]
  },
  {
   "cell_type": "code",
   "execution_count": 9,
   "metadata": {
    "id": "CCqPW7rS0q01"
   },
   "outputs": [],
   "source": [
    "# Carga los archivos de datos en diferentes DataFrames\n",
    "users = pd.read_csv('megaline_users.csv')\n",
    "plans = pd.read_csv('megaline_plans.csv')\n",
    "msns = pd.read_csv('megaline_messages.csv')\n",
    "internet = pd.read_csv('megaline_internet.csv')\n",
    "calls = pd.read_csv('megaline_calls.csv')\n",
    "\n",
    "\n"
   ]
  },
  {
   "cell_type": "markdown",
   "metadata": {
    "id": "69qqoJ3r0q01"
   },
   "source": [
    "## Preparar los datos"
   ]
  },
  {
   "cell_type": "markdown",
   "metadata": {
    "id": "vUuZw80S0q01"
   },
   "source": [
    "Exploraremos cada una de nuestras tablas y que tipo de datos contienen."
   ]
  },
  {
   "cell_type": "code",
   "execution_count": 10,
   "metadata": {
    "scrolled": false
   },
   "outputs": [
    {
     "data": {
      "text/html": [
       "<div>\n",
       "<style scoped>\n",
       "    .dataframe tbody tr th:only-of-type {\n",
       "        vertical-align: middle;\n",
       "    }\n",
       "\n",
       "    .dataframe tbody tr th {\n",
       "        vertical-align: top;\n",
       "    }\n",
       "\n",
       "    .dataframe thead th {\n",
       "        text-align: right;\n",
       "    }\n",
       "</style>\n",
       "<table border=\"1\" class=\"dataframe\">\n",
       "  <thead>\n",
       "    <tr style=\"text-align: right;\">\n",
       "      <th></th>\n",
       "      <th>user_id</th>\n",
       "      <th>first_name</th>\n",
       "      <th>last_name</th>\n",
       "      <th>age</th>\n",
       "      <th>city</th>\n",
       "      <th>reg_date</th>\n",
       "      <th>plan</th>\n",
       "      <th>churn_date</th>\n",
       "    </tr>\n",
       "  </thead>\n",
       "  <tbody>\n",
       "    <tr>\n",
       "      <th>0</th>\n",
       "      <td>1000</td>\n",
       "      <td>Anamaria</td>\n",
       "      <td>Bauer</td>\n",
       "      <td>45</td>\n",
       "      <td>Atlanta-Sandy Springs-Roswell, GA MSA</td>\n",
       "      <td>2018-12-24</td>\n",
       "      <td>ultimate</td>\n",
       "      <td>NaN</td>\n",
       "    </tr>\n",
       "    <tr>\n",
       "      <th>1</th>\n",
       "      <td>1001</td>\n",
       "      <td>Mickey</td>\n",
       "      <td>Wilkerson</td>\n",
       "      <td>28</td>\n",
       "      <td>Seattle-Tacoma-Bellevue, WA MSA</td>\n",
       "      <td>2018-08-13</td>\n",
       "      <td>surf</td>\n",
       "      <td>NaN</td>\n",
       "    </tr>\n",
       "    <tr>\n",
       "      <th>2</th>\n",
       "      <td>1002</td>\n",
       "      <td>Carlee</td>\n",
       "      <td>Hoffman</td>\n",
       "      <td>36</td>\n",
       "      <td>Las Vegas-Henderson-Paradise, NV MSA</td>\n",
       "      <td>2018-10-21</td>\n",
       "      <td>surf</td>\n",
       "      <td>NaN</td>\n",
       "    </tr>\n",
       "    <tr>\n",
       "      <th>3</th>\n",
       "      <td>1003</td>\n",
       "      <td>Reynaldo</td>\n",
       "      <td>Jenkins</td>\n",
       "      <td>52</td>\n",
       "      <td>Tulsa, OK MSA</td>\n",
       "      <td>2018-01-28</td>\n",
       "      <td>surf</td>\n",
       "      <td>NaN</td>\n",
       "    </tr>\n",
       "    <tr>\n",
       "      <th>4</th>\n",
       "      <td>1004</td>\n",
       "      <td>Leonila</td>\n",
       "      <td>Thompson</td>\n",
       "      <td>40</td>\n",
       "      <td>Seattle-Tacoma-Bellevue, WA MSA</td>\n",
       "      <td>2018-05-23</td>\n",
       "      <td>surf</td>\n",
       "      <td>NaN</td>\n",
       "    </tr>\n",
       "  </tbody>\n",
       "</table>\n",
       "</div>"
      ],
      "text/plain": [
       "   user_id first_name  last_name  age                                   city  \\\n",
       "0     1000   Anamaria      Bauer   45  Atlanta-Sandy Springs-Roswell, GA MSA   \n",
       "1     1001     Mickey  Wilkerson   28        Seattle-Tacoma-Bellevue, WA MSA   \n",
       "2     1002     Carlee    Hoffman   36   Las Vegas-Henderson-Paradise, NV MSA   \n",
       "3     1003   Reynaldo    Jenkins   52                          Tulsa, OK MSA   \n",
       "4     1004    Leonila   Thompson   40        Seattle-Tacoma-Bellevue, WA MSA   \n",
       "\n",
       "     reg_date      plan churn_date  \n",
       "0  2018-12-24  ultimate        NaN  \n",
       "1  2018-08-13      surf        NaN  \n",
       "2  2018-10-21      surf        NaN  \n",
       "3  2018-01-28      surf        NaN  \n",
       "4  2018-05-23      surf        NaN  "
      ]
     },
     "execution_count": 10,
     "metadata": {},
     "output_type": "execute_result"
    }
   ],
   "source": [
    "#USERS\n",
    "users.head()"
   ]
  },
  {
   "cell_type": "code",
   "execution_count": 11,
   "metadata": {
    "scrolled": true
   },
   "outputs": [
    {
     "data": {
      "text/html": [
       "<div>\n",
       "<style scoped>\n",
       "    .dataframe tbody tr th:only-of-type {\n",
       "        vertical-align: middle;\n",
       "    }\n",
       "\n",
       "    .dataframe tbody tr th {\n",
       "        vertical-align: top;\n",
       "    }\n",
       "\n",
       "    .dataframe thead th {\n",
       "        text-align: right;\n",
       "    }\n",
       "</style>\n",
       "<table border=\"1\" class=\"dataframe\">\n",
       "  <thead>\n",
       "    <tr style=\"text-align: right;\">\n",
       "      <th></th>\n",
       "      <th>id</th>\n",
       "      <th>user_id</th>\n",
       "      <th>call_date</th>\n",
       "      <th>duration</th>\n",
       "    </tr>\n",
       "  </thead>\n",
       "  <tbody>\n",
       "    <tr>\n",
       "      <th>0</th>\n",
       "      <td>1000_93</td>\n",
       "      <td>1000</td>\n",
       "      <td>2018-12-27</td>\n",
       "      <td>8.52</td>\n",
       "    </tr>\n",
       "    <tr>\n",
       "      <th>1</th>\n",
       "      <td>1000_145</td>\n",
       "      <td>1000</td>\n",
       "      <td>2018-12-27</td>\n",
       "      <td>13.66</td>\n",
       "    </tr>\n",
       "    <tr>\n",
       "      <th>2</th>\n",
       "      <td>1000_247</td>\n",
       "      <td>1000</td>\n",
       "      <td>2018-12-27</td>\n",
       "      <td>14.48</td>\n",
       "    </tr>\n",
       "    <tr>\n",
       "      <th>3</th>\n",
       "      <td>1000_309</td>\n",
       "      <td>1000</td>\n",
       "      <td>2018-12-28</td>\n",
       "      <td>5.76</td>\n",
       "    </tr>\n",
       "    <tr>\n",
       "      <th>4</th>\n",
       "      <td>1000_380</td>\n",
       "      <td>1000</td>\n",
       "      <td>2018-12-30</td>\n",
       "      <td>4.22</td>\n",
       "    </tr>\n",
       "  </tbody>\n",
       "</table>\n",
       "</div>"
      ],
      "text/plain": [
       "         id  user_id   call_date  duration\n",
       "0   1000_93     1000  2018-12-27      8.52\n",
       "1  1000_145     1000  2018-12-27     13.66\n",
       "2  1000_247     1000  2018-12-27     14.48\n",
       "3  1000_309     1000  2018-12-28      5.76\n",
       "4  1000_380     1000  2018-12-30      4.22"
      ]
     },
     "execution_count": 11,
     "metadata": {},
     "output_type": "execute_result"
    }
   ],
   "source": [
    "#Calls\n",
    "calls.head()"
   ]
  },
  {
   "cell_type": "code",
   "execution_count": 12,
   "metadata": {
    "scrolled": false
   },
   "outputs": [
    {
     "data": {
      "text/html": [
       "<div>\n",
       "<style scoped>\n",
       "    .dataframe tbody tr th:only-of-type {\n",
       "        vertical-align: middle;\n",
       "    }\n",
       "\n",
       "    .dataframe tbody tr th {\n",
       "        vertical-align: top;\n",
       "    }\n",
       "\n",
       "    .dataframe thead th {\n",
       "        text-align: right;\n",
       "    }\n",
       "</style>\n",
       "<table border=\"1\" class=\"dataframe\">\n",
       "  <thead>\n",
       "    <tr style=\"text-align: right;\">\n",
       "      <th></th>\n",
       "      <th>id</th>\n",
       "      <th>user_id</th>\n",
       "      <th>message_date</th>\n",
       "    </tr>\n",
       "  </thead>\n",
       "  <tbody>\n",
       "    <tr>\n",
       "      <th>0</th>\n",
       "      <td>1000_125</td>\n",
       "      <td>1000</td>\n",
       "      <td>2018-12-27</td>\n",
       "    </tr>\n",
       "    <tr>\n",
       "      <th>1</th>\n",
       "      <td>1000_160</td>\n",
       "      <td>1000</td>\n",
       "      <td>2018-12-31</td>\n",
       "    </tr>\n",
       "    <tr>\n",
       "      <th>2</th>\n",
       "      <td>1000_223</td>\n",
       "      <td>1000</td>\n",
       "      <td>2018-12-31</td>\n",
       "    </tr>\n",
       "    <tr>\n",
       "      <th>3</th>\n",
       "      <td>1000_251</td>\n",
       "      <td>1000</td>\n",
       "      <td>2018-12-27</td>\n",
       "    </tr>\n",
       "    <tr>\n",
       "      <th>4</th>\n",
       "      <td>1000_255</td>\n",
       "      <td>1000</td>\n",
       "      <td>2018-12-26</td>\n",
       "    </tr>\n",
       "  </tbody>\n",
       "</table>\n",
       "</div>"
      ],
      "text/plain": [
       "         id  user_id message_date\n",
       "0  1000_125     1000   2018-12-27\n",
       "1  1000_160     1000   2018-12-31\n",
       "2  1000_223     1000   2018-12-31\n",
       "3  1000_251     1000   2018-12-27\n",
       "4  1000_255     1000   2018-12-26"
      ]
     },
     "execution_count": 12,
     "metadata": {},
     "output_type": "execute_result"
    }
   ],
   "source": [
    "#Mensajes\n",
    "msns.head()"
   ]
  },
  {
   "cell_type": "code",
   "execution_count": 13,
   "metadata": {
    "scrolled": false
   },
   "outputs": [
    {
     "data": {
      "text/html": [
       "<div>\n",
       "<style scoped>\n",
       "    .dataframe tbody tr th:only-of-type {\n",
       "        vertical-align: middle;\n",
       "    }\n",
       "\n",
       "    .dataframe tbody tr th {\n",
       "        vertical-align: top;\n",
       "    }\n",
       "\n",
       "    .dataframe thead th {\n",
       "        text-align: right;\n",
       "    }\n",
       "</style>\n",
       "<table border=\"1\" class=\"dataframe\">\n",
       "  <thead>\n",
       "    <tr style=\"text-align: right;\">\n",
       "      <th></th>\n",
       "      <th>id</th>\n",
       "      <th>user_id</th>\n",
       "      <th>session_date</th>\n",
       "      <th>mb_used</th>\n",
       "    </tr>\n",
       "  </thead>\n",
       "  <tbody>\n",
       "    <tr>\n",
       "      <th>0</th>\n",
       "      <td>1000_13</td>\n",
       "      <td>1000</td>\n",
       "      <td>2018-12-29</td>\n",
       "      <td>89.86</td>\n",
       "    </tr>\n",
       "    <tr>\n",
       "      <th>1</th>\n",
       "      <td>1000_204</td>\n",
       "      <td>1000</td>\n",
       "      <td>2018-12-31</td>\n",
       "      <td>0.00</td>\n",
       "    </tr>\n",
       "    <tr>\n",
       "      <th>2</th>\n",
       "      <td>1000_379</td>\n",
       "      <td>1000</td>\n",
       "      <td>2018-12-28</td>\n",
       "      <td>660.40</td>\n",
       "    </tr>\n",
       "    <tr>\n",
       "      <th>3</th>\n",
       "      <td>1000_413</td>\n",
       "      <td>1000</td>\n",
       "      <td>2018-12-26</td>\n",
       "      <td>270.99</td>\n",
       "    </tr>\n",
       "    <tr>\n",
       "      <th>4</th>\n",
       "      <td>1000_442</td>\n",
       "      <td>1000</td>\n",
       "      <td>2018-12-27</td>\n",
       "      <td>880.22</td>\n",
       "    </tr>\n",
       "  </tbody>\n",
       "</table>\n",
       "</div>"
      ],
      "text/plain": [
       "         id  user_id session_date  mb_used\n",
       "0   1000_13     1000   2018-12-29    89.86\n",
       "1  1000_204     1000   2018-12-31     0.00\n",
       "2  1000_379     1000   2018-12-28   660.40\n",
       "3  1000_413     1000   2018-12-26   270.99\n",
       "4  1000_442     1000   2018-12-27   880.22"
      ]
     },
     "execution_count": 13,
     "metadata": {},
     "output_type": "execute_result"
    }
   ],
   "source": [
    "#Internet\n",
    "internet.head()"
   ]
  },
  {
   "cell_type": "code",
   "execution_count": 14,
   "metadata": {},
   "outputs": [
    {
     "data": {
      "text/html": [
       "<div>\n",
       "<style scoped>\n",
       "    .dataframe tbody tr th:only-of-type {\n",
       "        vertical-align: middle;\n",
       "    }\n",
       "\n",
       "    .dataframe tbody tr th {\n",
       "        vertical-align: top;\n",
       "    }\n",
       "\n",
       "    .dataframe thead th {\n",
       "        text-align: right;\n",
       "    }\n",
       "</style>\n",
       "<table border=\"1\" class=\"dataframe\">\n",
       "  <thead>\n",
       "    <tr style=\"text-align: right;\">\n",
       "      <th></th>\n",
       "      <th>messages_included</th>\n",
       "      <th>mb_per_month_included</th>\n",
       "      <th>minutes_included</th>\n",
       "      <th>usd_monthly_pay</th>\n",
       "      <th>usd_per_gb</th>\n",
       "      <th>usd_per_message</th>\n",
       "      <th>usd_per_minute</th>\n",
       "      <th>plan_name</th>\n",
       "    </tr>\n",
       "  </thead>\n",
       "  <tbody>\n",
       "    <tr>\n",
       "      <th>0</th>\n",
       "      <td>50</td>\n",
       "      <td>15360</td>\n",
       "      <td>500</td>\n",
       "      <td>20</td>\n",
       "      <td>10</td>\n",
       "      <td>0.03</td>\n",
       "      <td>0.03</td>\n",
       "      <td>surf</td>\n",
       "    </tr>\n",
       "    <tr>\n",
       "      <th>1</th>\n",
       "      <td>1000</td>\n",
       "      <td>30720</td>\n",
       "      <td>3000</td>\n",
       "      <td>70</td>\n",
       "      <td>7</td>\n",
       "      <td>0.01</td>\n",
       "      <td>0.01</td>\n",
       "      <td>ultimate</td>\n",
       "    </tr>\n",
       "  </tbody>\n",
       "</table>\n",
       "</div>"
      ],
      "text/plain": [
       "   messages_included  mb_per_month_included  minutes_included  \\\n",
       "0                 50                  15360               500   \n",
       "1               1000                  30720              3000   \n",
       "\n",
       "   usd_monthly_pay  usd_per_gb  usd_per_message  usd_per_minute plan_name  \n",
       "0               20          10             0.03            0.03      surf  \n",
       "1               70           7             0.01            0.01  ultimate  "
      ]
     },
     "execution_count": 14,
     "metadata": {},
     "output_type": "execute_result"
    }
   ],
   "source": [
    "plans"
   ]
  },
  {
   "cell_type": "markdown",
   "metadata": {
    "id": "ohBhimvH0q01"
   },
   "source": [
    "## Tarifas"
   ]
  },
  {
   "cell_type": "code",
   "execution_count": 15,
   "metadata": {
    "scrolled": false
   },
   "outputs": [
    {
     "name": "stdout",
     "output_type": "stream",
     "text": [
      "<class 'pandas.core.frame.DataFrame'>\n",
      "RangeIndex: 2 entries, 0 to 1\n",
      "Data columns (total 8 columns):\n",
      " #   Column                 Non-Null Count  Dtype  \n",
      "---  ------                 --------------  -----  \n",
      " 0   messages_included      2 non-null      int64  \n",
      " 1   mb_per_month_included  2 non-null      int64  \n",
      " 2   minutes_included       2 non-null      int64  \n",
      " 3   usd_monthly_pay        2 non-null      int64  \n",
      " 4   usd_per_gb             2 non-null      int64  \n",
      " 5   usd_per_message        2 non-null      float64\n",
      " 6   usd_per_minute         2 non-null      float64\n",
      " 7   plan_name              2 non-null      object \n",
      "dtypes: float64(2), int64(5), object(1)\n",
      "memory usage: 260.0+ bytes\n"
     ]
    }
   ],
   "source": [
    "#Verificamos los datos que contiene nuestra tabla\n",
    "plans.info(show_counts=True)"
   ]
  },
  {
   "cell_type": "markdown",
   "metadata": {
    "id": "R3C05i1l0q03"
   },
   "source": [
    "## Corregir datos"
   ]
  },
  {
   "cell_type": "code",
   "execution_count": 17,
   "metadata": {
    "id": "Y7SVmjGn0q03"
   },
   "outputs": [],
   "source": [
    "#Se requiere una conversión de mb a gb para calcular el cobro por exceso en el tráfico de datos."
   ]
  },
  {
   "cell_type": "markdown",
   "metadata": {
    "id": "LJir7bml0q03"
   },
   "source": [
    "## Enriquecer los datos"
   ]
  },
  {
   "cell_type": "code",
   "execution_count": 18,
   "metadata": {
    "id": "gfcIEuXV0q04"
   },
   "outputs": [],
   "source": [
    "#Sin datos que agregar"
   ]
  },
  {
   "cell_type": "markdown",
   "metadata": {
    "id": "1n2X6WXf0q04"
   },
   "source": [
    "## Usuarios/as"
   ]
  },
  {
   "cell_type": "code",
   "execution_count": 19,
   "metadata": {
    "id": "2NgjWFqx0q05"
   },
   "outputs": [
    {
     "name": "stdout",
     "output_type": "stream",
     "text": [
      "<class 'pandas.core.frame.DataFrame'>\n",
      "RangeIndex: 500 entries, 0 to 499\n",
      "Data columns (total 8 columns):\n",
      " #   Column      Non-Null Count  Dtype \n",
      "---  ------      --------------  ----- \n",
      " 0   user_id     500 non-null    int64 \n",
      " 1   first_name  500 non-null    object\n",
      " 2   last_name   500 non-null    object\n",
      " 3   age         500 non-null    int64 \n",
      " 4   city        500 non-null    object\n",
      " 5   reg_date    500 non-null    object\n",
      " 6   plan        500 non-null    object\n",
      " 7   churn_date  34 non-null     object\n",
      "dtypes: int64(2), object(6)\n",
      "memory usage: 31.4+ KB\n"
     ]
    }
   ],
   "source": [
    "# Imprime la información general/resumida sobre el DataFrame de usuarios\n",
    "users.info(show_counts=True)"
   ]
  },
  {
   "cell_type": "code",
   "execution_count": 20,
   "metadata": {
    "id": "1IN1L9uh0q05"
   },
   "outputs": [
    {
     "data": {
      "text/html": [
       "<div>\n",
       "<style scoped>\n",
       "    .dataframe tbody tr th:only-of-type {\n",
       "        vertical-align: middle;\n",
       "    }\n",
       "\n",
       "    .dataframe tbody tr th {\n",
       "        vertical-align: top;\n",
       "    }\n",
       "\n",
       "    .dataframe thead th {\n",
       "        text-align: right;\n",
       "    }\n",
       "</style>\n",
       "<table border=\"1\" class=\"dataframe\">\n",
       "  <thead>\n",
       "    <tr style=\"text-align: right;\">\n",
       "      <th></th>\n",
       "      <th>user_id</th>\n",
       "      <th>first_name</th>\n",
       "      <th>last_name</th>\n",
       "      <th>age</th>\n",
       "      <th>city</th>\n",
       "      <th>reg_date</th>\n",
       "      <th>plan</th>\n",
       "      <th>churn_date</th>\n",
       "    </tr>\n",
       "  </thead>\n",
       "  <tbody>\n",
       "    <tr>\n",
       "      <th>444</th>\n",
       "      <td>1444</td>\n",
       "      <td>Glinda</td>\n",
       "      <td>Dickerson</td>\n",
       "      <td>70</td>\n",
       "      <td>New Haven-Milford, CT MSA</td>\n",
       "      <td>2018-06-20</td>\n",
       "      <td>surf</td>\n",
       "      <td>NaN</td>\n",
       "    </tr>\n",
       "    <tr>\n",
       "      <th>226</th>\n",
       "      <td>1226</td>\n",
       "      <td>Denver</td>\n",
       "      <td>Harrell</td>\n",
       "      <td>64</td>\n",
       "      <td>Riverside-San Bernardino-Ontario, CA MSA</td>\n",
       "      <td>2018-03-15</td>\n",
       "      <td>ultimate</td>\n",
       "      <td>NaN</td>\n",
       "    </tr>\n",
       "    <tr>\n",
       "      <th>110</th>\n",
       "      <td>1110</td>\n",
       "      <td>Anderson</td>\n",
       "      <td>Cotton</td>\n",
       "      <td>65</td>\n",
       "      <td>Washington-Arlington-Alexandria, DC-VA-MD-WV MSA</td>\n",
       "      <td>2018-04-20</td>\n",
       "      <td>surf</td>\n",
       "      <td>NaN</td>\n",
       "    </tr>\n",
       "    <tr>\n",
       "      <th>3</th>\n",
       "      <td>1003</td>\n",
       "      <td>Reynaldo</td>\n",
       "      <td>Jenkins</td>\n",
       "      <td>52</td>\n",
       "      <td>Tulsa, OK MSA</td>\n",
       "      <td>2018-01-28</td>\n",
       "      <td>surf</td>\n",
       "      <td>NaN</td>\n",
       "    </tr>\n",
       "    <tr>\n",
       "      <th>0</th>\n",
       "      <td>1000</td>\n",
       "      <td>Anamaria</td>\n",
       "      <td>Bauer</td>\n",
       "      <td>45</td>\n",
       "      <td>Atlanta-Sandy Springs-Roswell, GA MSA</td>\n",
       "      <td>2018-12-24</td>\n",
       "      <td>ultimate</td>\n",
       "      <td>NaN</td>\n",
       "    </tr>\n",
       "    <tr>\n",
       "      <th>368</th>\n",
       "      <td>1368</td>\n",
       "      <td>Enola</td>\n",
       "      <td>Ray</td>\n",
       "      <td>60</td>\n",
       "      <td>Pittsburgh, PA MSA</td>\n",
       "      <td>2018-05-20</td>\n",
       "      <td>ultimate</td>\n",
       "      <td>NaN</td>\n",
       "    </tr>\n",
       "    <tr>\n",
       "      <th>64</th>\n",
       "      <td>1064</td>\n",
       "      <td>Gerardo</td>\n",
       "      <td>Ashley</td>\n",
       "      <td>46</td>\n",
       "      <td>New York-Newark-Jersey City, NY-NJ-PA MSA</td>\n",
       "      <td>2018-06-03</td>\n",
       "      <td>surf</td>\n",
       "      <td>NaN</td>\n",
       "    </tr>\n",
       "    <tr>\n",
       "      <th>440</th>\n",
       "      <td>1440</td>\n",
       "      <td>France</td>\n",
       "      <td>Barrett</td>\n",
       "      <td>49</td>\n",
       "      <td>Nashville-Davidson–Murfreesboro–Franklin, TN MSA</td>\n",
       "      <td>2018-04-16</td>\n",
       "      <td>surf</td>\n",
       "      <td>NaN</td>\n",
       "    </tr>\n",
       "    <tr>\n",
       "      <th>219</th>\n",
       "      <td>1219</td>\n",
       "      <td>Gavin</td>\n",
       "      <td>Keller</td>\n",
       "      <td>51</td>\n",
       "      <td>Detroit-Warren-Dearborn, MI MSA</td>\n",
       "      <td>2018-05-14</td>\n",
       "      <td>surf</td>\n",
       "      <td>NaN</td>\n",
       "    </tr>\n",
       "    <tr>\n",
       "      <th>328</th>\n",
       "      <td>1328</td>\n",
       "      <td>Tamesha</td>\n",
       "      <td>Huber</td>\n",
       "      <td>20</td>\n",
       "      <td>Minneapolis-St. Paul-Bloomington, MN-WI MSA</td>\n",
       "      <td>2018-02-10</td>\n",
       "      <td>surf</td>\n",
       "      <td>NaN</td>\n",
       "    </tr>\n",
       "    <tr>\n",
       "      <th>267</th>\n",
       "      <td>1267</td>\n",
       "      <td>Gia</td>\n",
       "      <td>Parker</td>\n",
       "      <td>53</td>\n",
       "      <td>St. Louis, MO-IL MSA</td>\n",
       "      <td>2018-03-12</td>\n",
       "      <td>surf</td>\n",
       "      <td>NaN</td>\n",
       "    </tr>\n",
       "    <tr>\n",
       "      <th>304</th>\n",
       "      <td>1304</td>\n",
       "      <td>Dominque</td>\n",
       "      <td>Cole</td>\n",
       "      <td>69</td>\n",
       "      <td>Birmingham-Hoover, AL MSA</td>\n",
       "      <td>2018-10-28</td>\n",
       "      <td>ultimate</td>\n",
       "      <td>NaN</td>\n",
       "    </tr>\n",
       "    <tr>\n",
       "      <th>487</th>\n",
       "      <td>1487</td>\n",
       "      <td>Elton</td>\n",
       "      <td>Simpson</td>\n",
       "      <td>18</td>\n",
       "      <td>Cape Coral-Fort Myers, FL MSA</td>\n",
       "      <td>2018-08-16</td>\n",
       "      <td>ultimate</td>\n",
       "      <td>NaN</td>\n",
       "    </tr>\n",
       "    <tr>\n",
       "      <th>352</th>\n",
       "      <td>1352</td>\n",
       "      <td>Gavin</td>\n",
       "      <td>Galloway</td>\n",
       "      <td>48</td>\n",
       "      <td>Seattle-Tacoma-Bellevue, WA MSA</td>\n",
       "      <td>2018-09-08</td>\n",
       "      <td>ultimate</td>\n",
       "      <td>NaN</td>\n",
       "    </tr>\n",
       "    <tr>\n",
       "      <th>259</th>\n",
       "      <td>1259</td>\n",
       "      <td>Etsuko</td>\n",
       "      <td>Perry</td>\n",
       "      <td>63</td>\n",
       "      <td>Philadelphia-Camden-Wilmington, PA-NJ-DE-MD MSA</td>\n",
       "      <td>2018-03-16</td>\n",
       "      <td>surf</td>\n",
       "      <td>NaN</td>\n",
       "    </tr>\n",
       "  </tbody>\n",
       "</table>\n",
       "</div>"
      ],
      "text/plain": [
       "     user_id first_name  last_name  age  \\\n",
       "444     1444     Glinda  Dickerson   70   \n",
       "226     1226     Denver    Harrell   64   \n",
       "110     1110   Anderson     Cotton   65   \n",
       "3       1003   Reynaldo    Jenkins   52   \n",
       "0       1000   Anamaria      Bauer   45   \n",
       "368     1368      Enola        Ray   60   \n",
       "64      1064    Gerardo     Ashley   46   \n",
       "440     1440     France    Barrett   49   \n",
       "219     1219      Gavin     Keller   51   \n",
       "328     1328    Tamesha      Huber   20   \n",
       "267     1267        Gia     Parker   53   \n",
       "304     1304   Dominque       Cole   69   \n",
       "487     1487      Elton    Simpson   18   \n",
       "352     1352      Gavin   Galloway   48   \n",
       "259     1259     Etsuko      Perry   63   \n",
       "\n",
       "                                                 city    reg_date      plan  \\\n",
       "444                         New Haven-Milford, CT MSA  2018-06-20      surf   \n",
       "226          Riverside-San Bernardino-Ontario, CA MSA  2018-03-15  ultimate   \n",
       "110  Washington-Arlington-Alexandria, DC-VA-MD-WV MSA  2018-04-20      surf   \n",
       "3                                       Tulsa, OK MSA  2018-01-28      surf   \n",
       "0               Atlanta-Sandy Springs-Roswell, GA MSA  2018-12-24  ultimate   \n",
       "368                                Pittsburgh, PA MSA  2018-05-20  ultimate   \n",
       "64          New York-Newark-Jersey City, NY-NJ-PA MSA  2018-06-03      surf   \n",
       "440  Nashville-Davidson–Murfreesboro–Franklin, TN MSA  2018-04-16      surf   \n",
       "219                   Detroit-Warren-Dearborn, MI MSA  2018-05-14      surf   \n",
       "328       Minneapolis-St. Paul-Bloomington, MN-WI MSA  2018-02-10      surf   \n",
       "267                              St. Louis, MO-IL MSA  2018-03-12      surf   \n",
       "304                         Birmingham-Hoover, AL MSA  2018-10-28  ultimate   \n",
       "487                     Cape Coral-Fort Myers, FL MSA  2018-08-16  ultimate   \n",
       "352                   Seattle-Tacoma-Bellevue, WA MSA  2018-09-08  ultimate   \n",
       "259   Philadelphia-Camden-Wilmington, PA-NJ-DE-MD MSA  2018-03-16      surf   \n",
       "\n",
       "    churn_date  \n",
       "444        NaN  \n",
       "226        NaN  \n",
       "110        NaN  \n",
       "3          NaN  \n",
       "0          NaN  \n",
       "368        NaN  \n",
       "64         NaN  \n",
       "440        NaN  \n",
       "219        NaN  \n",
       "328        NaN  \n",
       "267        NaN  \n",
       "304        NaN  \n",
       "487        NaN  \n",
       "352        NaN  \n",
       "259        NaN  "
      ]
     },
     "execution_count": 20,
     "metadata": {},
     "output_type": "execute_result"
    }
   ],
   "source": [
    "# Imprime una muestra de datos para usuarios\n",
    "users_sample = users.sample(n = 15)\n",
    "users_sample"
   ]
  },
  {
   "cell_type": "code",
   "execution_count": null,
   "metadata": {
    "scrolled": true
   },
   "outputs": [],
   "source": []
  },
  {
   "cell_type": "markdown",
   "metadata": {
    "id": "dCZoUq4f0q06"
   },
   "source": [
    "Los tipos de datos son correctos, unicamente podemos convertir los datos que son fechas de object a datatime."
   ]
  },
  {
   "cell_type": "markdown",
   "metadata": {
    "id": "BX5FQh_I0q06"
   },
   "source": [
    "### Corregir los datos"
   ]
  },
  {
   "cell_type": "code",
   "execution_count": 21,
   "metadata": {},
   "outputs": [],
   "source": [
    "#Cambiamos los tipos de datos que contiene fechas\n",
    "users['reg_date'] = pd.to_datetime(users['reg_date'], format='%Y-%m-%d')\n",
    "users['churn_date'] = pd.to_datetime(users['churn_date'], format='%Y-%m-%d')"
   ]
  },
  {
   "cell_type": "code",
   "execution_count": 22,
   "metadata": {
    "scrolled": true
   },
   "outputs": [
    {
     "name": "stdout",
     "output_type": "stream",
     "text": [
      "<class 'pandas.core.frame.DataFrame'>\n",
      "RangeIndex: 500 entries, 0 to 499\n",
      "Data columns (total 8 columns):\n",
      " #   Column      Non-Null Count  Dtype         \n",
      "---  ------      --------------  -----         \n",
      " 0   user_id     500 non-null    int64         \n",
      " 1   first_name  500 non-null    object        \n",
      " 2   last_name   500 non-null    object        \n",
      " 3   age         500 non-null    int64         \n",
      " 4   city        500 non-null    object        \n",
      " 5   reg_date    500 non-null    datetime64[ns]\n",
      " 6   plan        500 non-null    object        \n",
      " 7   churn_date  34 non-null     datetime64[ns]\n",
      "dtypes: datetime64[ns](2), int64(2), object(4)\n",
      "memory usage: 31.4+ KB\n"
     ]
    }
   ],
   "source": [
    "#Verificamos la corrección\n",
    "users.info(show_counts=True)"
   ]
  },
  {
   "cell_type": "markdown",
   "metadata": {},
   "source": [
    "Nos encontramos con valores nulos en la variable churn_date, lo que nos dice que son usuarios que no han cancelados sus sucrpción, usuarios activos. Los valores nulos en esta columna no afectan nuestro análisis."
   ]
  },
  {
   "cell_type": "code",
   "execution_count": 23,
   "metadata": {
    "id": "yUqX-K0C0q07"
   },
   "outputs": [
    {
     "data": {
      "text/plain": [
       "0"
      ]
     },
     "execution_count": 23,
     "metadata": {},
     "output_type": "execute_result"
    }
   ],
   "source": [
    "#Verificamos si no hay id de uduarios repetidos\n",
    "users['user_id'].duplicated().sum()"
   ]
  },
  {
   "cell_type": "markdown",
   "metadata": {
    "id": "ycwuARJp0q07"
   },
   "source": [
    "### Enriquecer los datos"
   ]
  },
  {
   "cell_type": "markdown",
   "metadata": {
    "id": "96NIh4CJ0q08"
   },
   "source": [
    "Aplicamos un corte de mes para los análisis que se necesitarán adelante. "
   ]
  },
  {
   "cell_type": "markdown",
   "metadata": {
    "id": "o7MeKCid0q08"
   },
   "source": [
    "## Llamadas"
   ]
  },
  {
   "cell_type": "code",
   "execution_count": 25,
   "metadata": {
    "id": "6dDlnoDm0q08",
    "scrolled": true
   },
   "outputs": [
    {
     "name": "stdout",
     "output_type": "stream",
     "text": [
      "<class 'pandas.core.frame.DataFrame'>\n",
      "RangeIndex: 137735 entries, 0 to 137734\n",
      "Data columns (total 4 columns):\n",
      " #   Column     Non-Null Count   Dtype  \n",
      "---  ------     --------------   -----  \n",
      " 0   id         137735 non-null  object \n",
      " 1   user_id    137735 non-null  int64  \n",
      " 2   call_date  137735 non-null  object \n",
      " 3   duration   137735 non-null  float64\n",
      "dtypes: float64(1), int64(1), object(2)\n",
      "memory usage: 4.2+ MB\n"
     ]
    }
   ],
   "source": [
    "# Imprime la información general/resumida sobre el DataFrame de las llamadas\n",
    "calls.info(show_counts=True)"
   ]
  },
  {
   "cell_type": "code",
   "execution_count": 26,
   "metadata": {
    "scrolled": true
   },
   "outputs": [
    {
     "data": {
      "text/plain": [
       "0"
      ]
     },
     "execution_count": 26,
     "metadata": {},
     "output_type": "execute_result"
    }
   ],
   "source": [
    "calls['id'].duplicated().sum()"
   ]
  },
  {
   "cell_type": "code",
   "execution_count": 27,
   "metadata": {
    "id": "kuh1vlNB0q09",
    "scrolled": true
   },
   "outputs": [
    {
     "data": {
      "text/html": [
       "<div>\n",
       "<style scoped>\n",
       "    .dataframe tbody tr th:only-of-type {\n",
       "        vertical-align: middle;\n",
       "    }\n",
       "\n",
       "    .dataframe tbody tr th {\n",
       "        vertical-align: top;\n",
       "    }\n",
       "\n",
       "    .dataframe thead th {\n",
       "        text-align: right;\n",
       "    }\n",
       "</style>\n",
       "<table border=\"1\" class=\"dataframe\">\n",
       "  <thead>\n",
       "    <tr style=\"text-align: right;\">\n",
       "      <th></th>\n",
       "      <th>id</th>\n",
       "      <th>user_id</th>\n",
       "      <th>call_date</th>\n",
       "      <th>duration</th>\n",
       "    </tr>\n",
       "  </thead>\n",
       "  <tbody>\n",
       "    <tr>\n",
       "      <th>105293</th>\n",
       "      <td>1370_614</td>\n",
       "      <td>1370</td>\n",
       "      <td>2018-09-17</td>\n",
       "      <td>2.81</td>\n",
       "    </tr>\n",
       "    <tr>\n",
       "      <th>124184</th>\n",
       "      <td>1439_52</td>\n",
       "      <td>1439</td>\n",
       "      <td>2018-08-21</td>\n",
       "      <td>1.26</td>\n",
       "    </tr>\n",
       "    <tr>\n",
       "      <th>52391</th>\n",
       "      <td>1187_584</td>\n",
       "      <td>1187</td>\n",
       "      <td>2018-12-08</td>\n",
       "      <td>16.58</td>\n",
       "    </tr>\n",
       "    <tr>\n",
       "      <th>127215</th>\n",
       "      <td>1455_37</td>\n",
       "      <td>1455</td>\n",
       "      <td>2018-11-22</td>\n",
       "      <td>1.17</td>\n",
       "    </tr>\n",
       "    <tr>\n",
       "      <th>73691</th>\n",
       "      <td>1261_465</td>\n",
       "      <td>1261</td>\n",
       "      <td>2018-11-15</td>\n",
       "      <td>7.93</td>\n",
       "    </tr>\n",
       "    <tr>\n",
       "      <th>19868</th>\n",
       "      <td>1076_233</td>\n",
       "      <td>1076</td>\n",
       "      <td>2018-09-24</td>\n",
       "      <td>0.00</td>\n",
       "    </tr>\n",
       "    <tr>\n",
       "      <th>103929</th>\n",
       "      <td>1366_138</td>\n",
       "      <td>1366</td>\n",
       "      <td>2018-09-12</td>\n",
       "      <td>12.50</td>\n",
       "    </tr>\n",
       "    <tr>\n",
       "      <th>36188</th>\n",
       "      <td>1138_141</td>\n",
       "      <td>1138</td>\n",
       "      <td>2018-11-05</td>\n",
       "      <td>0.00</td>\n",
       "    </tr>\n",
       "    <tr>\n",
       "      <th>344</th>\n",
       "      <td>1002_350</td>\n",
       "      <td>1002</td>\n",
       "      <td>2018-12-30</td>\n",
       "      <td>6.12</td>\n",
       "    </tr>\n",
       "    <tr>\n",
       "      <th>25251</th>\n",
       "      <td>1097_354</td>\n",
       "      <td>1097</td>\n",
       "      <td>2018-10-18</td>\n",
       "      <td>7.20</td>\n",
       "    </tr>\n",
       "    <tr>\n",
       "      <th>136322</th>\n",
       "      <td>1494_164</td>\n",
       "      <td>1494</td>\n",
       "      <td>2018-12-19</td>\n",
       "      <td>0.03</td>\n",
       "    </tr>\n",
       "    <tr>\n",
       "      <th>15422</th>\n",
       "      <td>1061_364</td>\n",
       "      <td>1061</td>\n",
       "      <td>2018-10-27</td>\n",
       "      <td>0.00</td>\n",
       "    </tr>\n",
       "    <tr>\n",
       "      <th>64970</th>\n",
       "      <td>1236_246</td>\n",
       "      <td>1236</td>\n",
       "      <td>2018-11-01</td>\n",
       "      <td>12.66</td>\n",
       "    </tr>\n",
       "    <tr>\n",
       "      <th>33103</th>\n",
       "      <td>1123_461</td>\n",
       "      <td>1123</td>\n",
       "      <td>2018-12-13</td>\n",
       "      <td>5.17</td>\n",
       "    </tr>\n",
       "    <tr>\n",
       "      <th>96015</th>\n",
       "      <td>1341_30</td>\n",
       "      <td>1341</td>\n",
       "      <td>2018-12-26</td>\n",
       "      <td>14.42</td>\n",
       "    </tr>\n",
       "  </tbody>\n",
       "</table>\n",
       "</div>"
      ],
      "text/plain": [
       "              id  user_id   call_date  duration\n",
       "105293  1370_614     1370  2018-09-17      2.81\n",
       "124184   1439_52     1439  2018-08-21      1.26\n",
       "52391   1187_584     1187  2018-12-08     16.58\n",
       "127215   1455_37     1455  2018-11-22      1.17\n",
       "73691   1261_465     1261  2018-11-15      7.93\n",
       "19868   1076_233     1076  2018-09-24      0.00\n",
       "103929  1366_138     1366  2018-09-12     12.50\n",
       "36188   1138_141     1138  2018-11-05      0.00\n",
       "344     1002_350     1002  2018-12-30      6.12\n",
       "25251   1097_354     1097  2018-10-18      7.20\n",
       "136322  1494_164     1494  2018-12-19      0.03\n",
       "15422   1061_364     1061  2018-10-27      0.00\n",
       "64970   1236_246     1236  2018-11-01     12.66\n",
       "33103   1123_461     1123  2018-12-13      5.17\n",
       "96015    1341_30     1341  2018-12-26     14.42"
      ]
     },
     "execution_count": 27,
     "metadata": {},
     "output_type": "execute_result"
    }
   ],
   "source": [
    "# Imprime una muestra de datos para las llamadas\n",
    "calls_sample = calls.sample(n = 15)\n",
    "calls_sample\n"
   ]
  },
  {
   "cell_type": "markdown",
   "metadata": {
    "id": "DOAxYJSx0q09"
   },
   "source": [
    "Podemos modificar el tipo de datos en la fecha, el resto de datos es el adecuado. En la duración de llamadas nos encontramos con algunos 0, podemos deducir que en ese periodo no se realizaron llamadas."
   ]
  },
  {
   "cell_type": "markdown",
   "metadata": {
    "id": "S7hzxmbX0q0-"
   },
   "source": [
    "### Corregir los datos"
   ]
  },
  {
   "cell_type": "code",
   "execution_count": 28,
   "metadata": {
    "id": "S2r8xA4f0q0-"
   },
   "outputs": [],
   "source": [
    "calls['call_date'] = pd.to_datetime(calls['call_date'], format='%Y-%m-%d')"
   ]
  },
  {
   "cell_type": "markdown",
   "metadata": {
    "id": "KrMgTrlG0q0_"
   },
   "source": [
    "### Enriquecer los datos"
   ]
  },
  {
   "cell_type": "code",
   "execution_count": 29,
   "metadata": {
    "id": "iZ1avpA_0q0_"
   },
   "outputs": [],
   "source": [
    "calls[\"month\"] = calls[\"call_date\"].dt.to_period(\"M\").dt.start_time"
   ]
  },
  {
   "cell_type": "markdown",
   "metadata": {
    "id": "mOUZSi180q0_"
   },
   "source": [
    "## Mensajes"
   ]
  },
  {
   "cell_type": "code",
   "execution_count": 30,
   "metadata": {
    "id": "R-bYJpdV0q1A",
    "scrolled": true
   },
   "outputs": [
    {
     "name": "stdout",
     "output_type": "stream",
     "text": [
      "<class 'pandas.core.frame.DataFrame'>\n",
      "RangeIndex: 76051 entries, 0 to 76050\n",
      "Data columns (total 3 columns):\n",
      " #   Column        Non-Null Count  Dtype \n",
      "---  ------        --------------  ----- \n",
      " 0   id            76051 non-null  object\n",
      " 1   user_id       76051 non-null  int64 \n",
      " 2   message_date  76051 non-null  object\n",
      "dtypes: int64(1), object(2)\n",
      "memory usage: 1.7+ MB\n"
     ]
    }
   ],
   "source": [
    "# Imprime la información general/resumida sobre el DataFrame de los mensajes\n",
    "msns.info(show_counts=True)\n"
   ]
  },
  {
   "cell_type": "code",
   "execution_count": 31,
   "metadata": {},
   "outputs": [
    {
     "data": {
      "text/plain": [
       "0"
      ]
     },
     "execution_count": 31,
     "metadata": {},
     "output_type": "execute_result"
    }
   ],
   "source": [
    "msns['id'].duplicated().sum()"
   ]
  },
  {
   "cell_type": "code",
   "execution_count": 32,
   "metadata": {
    "id": "mCEl2iGE0q1A",
    "scrolled": true
   },
   "outputs": [
    {
     "data": {
      "text/html": [
       "<div>\n",
       "<style scoped>\n",
       "    .dataframe tbody tr th:only-of-type {\n",
       "        vertical-align: middle;\n",
       "    }\n",
       "\n",
       "    .dataframe tbody tr th {\n",
       "        vertical-align: top;\n",
       "    }\n",
       "\n",
       "    .dataframe thead th {\n",
       "        text-align: right;\n",
       "    }\n",
       "</style>\n",
       "<table border=\"1\" class=\"dataframe\">\n",
       "  <thead>\n",
       "    <tr style=\"text-align: right;\">\n",
       "      <th></th>\n",
       "      <th>id</th>\n",
       "      <th>user_id</th>\n",
       "      <th>message_date</th>\n",
       "    </tr>\n",
       "  </thead>\n",
       "  <tbody>\n",
       "    <tr>\n",
       "      <th>1515</th>\n",
       "      <td>1015_167</td>\n",
       "      <td>1015</td>\n",
       "      <td>2018-12-19</td>\n",
       "    </tr>\n",
       "    <tr>\n",
       "      <th>63579</th>\n",
       "      <td>1405_292</td>\n",
       "      <td>1405</td>\n",
       "      <td>2018-11-19</td>\n",
       "    </tr>\n",
       "    <tr>\n",
       "      <th>27286</th>\n",
       "      <td>1167_243</td>\n",
       "      <td>1167</td>\n",
       "      <td>2018-12-09</td>\n",
       "    </tr>\n",
       "    <tr>\n",
       "      <th>11119</th>\n",
       "      <td>1077_390</td>\n",
       "      <td>1077</td>\n",
       "      <td>2018-12-22</td>\n",
       "    </tr>\n",
       "    <tr>\n",
       "      <th>75031</th>\n",
       "      <td>1489_106</td>\n",
       "      <td>1489</td>\n",
       "      <td>2018-12-25</td>\n",
       "    </tr>\n",
       "    <tr>\n",
       "      <th>48983</th>\n",
       "      <td>1327_76</td>\n",
       "      <td>1327</td>\n",
       "      <td>2018-12-20</td>\n",
       "    </tr>\n",
       "    <tr>\n",
       "      <th>31377</th>\n",
       "      <td>1195_244</td>\n",
       "      <td>1195</td>\n",
       "      <td>2018-11-29</td>\n",
       "    </tr>\n",
       "    <tr>\n",
       "      <th>71052</th>\n",
       "      <td>1462_160</td>\n",
       "      <td>1462</td>\n",
       "      <td>2018-11-12</td>\n",
       "    </tr>\n",
       "    <tr>\n",
       "      <th>52622</th>\n",
       "      <td>1336_633</td>\n",
       "      <td>1336</td>\n",
       "      <td>2018-07-24</td>\n",
       "    </tr>\n",
       "    <tr>\n",
       "      <th>58926</th>\n",
       "      <td>1374_100</td>\n",
       "      <td>1374</td>\n",
       "      <td>2018-10-04</td>\n",
       "    </tr>\n",
       "    <tr>\n",
       "      <th>48690</th>\n",
       "      <td>1326_227</td>\n",
       "      <td>1326</td>\n",
       "      <td>2018-10-20</td>\n",
       "    </tr>\n",
       "    <tr>\n",
       "      <th>12414</th>\n",
       "      <td>1081_166</td>\n",
       "      <td>1081</td>\n",
       "      <td>2018-11-03</td>\n",
       "    </tr>\n",
       "    <tr>\n",
       "      <th>46836</th>\n",
       "      <td>1320_80</td>\n",
       "      <td>1320</td>\n",
       "      <td>2018-05-08</td>\n",
       "    </tr>\n",
       "    <tr>\n",
       "      <th>8670</th>\n",
       "      <td>1064_74</td>\n",
       "      <td>1064</td>\n",
       "      <td>2018-12-20</td>\n",
       "    </tr>\n",
       "    <tr>\n",
       "      <th>70641</th>\n",
       "      <td>1460_116</td>\n",
       "      <td>1460</td>\n",
       "      <td>2018-06-21</td>\n",
       "    </tr>\n",
       "  </tbody>\n",
       "</table>\n",
       "</div>"
      ],
      "text/plain": [
       "             id  user_id message_date\n",
       "1515   1015_167     1015   2018-12-19\n",
       "63579  1405_292     1405   2018-11-19\n",
       "27286  1167_243     1167   2018-12-09\n",
       "11119  1077_390     1077   2018-12-22\n",
       "75031  1489_106     1489   2018-12-25\n",
       "48983   1327_76     1327   2018-12-20\n",
       "31377  1195_244     1195   2018-11-29\n",
       "71052  1462_160     1462   2018-11-12\n",
       "52622  1336_633     1336   2018-07-24\n",
       "58926  1374_100     1374   2018-10-04\n",
       "48690  1326_227     1326   2018-10-20\n",
       "12414  1081_166     1081   2018-11-03\n",
       "46836   1320_80     1320   2018-05-08\n",
       "8670    1064_74     1064   2018-12-20\n",
       "70641  1460_116     1460   2018-06-21"
      ]
     },
     "execution_count": 32,
     "metadata": {},
     "output_type": "execute_result"
    }
   ],
   "source": [
    "# Imprime una muestra de datos para los mensajes\n",
    "msns_sample = msns.sample(n = 15)\n",
    "msns_sample\n"
   ]
  },
  {
   "cell_type": "markdown",
   "metadata": {
    "id": "04xDj7KH0q1A"
   },
   "source": [
    "Modificaremos el tipo de datos de la fecha."
   ]
  },
  {
   "cell_type": "markdown",
   "metadata": {
    "id": "Sprfak900q1B"
   },
   "source": [
    "### Corregir los datos"
   ]
  },
  {
   "cell_type": "code",
   "execution_count": 33,
   "metadata": {
    "id": "vsllvkoa0q1B"
   },
   "outputs": [],
   "source": [
    "msns['message_date'] = pd.to_datetime(msns['message_date'], format='%Y-%m-%d')"
   ]
  },
  {
   "cell_type": "markdown",
   "metadata": {
    "id": "HvLid7iD0q1B"
   },
   "source": [
    "### Enriquecer los datos"
   ]
  },
  {
   "cell_type": "code",
   "execution_count": 34,
   "metadata": {
    "id": "zYEXZac10q1C",
    "scrolled": true
   },
   "outputs": [],
   "source": [
    "msns[\"month\"] = msns[\"message_date\"].dt.to_period(\"M\").dt.start_time"
   ]
  },
  {
   "cell_type": "markdown",
   "metadata": {
    "id": "bStkaxn40q1C"
   },
   "source": [
    "## Internet"
   ]
  },
  {
   "cell_type": "code",
   "execution_count": 35,
   "metadata": {
    "id": "e-Uz5qyn0q1C",
    "scrolled": false
   },
   "outputs": [
    {
     "name": "stdout",
     "output_type": "stream",
     "text": [
      "<class 'pandas.core.frame.DataFrame'>\n",
      "RangeIndex: 104825 entries, 0 to 104824\n",
      "Data columns (total 4 columns):\n",
      " #   Column        Non-Null Count   Dtype  \n",
      "---  ------        --------------   -----  \n",
      " 0   id            104825 non-null  object \n",
      " 1   user_id       104825 non-null  int64  \n",
      " 2   session_date  104825 non-null  object \n",
      " 3   mb_used       104825 non-null  float64\n",
      "dtypes: float64(1), int64(1), object(2)\n",
      "memory usage: 3.2+ MB\n"
     ]
    }
   ],
   "source": [
    "# Imprime la información general/resumida sobre el DataFrame de internet\n",
    "internet.info(show_counts=True)\n"
   ]
  },
  {
   "cell_type": "code",
   "execution_count": 36,
   "metadata": {
    "scrolled": true
   },
   "outputs": [
    {
     "data": {
      "text/plain": [
       "0"
      ]
     },
     "execution_count": 36,
     "metadata": {},
     "output_type": "execute_result"
    }
   ],
   "source": [
    "internet['id'].duplicated().sum()"
   ]
  },
  {
   "cell_type": "code",
   "execution_count": 37,
   "metadata": {},
   "outputs": [
    {
     "data": {
      "text/html": [
       "<div>\n",
       "<style scoped>\n",
       "    .dataframe tbody tr th:only-of-type {\n",
       "        vertical-align: middle;\n",
       "    }\n",
       "\n",
       "    .dataframe tbody tr th {\n",
       "        vertical-align: top;\n",
       "    }\n",
       "\n",
       "    .dataframe thead th {\n",
       "        text-align: right;\n",
       "    }\n",
       "</style>\n",
       "<table border=\"1\" class=\"dataframe\">\n",
       "  <thead>\n",
       "    <tr style=\"text-align: right;\">\n",
       "      <th></th>\n",
       "      <th>id</th>\n",
       "      <th>user_id</th>\n",
       "      <th>session_date</th>\n",
       "      <th>mb_used</th>\n",
       "    </tr>\n",
       "  </thead>\n",
       "  <tbody>\n",
       "    <tr>\n",
       "      <th>84576</th>\n",
       "      <td>1394_118</td>\n",
       "      <td>1394</td>\n",
       "      <td>2018-10-07</td>\n",
       "      <td>653.92</td>\n",
       "    </tr>\n",
       "    <tr>\n",
       "      <th>64012</th>\n",
       "      <td>1293_572</td>\n",
       "      <td>1293</td>\n",
       "      <td>2018-12-11</td>\n",
       "      <td>408.64</td>\n",
       "    </tr>\n",
       "    <tr>\n",
       "      <th>37452</th>\n",
       "      <td>1169_319</td>\n",
       "      <td>1169</td>\n",
       "      <td>2018-12-10</td>\n",
       "      <td>430.18</td>\n",
       "    </tr>\n",
       "    <tr>\n",
       "      <th>48358</th>\n",
       "      <td>1215_80</td>\n",
       "      <td>1215</td>\n",
       "      <td>2018-10-24</td>\n",
       "      <td>917.58</td>\n",
       "    </tr>\n",
       "    <tr>\n",
       "      <th>56851</th>\n",
       "      <td>1257_118</td>\n",
       "      <td>1257</td>\n",
       "      <td>2018-10-04</td>\n",
       "      <td>66.72</td>\n",
       "    </tr>\n",
       "    <tr>\n",
       "      <th>79361</th>\n",
       "      <td>1370_0</td>\n",
       "      <td>1370</td>\n",
       "      <td>2018-11-25</td>\n",
       "      <td>287.78</td>\n",
       "    </tr>\n",
       "    <tr>\n",
       "      <th>14748</th>\n",
       "      <td>1067_69</td>\n",
       "      <td>1067</td>\n",
       "      <td>2018-11-19</td>\n",
       "      <td>210.83</td>\n",
       "    </tr>\n",
       "    <tr>\n",
       "      <th>48797</th>\n",
       "      <td>1217_137</td>\n",
       "      <td>1217</td>\n",
       "      <td>2018-10-06</td>\n",
       "      <td>200.55</td>\n",
       "    </tr>\n",
       "    <tr>\n",
       "      <th>6436</th>\n",
       "      <td>1036_209</td>\n",
       "      <td>1036</td>\n",
       "      <td>2018-07-25</td>\n",
       "      <td>601.83</td>\n",
       "    </tr>\n",
       "    <tr>\n",
       "      <th>45500</th>\n",
       "      <td>1201_366</td>\n",
       "      <td>1201</td>\n",
       "      <td>2018-11-14</td>\n",
       "      <td>565.38</td>\n",
       "    </tr>\n",
       "    <tr>\n",
       "      <th>49488</th>\n",
       "      <td>1221_312</td>\n",
       "      <td>1221</td>\n",
       "      <td>2018-12-25</td>\n",
       "      <td>581.06</td>\n",
       "    </tr>\n",
       "    <tr>\n",
       "      <th>36808</th>\n",
       "      <td>1165_310</td>\n",
       "      <td>1165</td>\n",
       "      <td>2018-12-15</td>\n",
       "      <td>519.56</td>\n",
       "    </tr>\n",
       "    <tr>\n",
       "      <th>90493</th>\n",
       "      <td>1417_33</td>\n",
       "      <td>1417</td>\n",
       "      <td>2018-09-23</td>\n",
       "      <td>239.33</td>\n",
       "    </tr>\n",
       "    <tr>\n",
       "      <th>35228</th>\n",
       "      <td>1159_65</td>\n",
       "      <td>1159</td>\n",
       "      <td>2018-11-05</td>\n",
       "      <td>362.28</td>\n",
       "    </tr>\n",
       "    <tr>\n",
       "      <th>87189</th>\n",
       "      <td>1404_56</td>\n",
       "      <td>1404</td>\n",
       "      <td>2018-08-08</td>\n",
       "      <td>623.54</td>\n",
       "    </tr>\n",
       "  </tbody>\n",
       "</table>\n",
       "</div>"
      ],
      "text/plain": [
       "             id  user_id session_date  mb_used\n",
       "84576  1394_118     1394   2018-10-07   653.92\n",
       "64012  1293_572     1293   2018-12-11   408.64\n",
       "37452  1169_319     1169   2018-12-10   430.18\n",
       "48358   1215_80     1215   2018-10-24   917.58\n",
       "56851  1257_118     1257   2018-10-04    66.72\n",
       "79361    1370_0     1370   2018-11-25   287.78\n",
       "14748   1067_69     1067   2018-11-19   210.83\n",
       "48797  1217_137     1217   2018-10-06   200.55\n",
       "6436   1036_209     1036   2018-07-25   601.83\n",
       "45500  1201_366     1201   2018-11-14   565.38\n",
       "49488  1221_312     1221   2018-12-25   581.06\n",
       "36808  1165_310     1165   2018-12-15   519.56\n",
       "90493   1417_33     1417   2018-09-23   239.33\n",
       "35228   1159_65     1159   2018-11-05   362.28\n",
       "87189   1404_56     1404   2018-08-08   623.54"
      ]
     },
     "execution_count": 37,
     "metadata": {},
     "output_type": "execute_result"
    }
   ],
   "source": [
    "internet_sample = internet.sample(n = 15)\n",
    "internet_sample\n"
   ]
  },
  {
   "cell_type": "markdown",
   "metadata": {
    "id": "EzOG5ik30q1D"
   },
   "source": [
    "Modificamos el tipo de datos de fecha. Debido a que el tráfico de datos se maneja en mb y el cobro es en gb, en los calculos posteriores vamos a hacer la conversión gb = mb*1024, y al momento de hacer el cobro consideramos el entero posterior. De modo que si tenemos un decimal redondeamos al entero siguiente."
   ]
  },
  {
   "cell_type": "markdown",
   "metadata": {
    "id": "yA0tkPFg0q1D"
   },
   "source": [
    "### Corregir los datos"
   ]
  },
  {
   "cell_type": "code",
   "execution_count": 38,
   "metadata": {
    "id": "zVeanzdd0q1E"
   },
   "outputs": [],
   "source": [
    "internet['session_date'] = pd.to_datetime(internet['session_date'], format='%Y-%m-%d')"
   ]
  },
  {
   "cell_type": "markdown",
   "metadata": {
    "id": "e8_mLF4a0q1E"
   },
   "source": [
    "### Enriquecer los datos"
   ]
  },
  {
   "cell_type": "code",
   "execution_count": 39,
   "metadata": {
    "id": "ESiYPIEK0q1E"
   },
   "outputs": [],
   "source": [
    "internet[\"month\"] = internet[\"session_date\"].dt.to_period(\"M\").dt.start_time"
   ]
  },
  {
   "cell_type": "markdown",
   "metadata": {
    "id": "3UA2cqIW0q1E"
   },
   "source": [
    "## Estudiar las condiciones de las tarifas"
   ]
  },
  {
   "cell_type": "markdown",
   "metadata": {
    "id": "T86Sqltq0q1F"
   },
   "source": [
    "Imprimiremos las condiciones de las tarifas para tenerlos presentes en los siguientes pasos."
   ]
  },
  {
   "cell_type": "code",
   "execution_count": 40,
   "metadata": {
    "id": "i409op8p0q1F"
   },
   "outputs": [
    {
     "data": {
      "text/html": [
       "<div>\n",
       "<style scoped>\n",
       "    .dataframe tbody tr th:only-of-type {\n",
       "        vertical-align: middle;\n",
       "    }\n",
       "\n",
       "    .dataframe tbody tr th {\n",
       "        vertical-align: top;\n",
       "    }\n",
       "\n",
       "    .dataframe thead th {\n",
       "        text-align: right;\n",
       "    }\n",
       "</style>\n",
       "<table border=\"1\" class=\"dataframe\">\n",
       "  <thead>\n",
       "    <tr style=\"text-align: right;\">\n",
       "      <th></th>\n",
       "      <th>messages_included</th>\n",
       "      <th>mb_per_month_included</th>\n",
       "      <th>minutes_included</th>\n",
       "      <th>usd_monthly_pay</th>\n",
       "      <th>usd_per_gb</th>\n",
       "      <th>usd_per_message</th>\n",
       "      <th>usd_per_minute</th>\n",
       "      <th>plan_name</th>\n",
       "    </tr>\n",
       "  </thead>\n",
       "  <tbody>\n",
       "    <tr>\n",
       "      <th>0</th>\n",
       "      <td>50</td>\n",
       "      <td>15360</td>\n",
       "      <td>500</td>\n",
       "      <td>20</td>\n",
       "      <td>10</td>\n",
       "      <td>0.03</td>\n",
       "      <td>0.03</td>\n",
       "      <td>surf</td>\n",
       "    </tr>\n",
       "    <tr>\n",
       "      <th>1</th>\n",
       "      <td>1000</td>\n",
       "      <td>30720</td>\n",
       "      <td>3000</td>\n",
       "      <td>70</td>\n",
       "      <td>7</td>\n",
       "      <td>0.01</td>\n",
       "      <td>0.01</td>\n",
       "      <td>ultimate</td>\n",
       "    </tr>\n",
       "  </tbody>\n",
       "</table>\n",
       "</div>"
      ],
      "text/plain": [
       "   messages_included  mb_per_month_included  minutes_included  \\\n",
       "0                 50                  15360               500   \n",
       "1               1000                  30720              3000   \n",
       "\n",
       "   usd_monthly_pay  usd_per_gb  usd_per_message  usd_per_minute plan_name  \n",
       "0               20          10             0.03            0.03      surf  \n",
       "1               70           7             0.01            0.01  ultimate  "
      ]
     },
     "execution_count": 40,
     "metadata": {},
     "output_type": "execute_result"
    }
   ],
   "source": [
    "# Imprime las condiciones de la tarifa y asegúrate de que te quedan claras\n",
    "plans\n"
   ]
  },
  {
   "cell_type": "markdown",
   "metadata": {
    "id": "hMR1tP5d0q1F"
   },
   "source": [
    "## Agregar datos por usuario\n",
    "\n",
    "Agregaremos los datos por usuario y por periodo para que solo haya un registro por usuario y por periodo. "
   ]
  },
  {
   "cell_type": "code",
   "execution_count": 41,
   "metadata": {
    "id": "A332cedB0q1G"
   },
   "outputs": [
    {
     "data": {
      "text/html": [
       "<div>\n",
       "<style scoped>\n",
       "    .dataframe tbody tr th:only-of-type {\n",
       "        vertical-align: middle;\n",
       "    }\n",
       "\n",
       "    .dataframe tbody tr th {\n",
       "        vertical-align: top;\n",
       "    }\n",
       "\n",
       "    .dataframe thead th {\n",
       "        text-align: right;\n",
       "    }\n",
       "</style>\n",
       "<table border=\"1\" class=\"dataframe\">\n",
       "  <thead>\n",
       "    <tr style=\"text-align: right;\">\n",
       "      <th></th>\n",
       "      <th>user_id</th>\n",
       "      <th>month</th>\n",
       "      <th>total_calls</th>\n",
       "      <th>total_minutes</th>\n",
       "    </tr>\n",
       "  </thead>\n",
       "  <tbody>\n",
       "    <tr>\n",
       "      <th>0</th>\n",
       "      <td>1000</td>\n",
       "      <td>2018-12-01</td>\n",
       "      <td>16</td>\n",
       "      <td>116.83</td>\n",
       "    </tr>\n",
       "    <tr>\n",
       "      <th>1</th>\n",
       "      <td>1001</td>\n",
       "      <td>2018-08-01</td>\n",
       "      <td>27</td>\n",
       "      <td>171.14</td>\n",
       "    </tr>\n",
       "    <tr>\n",
       "      <th>2</th>\n",
       "      <td>1001</td>\n",
       "      <td>2018-09-01</td>\n",
       "      <td>49</td>\n",
       "      <td>297.69</td>\n",
       "    </tr>\n",
       "    <tr>\n",
       "      <th>3</th>\n",
       "      <td>1001</td>\n",
       "      <td>2018-10-01</td>\n",
       "      <td>65</td>\n",
       "      <td>374.11</td>\n",
       "    </tr>\n",
       "    <tr>\n",
       "      <th>4</th>\n",
       "      <td>1001</td>\n",
       "      <td>2018-11-01</td>\n",
       "      <td>64</td>\n",
       "      <td>404.59</td>\n",
       "    </tr>\n",
       "    <tr>\n",
       "      <th>5</th>\n",
       "      <td>1001</td>\n",
       "      <td>2018-12-01</td>\n",
       "      <td>56</td>\n",
       "      <td>392.93</td>\n",
       "    </tr>\n",
       "    <tr>\n",
       "      <th>6</th>\n",
       "      <td>1002</td>\n",
       "      <td>2018-10-01</td>\n",
       "      <td>11</td>\n",
       "      <td>54.13</td>\n",
       "    </tr>\n",
       "    <tr>\n",
       "      <th>7</th>\n",
       "      <td>1002</td>\n",
       "      <td>2018-11-01</td>\n",
       "      <td>55</td>\n",
       "      <td>359.76</td>\n",
       "    </tr>\n",
       "    <tr>\n",
       "      <th>8</th>\n",
       "      <td>1002</td>\n",
       "      <td>2018-12-01</td>\n",
       "      <td>47</td>\n",
       "      <td>363.24</td>\n",
       "    </tr>\n",
       "    <tr>\n",
       "      <th>9</th>\n",
       "      <td>1003</td>\n",
       "      <td>2018-12-01</td>\n",
       "      <td>149</td>\n",
       "      <td>1041.00</td>\n",
       "    </tr>\n",
       "  </tbody>\n",
       "</table>\n",
       "</div>"
      ],
      "text/plain": [
       "   user_id      month  total_calls  total_minutes\n",
       "0     1000 2018-12-01           16         116.83\n",
       "1     1001 2018-08-01           27         171.14\n",
       "2     1001 2018-09-01           49         297.69\n",
       "3     1001 2018-10-01           65         374.11\n",
       "4     1001 2018-11-01           64         404.59\n",
       "5     1001 2018-12-01           56         392.93\n",
       "6     1002 2018-10-01           11          54.13\n",
       "7     1002 2018-11-01           55         359.76\n",
       "8     1002 2018-12-01           47         363.24\n",
       "9     1003 2018-12-01          149        1041.00"
      ]
     },
     "execution_count": 41,
     "metadata": {},
     "output_type": "execute_result"
    }
   ],
   "source": [
    "# Calcula el número de llamadas hechas por cada usuario al mes. Guarda el resultado.\n",
    "calls_by_month = calls.groupby(['user_id', 'month']).agg( #agrupamos en condición de usuario y mes\n",
    "    total_calls=('duration', 'count'), #hacemos un conteo de las llamadas\n",
    "    total_minutes=('duration', 'sum') #sumamos los minutos para calcular los minutos usados por usuario al mes\n",
    ").reset_index()\n",
    "\n",
    "calls_by_month.head(10)"
   ]
  },
  {
   "cell_type": "code",
   "execution_count": 42,
   "metadata": {
    "id": "CcQvNHn60q1G"
   },
   "outputs": [
    {
     "data": {
      "text/html": [
       "<div>\n",
       "<style scoped>\n",
       "    .dataframe tbody tr th:only-of-type {\n",
       "        vertical-align: middle;\n",
       "    }\n",
       "\n",
       "    .dataframe tbody tr th {\n",
       "        vertical-align: top;\n",
       "    }\n",
       "\n",
       "    .dataframe thead th {\n",
       "        text-align: right;\n",
       "    }\n",
       "</style>\n",
       "<table border=\"1\" class=\"dataframe\">\n",
       "  <thead>\n",
       "    <tr style=\"text-align: right;\">\n",
       "      <th></th>\n",
       "      <th>user_id</th>\n",
       "      <th>month</th>\n",
       "      <th>total_msns</th>\n",
       "    </tr>\n",
       "  </thead>\n",
       "  <tbody>\n",
       "    <tr>\n",
       "      <th>0</th>\n",
       "      <td>1000</td>\n",
       "      <td>2018-12-01</td>\n",
       "      <td>11</td>\n",
       "    </tr>\n",
       "    <tr>\n",
       "      <th>1</th>\n",
       "      <td>1001</td>\n",
       "      <td>2018-08-01</td>\n",
       "      <td>30</td>\n",
       "    </tr>\n",
       "    <tr>\n",
       "      <th>2</th>\n",
       "      <td>1001</td>\n",
       "      <td>2018-09-01</td>\n",
       "      <td>44</td>\n",
       "    </tr>\n",
       "    <tr>\n",
       "      <th>3</th>\n",
       "      <td>1001</td>\n",
       "      <td>2018-10-01</td>\n",
       "      <td>53</td>\n",
       "    </tr>\n",
       "    <tr>\n",
       "      <th>4</th>\n",
       "      <td>1001</td>\n",
       "      <td>2018-11-01</td>\n",
       "      <td>36</td>\n",
       "    </tr>\n",
       "    <tr>\n",
       "      <th>5</th>\n",
       "      <td>1001</td>\n",
       "      <td>2018-12-01</td>\n",
       "      <td>44</td>\n",
       "    </tr>\n",
       "    <tr>\n",
       "      <th>6</th>\n",
       "      <td>1002</td>\n",
       "      <td>2018-10-01</td>\n",
       "      <td>15</td>\n",
       "    </tr>\n",
       "    <tr>\n",
       "      <th>7</th>\n",
       "      <td>1002</td>\n",
       "      <td>2018-11-01</td>\n",
       "      <td>32</td>\n",
       "    </tr>\n",
       "    <tr>\n",
       "      <th>8</th>\n",
       "      <td>1002</td>\n",
       "      <td>2018-12-01</td>\n",
       "      <td>41</td>\n",
       "    </tr>\n",
       "    <tr>\n",
       "      <th>9</th>\n",
       "      <td>1003</td>\n",
       "      <td>2018-12-01</td>\n",
       "      <td>50</td>\n",
       "    </tr>\n",
       "  </tbody>\n",
       "</table>\n",
       "</div>"
      ],
      "text/plain": [
       "   user_id      month  total_msns\n",
       "0     1000 2018-12-01          11\n",
       "1     1001 2018-08-01          30\n",
       "2     1001 2018-09-01          44\n",
       "3     1001 2018-10-01          53\n",
       "4     1001 2018-11-01          36\n",
       "5     1001 2018-12-01          44\n",
       "6     1002 2018-10-01          15\n",
       "7     1002 2018-11-01          32\n",
       "8     1002 2018-12-01          41\n",
       "9     1003 2018-12-01          50"
      ]
     },
     "execution_count": 42,
     "metadata": {},
     "output_type": "execute_result"
    }
   ],
   "source": [
    "# Calcula el número de mensajes enviados por cada usuario al mes. Guarda el resultado.\n",
    "msns_by_month = msns.groupby(['user_id', 'month']).agg( #agrupamos en condición de usuario y mes\n",
    "    total_msns=('id', 'count'), #hacemos un conteo de las llamadas\n",
    ").reset_index()\n",
    "\n",
    "msns_by_month.head(10)\n"
   ]
  },
  {
   "cell_type": "code",
   "execution_count": 43,
   "metadata": {
    "id": "H1AqN2eG0q1H"
   },
   "outputs": [
    {
     "data": {
      "text/html": [
       "<div>\n",
       "<style scoped>\n",
       "    .dataframe tbody tr th:only-of-type {\n",
       "        vertical-align: middle;\n",
       "    }\n",
       "\n",
       "    .dataframe tbody tr th {\n",
       "        vertical-align: top;\n",
       "    }\n",
       "\n",
       "    .dataframe thead th {\n",
       "        text-align: right;\n",
       "    }\n",
       "</style>\n",
       "<table border=\"1\" class=\"dataframe\">\n",
       "  <thead>\n",
       "    <tr style=\"text-align: right;\">\n",
       "      <th></th>\n",
       "      <th>user_id</th>\n",
       "      <th>month</th>\n",
       "      <th>total_mb</th>\n",
       "    </tr>\n",
       "  </thead>\n",
       "  <tbody>\n",
       "    <tr>\n",
       "      <th>0</th>\n",
       "      <td>1000</td>\n",
       "      <td>2018-12-01</td>\n",
       "      <td>1901.47</td>\n",
       "    </tr>\n",
       "    <tr>\n",
       "      <th>1</th>\n",
       "      <td>1001</td>\n",
       "      <td>2018-08-01</td>\n",
       "      <td>6919.15</td>\n",
       "    </tr>\n",
       "    <tr>\n",
       "      <th>2</th>\n",
       "      <td>1001</td>\n",
       "      <td>2018-09-01</td>\n",
       "      <td>13314.82</td>\n",
       "    </tr>\n",
       "    <tr>\n",
       "      <th>3</th>\n",
       "      <td>1001</td>\n",
       "      <td>2018-10-01</td>\n",
       "      <td>22330.49</td>\n",
       "    </tr>\n",
       "    <tr>\n",
       "      <th>4</th>\n",
       "      <td>1001</td>\n",
       "      <td>2018-11-01</td>\n",
       "      <td>18504.30</td>\n",
       "    </tr>\n",
       "  </tbody>\n",
       "</table>\n",
       "</div>"
      ],
      "text/plain": [
       "   user_id      month  total_mb\n",
       "0     1000 2018-12-01   1901.47\n",
       "1     1001 2018-08-01   6919.15\n",
       "2     1001 2018-09-01  13314.82\n",
       "3     1001 2018-10-01  22330.49\n",
       "4     1001 2018-11-01  18504.30"
      ]
     },
     "execution_count": 43,
     "metadata": {},
     "output_type": "execute_result"
    }
   ],
   "source": [
    "# Calcula el volumen del tráfico de Internet usado por cada usuario al mes. Guarda el resultado.\n",
    "internet_by_month = internet.groupby(['user_id', 'month']).agg(\n",
    "    total_mb=('mb_used', 'sum')\n",
    ").reset_index()\n",
    "\n",
    "internet_by_month.head()\n"
   ]
  },
  {
   "cell_type": "markdown",
   "metadata": {
    "id": "VDfYXnj80q1H"
   },
   "source": [
    "Juntaremos los datos agregados en un DataFrame para que haya un registro que represente lo que consumió un usuario único en un mes determinado."
   ]
  },
  {
   "cell_type": "code",
   "execution_count": 44,
   "metadata": {
    "id": "FW99ykyf0q1H"
   },
   "outputs": [
    {
     "name": "stderr",
     "output_type": "stream",
     "text": [
      "C:\\Users\\erika\\AppData\\Local\\Temp\\ipykernel_9636\\1965876455.py:18: FutureWarning: A value is trying to be set on a copy of a DataFrame or Series through chained assignment using an inplace method.\n",
      "The behavior will change in pandas 3.0. This inplace method will never work because the intermediate object on which we are setting values always behaves as a copy.\n",
      "\n",
      "For example, when doing 'df[col].method(value, inplace=True)', try using 'df.method({col: value}, inplace=True)' or df[col] = df[col].method(value) instead, to perform the operation inplace on the original object.\n",
      "\n",
      "\n",
      "  combined[col].fillna(0, inplace = True)\n"
     ]
    },
    {
     "data": {
      "text/html": [
       "<div>\n",
       "<style scoped>\n",
       "    .dataframe tbody tr th:only-of-type {\n",
       "        vertical-align: middle;\n",
       "    }\n",
       "\n",
       "    .dataframe tbody tr th {\n",
       "        vertical-align: top;\n",
       "    }\n",
       "\n",
       "    .dataframe thead th {\n",
       "        text-align: right;\n",
       "    }\n",
       "</style>\n",
       "<table border=\"1\" class=\"dataframe\">\n",
       "  <thead>\n",
       "    <tr style=\"text-align: right;\">\n",
       "      <th></th>\n",
       "      <th>user_id</th>\n",
       "      <th>month</th>\n",
       "      <th>total_mb</th>\n",
       "      <th>total_calls</th>\n",
       "      <th>total_minutes</th>\n",
       "      <th>total_msns</th>\n",
       "    </tr>\n",
       "  </thead>\n",
       "  <tbody>\n",
       "    <tr>\n",
       "      <th>0</th>\n",
       "      <td>1000</td>\n",
       "      <td>2018-12-01</td>\n",
       "      <td>1901.47</td>\n",
       "      <td>16.0</td>\n",
       "      <td>116.83</td>\n",
       "      <td>11.0</td>\n",
       "    </tr>\n",
       "    <tr>\n",
       "      <th>1</th>\n",
       "      <td>1001</td>\n",
       "      <td>2018-08-01</td>\n",
       "      <td>6919.15</td>\n",
       "      <td>27.0</td>\n",
       "      <td>171.14</td>\n",
       "      <td>30.0</td>\n",
       "    </tr>\n",
       "    <tr>\n",
       "      <th>2</th>\n",
       "      <td>1001</td>\n",
       "      <td>2018-09-01</td>\n",
       "      <td>13314.82</td>\n",
       "      <td>49.0</td>\n",
       "      <td>297.69</td>\n",
       "      <td>44.0</td>\n",
       "    </tr>\n",
       "    <tr>\n",
       "      <th>3</th>\n",
       "      <td>1001</td>\n",
       "      <td>2018-10-01</td>\n",
       "      <td>22330.49</td>\n",
       "      <td>65.0</td>\n",
       "      <td>374.11</td>\n",
       "      <td>53.0</td>\n",
       "    </tr>\n",
       "    <tr>\n",
       "      <th>4</th>\n",
       "      <td>1001</td>\n",
       "      <td>2018-11-01</td>\n",
       "      <td>18504.30</td>\n",
       "      <td>64.0</td>\n",
       "      <td>404.59</td>\n",
       "      <td>36.0</td>\n",
       "    </tr>\n",
       "  </tbody>\n",
       "</table>\n",
       "</div>"
      ],
      "text/plain": [
       "   user_id      month  total_mb  total_calls  total_minutes  total_msns\n",
       "0     1000 2018-12-01   1901.47         16.0         116.83        11.0\n",
       "1     1001 2018-08-01   6919.15         27.0         171.14        30.0\n",
       "2     1001 2018-09-01  13314.82         49.0         297.69        44.0\n",
       "3     1001 2018-10-01  22330.49         65.0         374.11        53.0\n",
       "4     1001 2018-11-01  18504.30         64.0         404.59        36.0"
      ]
     },
     "execution_count": 44,
     "metadata": {},
     "output_type": "execute_result"
    }
   ],
   "source": [
    "# Fusiona los datos de llamadas, minutos, mensajes e Internet con base en user_id y month\n",
    "combi = pd.merge(\n",
    "    calls_by_month,\n",
    "    msns_by_month,\n",
    "    on = ['user_id', 'month'],\n",
    "    how = 'outer') #el como outer funciona para no excluir los meses en los que solo hay llamadas o solo mensajes\n",
    "\n",
    "#hacemos otra combinación entre la tabla que incluye llamadas y mensajes con la de internet\n",
    "combined = pd.merge(\n",
    "    internet_by_month,\n",
    "    combi,\n",
    "    on = ['user_id', 'month'],\n",
    "    how = 'outer')\n",
    "\n",
    "fill_cols = ['total_calls', 'total_minutes', 'total_mb', 'total_msns'] #rellenamos valores nulos\n",
    "\n",
    "for col in fill_cols:\n",
    "    combined[col].fillna(0, inplace = True)\n",
    "\n",
    "combined.head()\n",
    "\n"
   ]
  },
  {
   "cell_type": "code",
   "execution_count": 45,
   "metadata": {
    "id": "0dNOXHag0q1H"
   },
   "outputs": [
    {
     "data": {
      "text/html": [
       "<div>\n",
       "<style scoped>\n",
       "    .dataframe tbody tr th:only-of-type {\n",
       "        vertical-align: middle;\n",
       "    }\n",
       "\n",
       "    .dataframe tbody tr th {\n",
       "        vertical-align: top;\n",
       "    }\n",
       "\n",
       "    .dataframe thead th {\n",
       "        text-align: right;\n",
       "    }\n",
       "</style>\n",
       "<table border=\"1\" class=\"dataframe\">\n",
       "  <thead>\n",
       "    <tr style=\"text-align: right;\">\n",
       "      <th></th>\n",
       "      <th>user_id</th>\n",
       "      <th>month</th>\n",
       "      <th>total_mb</th>\n",
       "      <th>total_calls</th>\n",
       "      <th>total_minutes</th>\n",
       "      <th>total_msns</th>\n",
       "      <th>first_name</th>\n",
       "      <th>last_name</th>\n",
       "      <th>age</th>\n",
       "      <th>city</th>\n",
       "      <th>...</th>\n",
       "      <th>plan</th>\n",
       "      <th>churn_date</th>\n",
       "      <th>messages_included</th>\n",
       "      <th>mb_per_month_included</th>\n",
       "      <th>minutes_included</th>\n",
       "      <th>usd_monthly_pay</th>\n",
       "      <th>usd_per_gb</th>\n",
       "      <th>usd_per_message</th>\n",
       "      <th>usd_per_minute</th>\n",
       "      <th>plan_name</th>\n",
       "    </tr>\n",
       "  </thead>\n",
       "  <tbody>\n",
       "    <tr>\n",
       "      <th>2041</th>\n",
       "      <td>1347</td>\n",
       "      <td>2018-11-01</td>\n",
       "      <td>23007.19</td>\n",
       "      <td>62.0</td>\n",
       "      <td>399.22</td>\n",
       "      <td>71.0</td>\n",
       "      <td>Trey</td>\n",
       "      <td>Lynch</td>\n",
       "      <td>65</td>\n",
       "      <td>Charleston-North Charleston, SC MSA</td>\n",
       "      <td>...</td>\n",
       "      <td>ultimate</td>\n",
       "      <td>NaT</td>\n",
       "      <td>1000</td>\n",
       "      <td>30720</td>\n",
       "      <td>3000</td>\n",
       "      <td>70</td>\n",
       "      <td>7</td>\n",
       "      <td>0.01</td>\n",
       "      <td>0.01</td>\n",
       "      <td>ultimate</td>\n",
       "    </tr>\n",
       "    <tr>\n",
       "      <th>948</th>\n",
       "      <td>1293</td>\n",
       "      <td>2018-09-01</td>\n",
       "      <td>32271.60</td>\n",
       "      <td>80.0</td>\n",
       "      <td>500.87</td>\n",
       "      <td>96.0</td>\n",
       "      <td>Lanny</td>\n",
       "      <td>Nolan</td>\n",
       "      <td>23</td>\n",
       "      <td>Philadelphia-Camden-Wilmington, PA-NJ-DE-MD MSA</td>\n",
       "      <td>...</td>\n",
       "      <td>surf</td>\n",
       "      <td>NaT</td>\n",
       "      <td>50</td>\n",
       "      <td>15360</td>\n",
       "      <td>500</td>\n",
       "      <td>20</td>\n",
       "      <td>10</td>\n",
       "      <td>0.03</td>\n",
       "      <td>0.03</td>\n",
       "      <td>surf</td>\n",
       "    </tr>\n",
       "    <tr>\n",
       "      <th>2007</th>\n",
       "      <td>1304</td>\n",
       "      <td>2018-12-01</td>\n",
       "      <td>23251.89</td>\n",
       "      <td>65.0</td>\n",
       "      <td>507.47</td>\n",
       "      <td>59.0</td>\n",
       "      <td>Dominque</td>\n",
       "      <td>Cole</td>\n",
       "      <td>69</td>\n",
       "      <td>Birmingham-Hoover, AL MSA</td>\n",
       "      <td>...</td>\n",
       "      <td>ultimate</td>\n",
       "      <td>NaT</td>\n",
       "      <td>1000</td>\n",
       "      <td>30720</td>\n",
       "      <td>3000</td>\n",
       "      <td>70</td>\n",
       "      <td>7</td>\n",
       "      <td>0.01</td>\n",
       "      <td>0.01</td>\n",
       "      <td>ultimate</td>\n",
       "    </tr>\n",
       "    <tr>\n",
       "      <th>1099</th>\n",
       "      <td>1334</td>\n",
       "      <td>2018-12-01</td>\n",
       "      <td>14517.44</td>\n",
       "      <td>141.0</td>\n",
       "      <td>1009.95</td>\n",
       "      <td>17.0</td>\n",
       "      <td>Donovan</td>\n",
       "      <td>Horton</td>\n",
       "      <td>34</td>\n",
       "      <td>Seattle-Tacoma-Bellevue, WA MSA</td>\n",
       "      <td>...</td>\n",
       "      <td>surf</td>\n",
       "      <td>NaT</td>\n",
       "      <td>50</td>\n",
       "      <td>15360</td>\n",
       "      <td>500</td>\n",
       "      <td>20</td>\n",
       "      <td>10</td>\n",
       "      <td>0.03</td>\n",
       "      <td>0.03</td>\n",
       "      <td>surf</td>\n",
       "    </tr>\n",
       "    <tr>\n",
       "      <th>1175</th>\n",
       "      <td>1357</td>\n",
       "      <td>2018-08-01</td>\n",
       "      <td>19805.69</td>\n",
       "      <td>77.0</td>\n",
       "      <td>529.02</td>\n",
       "      <td>50.0</td>\n",
       "      <td>Ria</td>\n",
       "      <td>Beach</td>\n",
       "      <td>61</td>\n",
       "      <td>Baton Rouge, LA MSA</td>\n",
       "      <td>...</td>\n",
       "      <td>surf</td>\n",
       "      <td>NaT</td>\n",
       "      <td>50</td>\n",
       "      <td>15360</td>\n",
       "      <td>500</td>\n",
       "      <td>20</td>\n",
       "      <td>10</td>\n",
       "      <td>0.03</td>\n",
       "      <td>0.03</td>\n",
       "      <td>surf</td>\n",
       "    </tr>\n",
       "    <tr>\n",
       "      <th>1335</th>\n",
       "      <td>1402</td>\n",
       "      <td>2018-12-01</td>\n",
       "      <td>15993.80</td>\n",
       "      <td>56.0</td>\n",
       "      <td>372.04</td>\n",
       "      <td>0.0</td>\n",
       "      <td>Jesus</td>\n",
       "      <td>Berry</td>\n",
       "      <td>25</td>\n",
       "      <td>New York-Newark-Jersey City, NY-NJ-PA MSA</td>\n",
       "      <td>...</td>\n",
       "      <td>surf</td>\n",
       "      <td>2018-12-26</td>\n",
       "      <td>50</td>\n",
       "      <td>15360</td>\n",
       "      <td>500</td>\n",
       "      <td>20</td>\n",
       "      <td>10</td>\n",
       "      <td>0.03</td>\n",
       "      <td>0.03</td>\n",
       "      <td>surf</td>\n",
       "    </tr>\n",
       "    <tr>\n",
       "      <th>674</th>\n",
       "      <td>1203</td>\n",
       "      <td>2018-05-01</td>\n",
       "      <td>13325.49</td>\n",
       "      <td>75.0</td>\n",
       "      <td>554.96</td>\n",
       "      <td>63.0</td>\n",
       "      <td>Manie</td>\n",
       "      <td>Grimes</td>\n",
       "      <td>50</td>\n",
       "      <td>Boston-Cambridge-Newton, MA-NH MSA</td>\n",
       "      <td>...</td>\n",
       "      <td>surf</td>\n",
       "      <td>NaT</td>\n",
       "      <td>50</td>\n",
       "      <td>15360</td>\n",
       "      <td>500</td>\n",
       "      <td>20</td>\n",
       "      <td>10</td>\n",
       "      <td>0.03</td>\n",
       "      <td>0.03</td>\n",
       "      <td>surf</td>\n",
       "    </tr>\n",
       "    <tr>\n",
       "      <th>1492</th>\n",
       "      <td>1470</td>\n",
       "      <td>2018-12-01</td>\n",
       "      <td>0.00</td>\n",
       "      <td>78.0</td>\n",
       "      <td>560.44</td>\n",
       "      <td>153.0</td>\n",
       "      <td>Gerald</td>\n",
       "      <td>Reese</td>\n",
       "      <td>45</td>\n",
       "      <td>Washington-Arlington-Alexandria, DC-VA-MD-WV MSA</td>\n",
       "      <td>...</td>\n",
       "      <td>surf</td>\n",
       "      <td>NaT</td>\n",
       "      <td>50</td>\n",
       "      <td>15360</td>\n",
       "      <td>500</td>\n",
       "      <td>20</td>\n",
       "      <td>10</td>\n",
       "      <td>0.03</td>\n",
       "      <td>0.03</td>\n",
       "      <td>surf</td>\n",
       "    </tr>\n",
       "    <tr>\n",
       "      <th>2283</th>\n",
       "      <td>1478</td>\n",
       "      <td>2018-09-01</td>\n",
       "      <td>19428.57</td>\n",
       "      <td>61.0</td>\n",
       "      <td>421.54</td>\n",
       "      <td>17.0</td>\n",
       "      <td>Elane</td>\n",
       "      <td>David</td>\n",
       "      <td>51</td>\n",
       "      <td>Portland-Vancouver-Hillsboro, OR-WA MSA</td>\n",
       "      <td>...</td>\n",
       "      <td>ultimate</td>\n",
       "      <td>NaT</td>\n",
       "      <td>1000</td>\n",
       "      <td>30720</td>\n",
       "      <td>3000</td>\n",
       "      <td>70</td>\n",
       "      <td>7</td>\n",
       "      <td>0.01</td>\n",
       "      <td>0.01</td>\n",
       "      <td>ultimate</td>\n",
       "    </tr>\n",
       "    <tr>\n",
       "      <th>184</th>\n",
       "      <td>1066</td>\n",
       "      <td>2018-10-01</td>\n",
       "      <td>21231.79</td>\n",
       "      <td>56.0</td>\n",
       "      <td>387.07</td>\n",
       "      <td>36.0</td>\n",
       "      <td>Ariel</td>\n",
       "      <td>Woods</td>\n",
       "      <td>61</td>\n",
       "      <td>Boston-Cambridge-Newton, MA-NH MSA</td>\n",
       "      <td>...</td>\n",
       "      <td>surf</td>\n",
       "      <td>NaT</td>\n",
       "      <td>50</td>\n",
       "      <td>15360</td>\n",
       "      <td>500</td>\n",
       "      <td>20</td>\n",
       "      <td>10</td>\n",
       "      <td>0.03</td>\n",
       "      <td>0.03</td>\n",
       "      <td>surf</td>\n",
       "    </tr>\n",
       "  </tbody>\n",
       "</table>\n",
       "<p>10 rows × 21 columns</p>\n",
       "</div>"
      ],
      "text/plain": [
       "      user_id      month  total_mb  total_calls  total_minutes  total_msns  \\\n",
       "2041     1347 2018-11-01  23007.19         62.0         399.22        71.0   \n",
       "948      1293 2018-09-01  32271.60         80.0         500.87        96.0   \n",
       "2007     1304 2018-12-01  23251.89         65.0         507.47        59.0   \n",
       "1099     1334 2018-12-01  14517.44        141.0        1009.95        17.0   \n",
       "1175     1357 2018-08-01  19805.69         77.0         529.02        50.0   \n",
       "1335     1402 2018-12-01  15993.80         56.0         372.04         0.0   \n",
       "674      1203 2018-05-01  13325.49         75.0         554.96        63.0   \n",
       "1492     1470 2018-12-01      0.00         78.0         560.44       153.0   \n",
       "2283     1478 2018-09-01  19428.57         61.0         421.54        17.0   \n",
       "184      1066 2018-10-01  21231.79         56.0         387.07        36.0   \n",
       "\n",
       "     first_name last_name  age  \\\n",
       "2041       Trey     Lynch   65   \n",
       "948       Lanny     Nolan   23   \n",
       "2007   Dominque      Cole   69   \n",
       "1099    Donovan    Horton   34   \n",
       "1175        Ria     Beach   61   \n",
       "1335      Jesus     Berry   25   \n",
       "674       Manie    Grimes   50   \n",
       "1492     Gerald     Reese   45   \n",
       "2283      Elane     David   51   \n",
       "184       Ariel     Woods   61   \n",
       "\n",
       "                                                  city  ...      plan  \\\n",
       "2041               Charleston-North Charleston, SC MSA  ...  ultimate   \n",
       "948    Philadelphia-Camden-Wilmington, PA-NJ-DE-MD MSA  ...      surf   \n",
       "2007                         Birmingham-Hoover, AL MSA  ...  ultimate   \n",
       "1099                   Seattle-Tacoma-Bellevue, WA MSA  ...      surf   \n",
       "1175                               Baton Rouge, LA MSA  ...      surf   \n",
       "1335         New York-Newark-Jersey City, NY-NJ-PA MSA  ...      surf   \n",
       "674                 Boston-Cambridge-Newton, MA-NH MSA  ...      surf   \n",
       "1492  Washington-Arlington-Alexandria, DC-VA-MD-WV MSA  ...      surf   \n",
       "2283           Portland-Vancouver-Hillsboro, OR-WA MSA  ...  ultimate   \n",
       "184                 Boston-Cambridge-Newton, MA-NH MSA  ...      surf   \n",
       "\n",
       "     churn_date messages_included  mb_per_month_included  minutes_included  \\\n",
       "2041        NaT              1000                  30720              3000   \n",
       "948         NaT                50                  15360               500   \n",
       "2007        NaT              1000                  30720              3000   \n",
       "1099        NaT                50                  15360               500   \n",
       "1175        NaT                50                  15360               500   \n",
       "1335 2018-12-26                50                  15360               500   \n",
       "674         NaT                50                  15360               500   \n",
       "1492        NaT                50                  15360               500   \n",
       "2283        NaT              1000                  30720              3000   \n",
       "184         NaT                50                  15360               500   \n",
       "\n",
       "      usd_monthly_pay  usd_per_gb  usd_per_message  usd_per_minute  plan_name  \n",
       "2041               70           7             0.01            0.01   ultimate  \n",
       "948                20          10             0.03            0.03       surf  \n",
       "2007               70           7             0.01            0.01   ultimate  \n",
       "1099               20          10             0.03            0.03       surf  \n",
       "1175               20          10             0.03            0.03       surf  \n",
       "1335               20          10             0.03            0.03       surf  \n",
       "674                20          10             0.03            0.03       surf  \n",
       "1492               20          10             0.03            0.03       surf  \n",
       "2283               70           7             0.01            0.01   ultimate  \n",
       "184                20          10             0.03            0.03       surf  \n",
       "\n",
       "[10 rows x 21 columns]"
      ]
     },
     "execution_count": 45,
     "metadata": {},
     "output_type": "execute_result"
    }
   ],
   "source": [
    "# Añade la información de la tarifa\n",
    "combined_user = pd.merge(\n",
    "    combined,\n",
    "    users,\n",
    "    on = 'user_id',\n",
    "    how ='outer')\n",
    "\n",
    "combined_user_plan = pd.merge(\n",
    "    combined_user,\n",
    "    plans,\n",
    "    left_on = 'plan',\n",
    "    right_on = 'plan_name',\n",
    "    how='outer')\n",
    "\n",
    "combined_user_plan.sample(n=10)\n"
   ]
  },
  {
   "cell_type": "markdown",
   "metadata": {
    "id": "1IwGo4wg0q1I"
   },
   "source": [
    "Calculamos los ingresos mensuales por usuario, restando el límite del paquete gratuito del número total de llamadas, mensajes de texto y datos; multiplicamos el resultado por las tarifas y la sumamos al costo del plan."
   ]
  },
  {
   "cell_type": "code",
   "execution_count": 46,
   "metadata": {
    "id": "5FGCf_c60q1I"
   },
   "outputs": [
    {
     "data": {
      "text/html": [
       "<div>\n",
       "<style scoped>\n",
       "    .dataframe tbody tr th:only-of-type {\n",
       "        vertical-align: middle;\n",
       "    }\n",
       "\n",
       "    .dataframe tbody tr th {\n",
       "        vertical-align: top;\n",
       "    }\n",
       "\n",
       "    .dataframe thead th {\n",
       "        text-align: right;\n",
       "    }\n",
       "</style>\n",
       "<table border=\"1\" class=\"dataframe\">\n",
       "  <thead>\n",
       "    <tr style=\"text-align: right;\">\n",
       "      <th></th>\n",
       "      <th>user_id</th>\n",
       "      <th>plan</th>\n",
       "      <th>month</th>\n",
       "      <th>income</th>\n",
       "      <th>excess_gb</th>\n",
       "      <th>excess_minutes</th>\n",
       "      <th>excess_msns</th>\n",
       "    </tr>\n",
       "  </thead>\n",
       "  <tbody>\n",
       "    <tr>\n",
       "      <th>906</th>\n",
       "      <td>1280</td>\n",
       "      <td>surf</td>\n",
       "      <td>2018-10-01</td>\n",
       "      <td>41.83</td>\n",
       "      <td>2.0</td>\n",
       "      <td>55.0</td>\n",
       "      <td>6.0</td>\n",
       "    </tr>\n",
       "    <tr>\n",
       "      <th>280</th>\n",
       "      <td>1090</td>\n",
       "      <td>surf</td>\n",
       "      <td>2018-12-01</td>\n",
       "      <td>20.00</td>\n",
       "      <td>0.0</td>\n",
       "      <td>0.0</td>\n",
       "      <td>0.0</td>\n",
       "    </tr>\n",
       "    <tr>\n",
       "      <th>190</th>\n",
       "      <td>1067</td>\n",
       "      <td>surf</td>\n",
       "      <td>2018-12-01</td>\n",
       "      <td>30.00</td>\n",
       "      <td>1.0</td>\n",
       "      <td>0.0</td>\n",
       "      <td>0.0</td>\n",
       "    </tr>\n",
       "    <tr>\n",
       "      <th>253</th>\n",
       "      <td>1081</td>\n",
       "      <td>surf</td>\n",
       "      <td>2018-11-01</td>\n",
       "      <td>20.00</td>\n",
       "      <td>0.0</td>\n",
       "      <td>0.0</td>\n",
       "      <td>0.0</td>\n",
       "    </tr>\n",
       "    <tr>\n",
       "      <th>904</th>\n",
       "      <td>1280</td>\n",
       "      <td>surf</td>\n",
       "      <td>2018-08-01</td>\n",
       "      <td>20.45</td>\n",
       "      <td>0.0</td>\n",
       "      <td>0.0</td>\n",
       "      <td>15.0</td>\n",
       "    </tr>\n",
       "    <tr>\n",
       "      <th>2183</th>\n",
       "      <td>1432</td>\n",
       "      <td>ultimate</td>\n",
       "      <td>2018-10-01</td>\n",
       "      <td>70.00</td>\n",
       "      <td>0.0</td>\n",
       "      <td>0.0</td>\n",
       "      <td>0.0</td>\n",
       "    </tr>\n",
       "    <tr>\n",
       "      <th>1286</th>\n",
       "      <td>1387</td>\n",
       "      <td>surf</td>\n",
       "      <td>2018-11-01</td>\n",
       "      <td>63.63</td>\n",
       "      <td>4.0</td>\n",
       "      <td>121.0</td>\n",
       "      <td>0.0</td>\n",
       "    </tr>\n",
       "    <tr>\n",
       "      <th>315</th>\n",
       "      <td>1099</td>\n",
       "      <td>surf</td>\n",
       "      <td>2018-12-01</td>\n",
       "      <td>30.36</td>\n",
       "      <td>1.0</td>\n",
       "      <td>12.0</td>\n",
       "      <td>0.0</td>\n",
       "    </tr>\n",
       "    <tr>\n",
       "      <th>1392</th>\n",
       "      <td>1421</td>\n",
       "      <td>surf</td>\n",
       "      <td>2018-10-01</td>\n",
       "      <td>20.00</td>\n",
       "      <td>0.0</td>\n",
       "      <td>0.0</td>\n",
       "      <td>0.0</td>\n",
       "    </tr>\n",
       "    <tr>\n",
       "      <th>1003</th>\n",
       "      <td>1312</td>\n",
       "      <td>surf</td>\n",
       "      <td>2018-10-01</td>\n",
       "      <td>80.00</td>\n",
       "      <td>6.0</td>\n",
       "      <td>0.0</td>\n",
       "      <td>0.0</td>\n",
       "    </tr>\n",
       "    <tr>\n",
       "      <th>1471</th>\n",
       "      <td>1466</td>\n",
       "      <td>surf</td>\n",
       "      <td>2018-05-01</td>\n",
       "      <td>20.00</td>\n",
       "      <td>0.0</td>\n",
       "      <td>0.0</td>\n",
       "      <td>0.0</td>\n",
       "    </tr>\n",
       "    <tr>\n",
       "      <th>631</th>\n",
       "      <td>1187</td>\n",
       "      <td>surf</td>\n",
       "      <td>2018-09-01</td>\n",
       "      <td>33.57</td>\n",
       "      <td>1.0</td>\n",
       "      <td>119.0</td>\n",
       "      <td>0.0</td>\n",
       "    </tr>\n",
       "    <tr>\n",
       "      <th>1423</th>\n",
       "      <td>1438</td>\n",
       "      <td>surf</td>\n",
       "      <td>2018-11-01</td>\n",
       "      <td>50.00</td>\n",
       "      <td>3.0</td>\n",
       "      <td>0.0</td>\n",
       "      <td>0.0</td>\n",
       "    </tr>\n",
       "    <tr>\n",
       "      <th>435</th>\n",
       "      <td>1134</td>\n",
       "      <td>surf</td>\n",
       "      <td>2018-09-01</td>\n",
       "      <td>30.00</td>\n",
       "      <td>1.0</td>\n",
       "      <td>0.0</td>\n",
       "      <td>0.0</td>\n",
       "    </tr>\n",
       "    <tr>\n",
       "      <th>1118</th>\n",
       "      <td>1338</td>\n",
       "      <td>surf</td>\n",
       "      <td>2018-08-01</td>\n",
       "      <td>20.00</td>\n",
       "      <td>0.0</td>\n",
       "      <td>0.0</td>\n",
       "      <td>0.0</td>\n",
       "    </tr>\n",
       "    <tr>\n",
       "      <th>933</th>\n",
       "      <td>1291</td>\n",
       "      <td>surf</td>\n",
       "      <td>2018-05-01</td>\n",
       "      <td>20.90</td>\n",
       "      <td>0.0</td>\n",
       "      <td>30.0</td>\n",
       "      <td>0.0</td>\n",
       "    </tr>\n",
       "    <tr>\n",
       "      <th>665</th>\n",
       "      <td>1201</td>\n",
       "      <td>surf</td>\n",
       "      <td>2018-06-01</td>\n",
       "      <td>110.00</td>\n",
       "      <td>9.0</td>\n",
       "      <td>0.0</td>\n",
       "      <td>0.0</td>\n",
       "    </tr>\n",
       "    <tr>\n",
       "      <th>1508</th>\n",
       "      <td>1479</td>\n",
       "      <td>surf</td>\n",
       "      <td>2018-11-01</td>\n",
       "      <td>21.26</td>\n",
       "      <td>0.0</td>\n",
       "      <td>42.0</td>\n",
       "      <td>0.0</td>\n",
       "    </tr>\n",
       "    <tr>\n",
       "      <th>324</th>\n",
       "      <td>1101</td>\n",
       "      <td>surf</td>\n",
       "      <td>2018-07-01</td>\n",
       "      <td>20.48</td>\n",
       "      <td>0.0</td>\n",
       "      <td>0.0</td>\n",
       "      <td>16.0</td>\n",
       "    </tr>\n",
       "    <tr>\n",
       "      <th>896</th>\n",
       "      <td>1277</td>\n",
       "      <td>surf</td>\n",
       "      <td>2018-09-01</td>\n",
       "      <td>48.28</td>\n",
       "      <td>2.0</td>\n",
       "      <td>276.0</td>\n",
       "      <td>0.0</td>\n",
       "    </tr>\n",
       "    <tr>\n",
       "      <th>863</th>\n",
       "      <td>1263</td>\n",
       "      <td>surf</td>\n",
       "      <td>2018-07-01</td>\n",
       "      <td>60.00</td>\n",
       "      <td>4.0</td>\n",
       "      <td>0.0</td>\n",
       "      <td>0.0</td>\n",
       "    </tr>\n",
       "    <tr>\n",
       "      <th>1481</th>\n",
       "      <td>1468</td>\n",
       "      <td>surf</td>\n",
       "      <td>2018-11-01</td>\n",
       "      <td>60.00</td>\n",
       "      <td>4.0</td>\n",
       "      <td>0.0</td>\n",
       "      <td>0.0</td>\n",
       "    </tr>\n",
       "    <tr>\n",
       "      <th>1548</th>\n",
       "      <td>1492</td>\n",
       "      <td>surf</td>\n",
       "      <td>2018-12-01</td>\n",
       "      <td>20.00</td>\n",
       "      <td>0.0</td>\n",
       "      <td>0.0</td>\n",
       "      <td>0.0</td>\n",
       "    </tr>\n",
       "    <tr>\n",
       "      <th>581</th>\n",
       "      <td>1174</td>\n",
       "      <td>surf</td>\n",
       "      <td>2018-06-01</td>\n",
       "      <td>74.53</td>\n",
       "      <td>5.0</td>\n",
       "      <td>119.0</td>\n",
       "      <td>32.0</td>\n",
       "    </tr>\n",
       "    <tr>\n",
       "      <th>865</th>\n",
       "      <td>1263</td>\n",
       "      <td>surf</td>\n",
       "      <td>2018-09-01</td>\n",
       "      <td>80.75</td>\n",
       "      <td>6.0</td>\n",
       "      <td>25.0</td>\n",
       "      <td>0.0</td>\n",
       "    </tr>\n",
       "  </tbody>\n",
       "</table>\n",
       "</div>"
      ],
      "text/plain": [
       "      user_id      plan      month  income  excess_gb  excess_minutes  \\\n",
       "906      1280      surf 2018-10-01   41.83        2.0            55.0   \n",
       "280      1090      surf 2018-12-01   20.00        0.0             0.0   \n",
       "190      1067      surf 2018-12-01   30.00        1.0             0.0   \n",
       "253      1081      surf 2018-11-01   20.00        0.0             0.0   \n",
       "904      1280      surf 2018-08-01   20.45        0.0             0.0   \n",
       "2183     1432  ultimate 2018-10-01   70.00        0.0             0.0   \n",
       "1286     1387      surf 2018-11-01   63.63        4.0           121.0   \n",
       "315      1099      surf 2018-12-01   30.36        1.0            12.0   \n",
       "1392     1421      surf 2018-10-01   20.00        0.0             0.0   \n",
       "1003     1312      surf 2018-10-01   80.00        6.0             0.0   \n",
       "1471     1466      surf 2018-05-01   20.00        0.0             0.0   \n",
       "631      1187      surf 2018-09-01   33.57        1.0           119.0   \n",
       "1423     1438      surf 2018-11-01   50.00        3.0             0.0   \n",
       "435      1134      surf 2018-09-01   30.00        1.0             0.0   \n",
       "1118     1338      surf 2018-08-01   20.00        0.0             0.0   \n",
       "933      1291      surf 2018-05-01   20.90        0.0            30.0   \n",
       "665      1201      surf 2018-06-01  110.00        9.0             0.0   \n",
       "1508     1479      surf 2018-11-01   21.26        0.0            42.0   \n",
       "324      1101      surf 2018-07-01   20.48        0.0             0.0   \n",
       "896      1277      surf 2018-09-01   48.28        2.0           276.0   \n",
       "863      1263      surf 2018-07-01   60.00        4.0             0.0   \n",
       "1481     1468      surf 2018-11-01   60.00        4.0             0.0   \n",
       "1548     1492      surf 2018-12-01   20.00        0.0             0.0   \n",
       "581      1174      surf 2018-06-01   74.53        5.0           119.0   \n",
       "865      1263      surf 2018-09-01   80.75        6.0            25.0   \n",
       "\n",
       "      excess_msns  \n",
       "906           6.0  \n",
       "280           0.0  \n",
       "190           0.0  \n",
       "253           0.0  \n",
       "904          15.0  \n",
       "2183          0.0  \n",
       "1286          0.0  \n",
       "315           0.0  \n",
       "1392          0.0  \n",
       "1003          0.0  \n",
       "1471          0.0  \n",
       "631           0.0  \n",
       "1423          0.0  \n",
       "435           0.0  \n",
       "1118          0.0  \n",
       "933           0.0  \n",
       "665           0.0  \n",
       "1508          0.0  \n",
       "324          16.0  \n",
       "896           0.0  \n",
       "863           0.0  \n",
       "1481          0.0  \n",
       "1548          0.0  \n",
       "581          32.0  \n",
       "865           0.0  "
      ]
     },
     "execution_count": 46,
     "metadata": {},
     "output_type": "execute_result"
    }
   ],
   "source": [
    "# Calcula el ingreso mensual para cada usuario\n",
    "gral_data = combined_user_plan.copy() #renombramos la tabla conjunta y almacenamos una copia para simplicidad\n",
    "\n",
    "#exceso de consumo de internet\n",
    "gral_data[\"excess_mb\"] = gral_data[\"total_mb\"] - gral_data[\"mb_per_month_included\"] #establecemos los mb excedidos al hacer una resta entre lo gastado y lo incluido\n",
    "gral_data.loc[gral_data[\"excess_mb\"] < 0, \"excess_mb\"] = 0 #como hay usuarios que no consumieron todos sus mb y tendrán resultados negativos, estableceremos esta condición.\n",
    "gral_data[\"excess_gb\"] = gral_data[\"excess_mb\"]/1024 #convertimos mb a gb\n",
    "gral_data[\"excess_gb\"] = np.ceil(gral_data[\"excess_gb\"]) #usamos la función techo para ir al proximo numero entero\n",
    "gral_data[\"income_gb\"] = gral_data[\"excess_gb\"] * gral_data[\"usd_per_gb\"] #establecemos el cobro por el exceso de datos\n",
    "\n",
    "#exceso de minutos en llamadas\n",
    "gral_data[\"excess_minutes\"] = gral_data[\"total_minutes\"] - gral_data[\"minutes_included\"] #encontramos los minutos excedidos del plan\n",
    "gral_data.loc[gral_data[\"excess_minutes\"] < 0, \"excess_minutes\"] = 0 #descartamos valores negativos\n",
    "gral_data[\"excess_minutes\"] = np.ceil(gral_data[\"excess_minutes\"]) #redondeamos los segundos al siguiente minuto\n",
    "gral_data[\"income_calls\"] = gral_data[\"excess_minutes\"] * gral_data[\"usd_per_minute\"] #establecemos el cobro por elexceso de minutis\n",
    "\n",
    "#exceso de mensajes\n",
    "gral_data[\"excess_msns\"] = gral_data[\"total_msns\"] - gral_data[\"messages_included\"] #encontramos los mensajes excedidos del plan\n",
    "gral_data.loc[gral_data[\"excess_msns\"] < 0, \"excess_msns\"] = 0 #descartamos valores negativos\n",
    "gral_data[\"income_msns\"] = gral_data[\"excess_msns\"] * gral_data[\"usd_per_message\"] #establecemos el cobro por mensajes excedidos\n",
    "\n",
    "gral_data['income'] = gral_data['usd_monthly_pay'] #creamos la columna de ingresos considerando el monto del plan\n",
    "gral_data['income'] += (gral_data[\"income_gb\"] + gral_data[\"income_calls\"] + gral_data[\"income_msns\"]) #sumamos los cobros extras al pago mensual\n",
    "\n",
    "gral_data[[\"user_id\", \"plan\", \"month\", \"income\", \"excess_gb\", \"excess_minutes\", \"excess_msns\"]].sample(n = 25)\n"
   ]
  },
  {
   "cell_type": "markdown",
   "metadata": {
    "id": "-jtyHzJb0q1I"
   },
   "source": [
    "## Estudia el comportamiento de usuario"
   ]
  },
  {
   "cell_type": "markdown",
   "metadata": {
    "id": "vtW4CJEe0q1J"
   },
   "source": [
    "### Llamadas"
   ]
  },
  {
   "cell_type": "code",
   "execution_count": 47,
   "metadata": {
    "id": "Jf5v5--k0q1J"
   },
   "outputs": [
    {
     "data": {
      "image/png": "[encoded data removed]",
      "text/plain": [
       "<Figure size 800x400 with 1 Axes>"
      ]
     },
     "metadata": {},
     "output_type": "display_data"
    }
   ],
   "source": [
    "# Compara la duración promedio de llamadas por cada plan y por cada mes. Traza un gráfico de barras para visualizarla.\n",
    "#dividimos el dataframe en función de los planes\n",
    "df_surf = gral_data.query('plan == \"surf\"')\n",
    "df_ultimate = gral_data.query(\"plan == 'ultimate'\")\n",
    "\n",
    "\n",
    "gral_data_prom_s = df_surf.groupby('month')[\"total_minutes\"].mean()\n",
    "gral_data_prom_u = df_ultimate.groupby('month')[\"total_minutes\"].mean()\n",
    "plt.figure(figsize=(8,4)) #graficamos en conjunto ambas tarifas, considerando la el total de minutos.\n",
    "gral_data_prom_s.plot(kind='bar', x='month', y='total_minutes', alpha = 0.5, label = \"surf\" ) #un histograma compartido nos permitirá una mejor comparación\n",
    "gral_data_prom_u.plot(kind='bar', x='month', y='total_minutes', alpha = 0.5, color = \"yellow\", label = 'ultimate')\n",
    "plt.legend(title=\"Plan\")\n",
    "plt.xlabel(\"Mes\")\n",
    "plt.ylabel(\"Minutos\")\n",
    "plt.title(\"Minutos totales usados por usuarios de cada plan\")\n",
    "plt.show()\n"
   ]
  },
  {
   "cell_type": "code",
   "execution_count": 48,
   "metadata": {},
   "outputs": [
    {
     "data": {
      "image/png": "[encoded data removed]",
      "text/plain": [
       "<Figure size 800x400 with 1 Axes>"
      ]
     },
     "metadata": {},
     "output_type": "display_data"
    }
   ],
   "source": [
    "plt.figure(figsize=(8,4)) #graficamos en conjunto ambas tarifas, considerando la frecuencia y no los usuarios ya que hay menos usuarios con ultimate plan.\n",
    "df_surf['total_minutes'].hist(bins=40, density = True, alpha = 0.5, label = \"surf\" ) #un histograma compartido nos permitirá una mejor comparación\n",
    "df_ultimate['total_minutes'].hist(bins=40, density = True, alpha = 0.5, label = 'ultimate')\n",
    "plt.xlabel(\"Usuarios\")\n",
    "plt.ylabel(\"Densidad\")\n",
    "plt.legend(title=\"Plan\")\n",
    "plt.title(\"Distribución de minutos usados por plan\")\n",
    "plt.show()"
   ]
  },
  {
   "cell_type": "code",
   "execution_count": 49,
   "metadata": {
    "id": "QoLqW1S_0q1J"
   },
   "outputs": [
    {
     "data": {
      "image/png": "[encoded data removed]",
      "text/plain": [
       "<Figure size 800x400 with 1 Axes>"
      ]
     },
     "metadata": {},
     "output_type": "display_data"
    }
   ],
   "source": [
    "# Compara el número de minutos mensuales que necesitan los usuarios de cada plan. Traza un histograma.\n",
    "plt.figure(figsize=(8,4)) #graficamos en conjunto ambas tarifas, considerando la el total de minutos.\n",
    "df_surf['total_minutes'].hist(bins=40, alpha = 0.5, label = \"surf\" ) #un histograma compartido nos permitirá una mejor comparación\n",
    "df_ultimate['total_minutes'].hist(bins=40, alpha = 0.5, label = 'ultimate')\n",
    "plt.legend(title=\"Plan\")\n",
    "plt.xlabel(\"Usuarios\")\n",
    "plt.ylabel(\"Minutos\")\n",
    "plt.title(\"Minutos totales usados por usuarios de cada plan\")\n",
    "plt.show()\n"
   ]
  },
  {
   "cell_type": "code",
   "execution_count": 50,
   "metadata": {
    "id": "oSndbAnt0q1K"
   },
   "outputs": [
    {
     "name": "stdout",
     "output_type": "stream",
     "text": [
      "Promedio de duración mensual de llamadas por usuarios del plan Surf: 404.76239033693577\n",
      "Varianza de duración mensual de llamadas por usuarios del plan Surf: 49103.8683332564\n",
      "\n",
      "Promedio de duración mensual de llamadas por usuarios del plan Ultimate: 406.19308333333333\n",
      "Varianza de duración mensual de llamadas por usuarios del plan Ultimate: 51569.24783077083\n"
     ]
    }
   ],
   "source": [
    "# Calcula la media y la varianza de la duración mensual de llamadas.\n",
    "\n",
    "#usamos la función mean y var\n",
    "print(\"Promedio de duración mensual de llamadas por usuarios del plan Surf:\", df_surf[\"total_minutes\"].mean())\n",
    "print(\"Varianza de duración mensual de llamadas por usuarios del plan Surf:\", np.var(df_surf[\"total_minutes\"]))\n",
    "print(\"\")\n",
    "print(\"Promedio de duración mensual de llamadas por usuarios del plan Ultimate:\", df_ultimate[\"total_minutes\"].mean())\n",
    "print(\"Varianza de duración mensual de llamadas por usuarios del plan Ultimate:\", np.var(df_ultimate[\"total_minutes\"]))"
   ]
  },
  {
   "cell_type": "code",
   "execution_count": 51,
   "metadata": {
    "id": "nZzoRUKc0q1K"
   },
   "outputs": [
    {
     "data": {
      "image/png": "[encoded data removed]",
      "text/plain": [
       "<Figure size 1200x600 with 2 Axes>"
      ]
     },
     "metadata": {},
     "output_type": "display_data"
    }
   ],
   "source": [
    "# Traza un diagrama de caja para visualizar la distribución de la duración mensual de llamadas\n",
    "#haremos ambos diagramas en una sola figura\n",
    "\n",
    "#Creamos la figura y sus ejes\n",
    "fig, axes = plt.subplots(1, 2, figsize=(12, 6))\n",
    "\n",
    "# Gráfico de caja para 'Surf' en el primer subgráfico\n",
    "sns.boxplot(data=df_surf, y='total_minutes', ax=axes[0])\n",
    "axes[0].set_title(' Duración de llamadas mensual de usuarios Surf')\n",
    "\n",
    "# Gráfico de caja para 'Ultimate' en el segundo subgráfico\n",
    "sns.boxplot(data=df_ultimate, y='total_minutes', ax=axes[1])\n",
    "axes[1].set_title(' Duración de llamadas mensual de usuarios Ultimate')\n",
    "\n",
    "# Mostrar la figura\n",
    "plt.tight_layout()\n",
    "plt.show()"
   ]
  },
  {
   "cell_type": "markdown",
   "metadata": {
    "id": "r627zBO50q1K"
   },
   "source": [
    "A simple vista podemos deducir que el comportamiento en la duración de llamadas al mes no difiere significativamente, debido a que graficamente los usuarios de ambos planes tienen una forma similar. Fuera de los valores atípicos, los usuarios de ambos planes tienen un consumo de llamadas similar."
   ]
  },
  {
   "cell_type": "markdown",
   "metadata": {
    "id": "8idKy8Wh0q1L"
   },
   "source": [
    "### Mensajes"
   ]
  },
  {
   "cell_type": "code",
   "execution_count": 52,
   "metadata": {
    "id": "NXLxiTit0q1L"
   },
   "outputs": [
    {
     "data": {
      "image/png": "[encoded data removed]",
      "text/plain": [
       "<Figure size 800x400 with 1 Axes>"
      ]
     },
     "metadata": {},
     "output_type": "display_data"
    }
   ],
   "source": [
    "# Comprara el número de mensajes que tienden a enviar cada mes los usuarios de cada plan\n",
    "plt.figure(figsize=(8,4)) #graficamos en conjunto ambas tarifas, considerando el total de mensajes.\n",
    "df_surf['total_msns'].hist(bins=40, alpha = 0.5, label = \"surf\" ) #un histograma compartido nos permitirá una mejor comparación\n",
    "df_ultimate['total_msns'].hist(bins=40, alpha = 0.5, label = 'ultimate')\n",
    "plt.legend(title=\"Plan\")\n",
    "plt.xlabel(\"Usuarios\")\n",
    "plt.ylabel(\"Mensajes\")\n",
    "plt.title(\"Mensajes totales enviados por usuarios de cada plan\")\n",
    "plt.show()\n"
   ]
  },
  {
   "cell_type": "code",
   "execution_count": 53,
   "metadata": {
    "id": "GRI_R7xF0q1L",
    "scrolled": true
   },
   "outputs": [
    {
     "data": {
      "image/png": "[encoded data removed]",
      "text/plain": [
       "<Figure size 800x400 with 1 Axes>"
      ]
     },
     "metadata": {},
     "output_type": "display_data"
    }
   ],
   "source": [
    "#Haremos el análisis con la densidad\n",
    "plt.figure(figsize=(8,4)) #graficamos en conjunto ambas tarifas, considerando la frecuencia y no los usuarios ya que hay menos usuarios con ultimate plan.\n",
    "df_surf['total_msns'].hist(bins=40, density = True, alpha = 0.5, label = \"surf\" ) #un histograma compartido nos permitirá una mejor comparación\n",
    "df_ultimate['total_msns'].hist(bins=40, density = True, alpha = 0.5, label = 'ultimate')\n",
    "plt.xlabel(\"Usuarios\")\n",
    "plt.ylabel(\"Densidad\")\n",
    "plt.legend(title=\"Plan\")\n",
    "plt.title(\"Densidad de mensajes enviados por plan\")\n",
    "plt.show()\n"
   ]
  },
  {
   "cell_type": "code",
   "execution_count": 54,
   "metadata": {
    "id": "wnh8jYXi0q1N"
   },
   "outputs": [
    {
     "name": "stdout",
     "output_type": "stream",
     "text": [
      "Promedio de mensajes enviados por usuarios del plan Surf: 31.15956770502225\n",
      "Varianza de mensajes enviados por usuarios del plan Surf: 1126.0082317266622\n",
      "\n",
      "Promedio de mensajes enviados por usuarios del plan Ultimate: 37.55138888888889\n",
      "Varianza de mensajes enviados por usuarios del plan Ultimate: 1207.0779147376545\n"
     ]
    }
   ],
   "source": [
    "#usamos la función mean y var\n",
    "print(\"Promedio de mensajes enviados por usuarios del plan Surf:\", df_surf[\"total_msns\"].mean())\n",
    "print(\"Varianza de mensajes enviados por usuarios del plan Surf:\", np.var(df_surf[\"total_msns\"]))\n",
    "print(\"\")\n",
    "print(\"Promedio de mensajes enviados por usuarios del plan Ultimate:\", df_ultimate[\"total_msns\"].mean())\n",
    "print(\"Varianza de mensajes enviados por usuarios del plan Ultimate:\", np.var(df_ultimate[\"total_msns\"]))"
   ]
  },
  {
   "cell_type": "code",
   "execution_count": 55,
   "metadata": {
    "id": "wnh8jYXi0q1N"
   },
   "outputs": [
    {
     "data": {
      "image/png": "[encoded data removed]",
      "text/plain": [
       "<Figure size 1200x600 with 2 Axes>"
      ]
     },
     "metadata": {},
     "output_type": "display_data"
    }
   ],
   "source": [
    "#Creamos la figura y sus ejes\n",
    "fig, axes = plt.subplots(1, 2, figsize=(12, 6))\n",
    "\n",
    "# Gráfico de caja para 'Surf' en el primer subgráfico\n",
    "sns.boxplot(data=df_surf, y='total_msns', ax=axes[0])\n",
    "axes[0].set_title('Mensajes enviados al mensual de usuarios Surf')\n",
    "\n",
    "# Gráfico de caja para 'Ultimate' en el segundo subgráfico\n",
    "sns.boxplot(data=df_ultimate, y='total_msns', ax=axes[1])\n",
    "axes[1].set_title('Mensajes enviados al mes de usuarios Ultimate')\n",
    "\n",
    "# Mostrar la figura\n",
    "plt.tight_layout()\n",
    "plt.show()"
   ]
  },
  {
   "cell_type": "markdown",
   "metadata": {
    "id": "390SSL480q1M"
   },
   "source": [
    "A simple vista los usuarios de ambas tarifas tienen un comportamiento similar en cuanto al envío de mensajes, sin embargo, en el gráfico de caja se obserba que los usuarios de Ultimate envian mayor cantidad de mensajes en promedio."
   ]
  },
  {
   "cell_type": "markdown",
   "metadata": {
    "id": "42YSypXz0q1M"
   },
   "source": [
    "### Internet"
   ]
  },
  {
   "cell_type": "code",
   "execution_count": 56,
   "metadata": {
    "id": "lSuKPtjh0q1M"
   },
   "outputs": [
    {
     "data": {
      "image/png": "[encoded data removed]",
      "text/plain": [
       "<Figure size 800x400 with 1 Axes>"
      ]
     },
     "metadata": {},
     "output_type": "display_data"
    }
   ],
   "source": [
    "# Compara la cantidad de tráfico de Internet consumido por usuarios por plan\n",
    "#Haremos el análisis con la densidad\n",
    "plt.figure(figsize=(8,4)) #graficamos en conjunto ambas tarifas, considerando la frecuencia y no los usuarios ya que hay menos usuarios con ultimate plan.\n",
    "df_surf['total_mb'].hist(bins=40, density = True, alpha = 0.5, label = \"surf\" ) #un histograma compartido nos permitirá una mejor comparación\n",
    "df_ultimate['total_mb'].hist(bins=40, density = True, alpha = 0.5, label = 'ultimate')\n",
    "plt.xlabel(\"Usuarios\")\n",
    "plt.ylabel(\"Densidad\")\n",
    "plt.legend(title=\"Plan\")\n",
    "plt.title(\"Densidad de tráfico de internet por plan\")\n",
    "plt.show()\n"
   ]
  },
  {
   "cell_type": "code",
   "execution_count": 57,
   "metadata": {
    "id": "wnh8jYXi0q1N"
   },
   "outputs": [
    {
     "name": "stdout",
     "output_type": "stream",
     "text": [
      "Promedio de consumo de datos por usuarios del plan Surf: 16558.283490146216\n",
      "Varianza de consumo de datos por usuarios del plan Surf: 64175571.68301331\n",
      "\n",
      "Promedio de consumo de datos por usuarios del plan Ultimate: 17214.699694444447\n",
      "Varianza de consumo de datos por usuarios del plan Ultimate: 61566665.138686284\n"
     ]
    }
   ],
   "source": [
    "#usamos la función mean y var\n",
    "print(\"Promedio de consumo de datos por usuarios del plan Surf:\", df_surf[\"total_mb\"].mean())\n",
    "print(\"Varianza de consumo de datos por usuarios del plan Surf:\", np.var(df_surf[\"total_mb\"]))\n",
    "print(\"\")\n",
    "print(\"Promedio de consumo de datos por usuarios del plan Ultimate:\", df_ultimate[\"total_mb\"].mean())\n",
    "print(\"Varianza de consumo de datos por usuarios del plan Ultimate:\", np.var(df_ultimate[\"total_mb\"]))"
   ]
  },
  {
   "cell_type": "code",
   "execution_count": 58,
   "metadata": {
    "id": "5VlyJ9ry0q1N"
   },
   "outputs": [
    {
     "data": {
      "image/png": "[encoded data removed]",
      "text/plain": [
       "<Figure size 1200x600 with 2 Axes>"
      ]
     },
     "metadata": {},
     "output_type": "display_data"
    }
   ],
   "source": [
    "#Creamos la figura y sus ejes\n",
    "fig, axes = plt.subplots(1, 2, figsize=(12, 6))\n",
    "\n",
    "# Gráfico de caja para 'Surf' en el primer subgráfico\n",
    "sns.boxplot(data=df_surf, y='total_mb', ax=axes[0])\n",
    "axes[0].set_title('Consumo de datos mensual de usuarios Surf')\n",
    "\n",
    "# Gráfico de caja para 'Ultimate' en el segundo subgráfico\n",
    "sns.boxplot(data=df_ultimate, y='total_mb', ax=axes[1])\n",
    "axes[1].set_title('Consumo de datos mensual de usuarios Ultimate')\n",
    "\n",
    "# Mostrar la figura\n",
    "plt.tight_layout()\n",
    "plt.show()"
   ]
  },
  {
   "cell_type": "markdown",
   "metadata": {
    "id": "UN9zwuMP0q1N"
   },
   "source": [
    "Los histogramas muestran un comportamiento similar en los usuarios de mabos planes, sin embargo, se puede observar en los gráficos de caja que los usuatios de Surf tienen valores atípicos más dispersos que los usuarios de Ultimate."
   ]
  },
  {
   "cell_type": "markdown",
   "metadata": {
    "id": "tCijq3260q1N"
   },
   "source": [
    "## Ingreso"
   ]
  },
  {
   "cell_type": "markdown",
   "metadata": {
    "id": "9nq5IAcy0q1O"
   },
   "source": [
    "Del mismo modo que has estudiado el comportamiento de los usuarios, describe estadísticamente los ingresos de los planes."
   ]
  },
  {
   "cell_type": "code",
   "execution_count": 59,
   "metadata": {
    "id": "tz-dq_V00q1O"
   },
   "outputs": [
    {
     "data": {
      "image/png": "[encoded data removed]",
      "text/plain": [
       "<Figure size 800x400 with 1 Axes>"
      ]
     },
     "metadata": {},
     "output_type": "display_data"
    }
   ],
   "source": [
    "plt.figure(figsize=(8,4)) #graficamos en conjunto ambas tarifas, considerando el total de mensajes.\n",
    "df_surf['income'].hist(bins=40, alpha = 0.5, label = \"surf\" ) #un histograma compartido nos permitirá una mejor comparación\n",
    "df_ultimate['income'].hist(bins=40, alpha = 0.5, label = 'ultimate')\n",
    "plt.legend(title=\"Plan\")\n",
    "plt.xlabel(\"Usuarios\")\n",
    "plt.ylabel(\"Ingreso\")\n",
    "plt.title(\"Ingresos por usuarios de cada plan\")\n",
    "plt.show()\n"
   ]
  },
  {
   "cell_type": "code",
   "execution_count": 60,
   "metadata": {
    "id": "0Y1v8ZUz0q1P"
   },
   "outputs": [
    {
     "data": {
      "image/png": "[encoded data removed]",
      "text/plain": [
       "<Figure size 800x400 with 1 Axes>"
      ]
     },
     "metadata": {},
     "output_type": "display_data"
    }
   ],
   "source": [
    "#Por densidad\n",
    "plt.figure(figsize=(8,4)) #graficamos en conjunto ambas tarifas, considerando el total de mensajes.\n",
    "df_surf['income'].hist(bins=40, density=True, alpha = 0.5, label = \"surf\" ) #un histograma compartido nos permitirá una mejor comparación\n",
    "df_ultimate['income'].hist(bins=40, density=True, alpha = 0.5, label = 'ultimate')\n",
    "plt.legend(title=\"Plan\")\n",
    "plt.xlabel(\"Usuarios\")\n",
    "plt.ylabel(\"Densidad\")\n",
    "plt.title(\"Ingresos por usuatio de cada plan\")\n",
    "plt.show()\n"
   ]
  },
  {
   "cell_type": "code",
   "execution_count": 61,
   "metadata": {
    "id": "bYmwxyVh0q1P"
   },
   "outputs": [
    {
     "data": {
      "image/png": "[encoded data removed]",
      "text/plain": [
       "<Figure size 1200x600 with 2 Axes>"
      ]
     },
     "metadata": {},
     "output_type": "display_data"
    }
   ],
   "source": [
    "#Creamos la figura y sus ejes\n",
    "fig, axes = plt.subplots(1, 2, figsize=(12, 6))\n",
    "\n",
    "# Gráfico de caja para 'Surf' en el primer subgráfico\n",
    "sns.boxplot(data=df_surf, y='income', ax=axes[0])\n",
    "axes[0].set_title('Ingresos de usuarios Surf')\n",
    "\n",
    "# Gráfico de caja para 'Ultimate' en el segundo subgráfico\n",
    "sns.boxplot(data=df_ultimate, y='income', ax=axes[1])\n",
    "axes[1].set_title('Ingresos de usuarios Ultimate')\n",
    "\n",
    "# Mostrar la figura\n",
    "plt.tight_layout()\n",
    "plt.show()"
   ]
  },
  {
   "cell_type": "markdown",
   "metadata": {
    "id": "KAFidcXZ0q1P"
   },
   "source": [
    "En términos de densidad o de ingreso por usuario, el plan ultimate genera mayores ingresos, sin embargo, en conjunto la cantidad de usuarios Surf representa ingresos mayores para la empresa, incluyendo las tarifas por exceso en minutos, mensajes e internet."
   ]
  },
  {
   "cell_type": "markdown",
   "metadata": {
    "id": "ajJ7VKeI0q1Q"
   },
   "source": [
    "## Prueba las hipótesis estadísticas"
   ]
  },
  {
   "cell_type": "markdown",
   "metadata": {
    "id": "AdXAZ-yL0q1Q"
   },
   "source": [
    "Prueba la hipótesis de que son diferentes los ingresos promedio procedentes de los usuarios de los planes de llamada Ultimate y Surf."
   ]
  },
  {
   "cell_type": "code",
   "execution_count": 62,
   "metadata": {},
   "outputs": [],
   "source": [
    "#Eliminamos los valores nulos y los eliminamos\n",
    "gral_data = gral_data.dropna(subset=['income'])\n",
    "df_surf = df_surf.dropna(subset=['income'])\n",
    "df_ultimate = df_ultimate.dropna(subset=['income'])"
   ]
  },
  {
   "cell_type": "code",
   "execution_count": 63,
   "metadata": {
    "id": "nFoPNlPq0q1R"
   },
   "outputs": [
    {
     "data": {
      "text/plain": [
       "plan\n",
       "surf        60.331875\n",
       "ultimate    72.313889\n",
       "Name: income, dtype: float64"
      ]
     },
     "execution_count": 63,
     "metadata": {},
     "output_type": "execute_result"
    }
   ],
   "source": [
    "# Prueba las hipótesis\n",
    "gral_data.groupby('plan')['income'].mean()"
   ]
  },
  {
   "cell_type": "code",
   "execution_count": 64,
   "metadata": {},
   "outputs": [
    {
     "data": {
      "text/plain": [
       "TtestResult(statistic=-8.225558153987386, pvalue=3.626607306410092e-16, df=1842.8341339459482)"
      ]
     },
     "execution_count": 64,
     "metadata": {},
     "output_type": "execute_result"
    }
   ],
   "source": [
    "ttest_ind(\n",
    "    df_surf[\"income\"],\n",
    "    df_ultimate[\"income\"],\n",
    "    equal_var = False)"
   ]
  },
  {
   "cell_type": "markdown",
   "metadata": {},
   "source": [
    "Rechazamos la hipótesis, no son iguales. Elegimos la prueba t Student ya que es la indicada para determinar si hay diferencias significativas entre dos grupos (ambas tarifas). Al promediar los ingresos de ambos planes, individualmente la tarifa ultimate genera mayores ingresos y el resultado de la prueba t indica que hay diferencia entre ambos planes, por lo que rechazamos la hipótesis."
   ]
  },
  {
   "cell_type": "markdown",
   "metadata": {
    "id": "tCcAruM60q1R"
   },
   "source": [
    "Prueba la hipótesis de que el ingreso promedio de los usuarios del área NY-NJ es diferente al de los usuarios de otras regiones."
   ]
  },
  {
   "cell_type": "code",
   "execution_count": 65,
   "metadata": {
    "id": "Cqcj7wrZ0q1S"
   },
   "outputs": [
    {
     "data": {
      "text/plain": [
       "array(['New York-Newark-Jersey City, NY-NJ-PA MSA'], dtype=object)"
      ]
     },
     "execution_count": 65,
     "metadata": {},
     "output_type": "execute_result"
    }
   ],
   "source": [
    "\n",
    "#aplicamos un filtro para obtener los sitios de interés\n",
    "gral_data[gral_data[\"city\"].str.contains(\"New York\")][\"city\"].unique() \n"
   ]
  },
  {
   "cell_type": "code",
   "execution_count": 66,
   "metadata": {
    "scrolled": true
   },
   "outputs": [
    {
     "data": {
      "text/plain": [
       "TtestResult(statistic=-2.159412770548066, pvalue=0.031239256515302436, df=563.6638455638376)"
      ]
     },
     "execution_count": 66,
     "metadata": {},
     "output_type": "execute_result"
    }
   ],
   "source": [
    "ny_nj_zones = ['New York-Newark-Jersey City, NY-NJ-PA MSA']\n",
    "\n",
    "# Prueba las hipótesis\n",
    "ttest_ind(\n",
    "    gral_data[gral_data[\"city\"].isin(ny_nj_zones)][\"income\"],\n",
    "    gral_data[~gral_data[\"city\"].isin(ny_nj_zones)][\"income\"],\n",
    "    equal_var = False\n",
    ")\n"
   ]
  },
  {
   "cell_type": "markdown",
   "metadata": {},
   "source": [
    "Aceptamos la hipótesis. Al igual que en el caso anterior, la prueba t es la indicada para notar la diferencia entre ambos grupos, sin embargo, en este caso la significancia es positiva."
   ]
  },
  {
   "cell_type": "markdown",
   "metadata": {
    "id": "bbTR8UQO0q1T"
   },
   "source": [
    "## Conclusión general\n",
    "\n"
   ]
  },
  {
   "cell_type": "markdown",
   "metadata": {},
   "source": [
    "Podemos concluir que los usuarios tienen comportamientos similares en cuanto al consumo de los beneficios en sus planes.\n",
    "Los usuarios de ambos planes consumen más minutos de llamadas en diciembre y pocos minutos en enero, su distribución es anormal positiva de acuerdo con las gráficas, en promedio consumen 404 - 406 minutos al mes.\n",
    "En cuanto a los mensajes, el promedio de enviados por usuarios Surf es de 31 y por usuarios Ultimate 37. Igualmente la distribución es bastante similar en ambas tarifas.\n",
    "El tráfico de datos la media sigue siendo mayor para los usuarios de Ultimate y la varianza mayor en los usuarios de Surf.\n",
    "Concluimos que los usuarios de Ultimate generan más ganancias para la empresa por usuario al ser una tarifa mayor, sin embargo, los usuarios Surf aportan mayores ingresos por el volumen de usuarios y los cargos extras.\n",
    "Contamos con dos hipótesis nulas; la primera es que los ingresos de ambos planes son iguales, esta hipótesis se rechaza ya que a pesar de tener comportamientos similares la prueba estadística nos permite ver que los ingresos por usuario son mayores en el plan Ultimate. Esto se verificó con la prueba t para analizar dos grupos. La segunda hipótesis es que los ingresos de usuarios de NY-NJ son diferentes a los usuarios de otras regiones, aceptamos la hipótesis de acuerdo al resultado de la prueba estadística."
   ]
  }
 ],
 "metadata": {
  "ExecuteTimeLog": [
   {
    "duration": 828,
    "start_time": "2021-11-16T09:21:11.304Z"
   },
   {
    "duration": 893,
    "start_time": "2021-11-16T09:21:17.728Z"
   },
   {
    "duration": 1150,
    "start_time": "2021-11-16T09:21:29.568Z"
   },
   {
    "duration": 3,
    "start_time": "2021-11-16T09:24:14.495Z"
   },
   {
    "duration": 120,
    "start_time": "2021-11-16T09:24:46.630Z"
   },
   {
    "duration": 3,
    "start_time": "2021-11-16T09:28:27.882Z"
   },
   {
    "duration": 4,
    "start_time": "2021-11-16T09:29:54.281Z"
   },
   {
    "duration": 3,
    "start_time": "2021-11-16T09:30:45.936Z"
   },
   {
    "duration": 4,
    "start_time": "2021-11-16T09:31:06.300Z"
   },
   {
    "duration": 113,
    "start_time": "2021-11-16T09:31:37.208Z"
   },
   {
    "duration": 143,
    "start_time": "2021-11-16T09:31:48.656Z"
   },
   {
    "duration": 98,
    "start_time": "2021-11-16T09:31:55.678Z"
   },
   {
    "duration": 3,
    "start_time": "2021-11-16T09:32:08.535Z"
   },
   {
    "duration": 111,
    "start_time": "2021-11-16T09:32:10.120Z"
   },
   {
    "duration": 3,
    "start_time": "2021-11-16T09:32:15.732Z"
   },
   {
    "duration": 4,
    "start_time": "2021-11-16T09:32:29.423Z"
   },
   {
    "duration": 3,
    "start_time": "2021-11-16T10:03:03.074Z"
   },
   {
    "duration": 3,
    "start_time": "2021-11-16T10:10:01.288Z"
   },
   {
    "duration": 3,
    "start_time": "2021-11-16T10:10:46.923Z"
   },
   {
    "duration": 121,
    "start_time": "2021-11-16T10:37:46.494Z"
   },
   {
    "duration": 125,
    "start_time": "2021-11-16T10:38:20.632Z"
   },
   {
    "duration": 112,
    "start_time": "2021-11-16T10:46:53.001Z"
   },
   {
    "duration": 110,
    "start_time": "2021-11-16T10:48:25.775Z"
   },
   {
    "duration": 3,
    "start_time": "2021-11-16T10:50:18.720Z"
   },
   {
    "duration": 4,
    "start_time": "2021-11-16T10:50:37.649Z"
   },
   {
    "duration": 2,
    "start_time": "2021-11-16T10:50:51.884Z"
   },
   {
    "duration": 3,
    "start_time": "2021-11-16T10:51:56.237Z"
   },
   {
    "duration": 101,
    "start_time": "2021-11-16T10:53:13.791Z"
   },
   {
    "duration": 3,
    "start_time": "2021-11-16T10:55:59.186Z"
   },
   {
    "duration": 3,
    "start_time": "2021-11-16T10:56:10.751Z"
   },
   {
    "duration": 3,
    "start_time": "2021-11-16T10:56:49.038Z"
   },
   {
    "duration": 3,
    "start_time": "2021-11-16T10:56:49.174Z"
   },
   {
    "duration": 4,
    "start_time": "2021-11-16T10:56:49.414Z"
   },
   {
    "duration": 3,
    "start_time": "2021-11-16T10:56:49.680Z"
   },
   {
    "duration": 3,
    "start_time": "2021-11-16T10:56:50.370Z"
   },
   {
    "duration": 114,
    "start_time": "2021-11-16T10:59:34.518Z"
   },
   {
    "duration": 3,
    "start_time": "2021-11-16T11:01:41.201Z"
   },
   {
    "duration": 116,
    "start_time": "2021-11-16T11:01:48.754Z"
   },
   {
    "duration": 3,
    "start_time": "2021-11-16T11:02:16.685Z"
   },
   {
    "duration": 3,
    "start_time": "2021-11-16T11:02:19.479Z"
   },
   {
    "duration": 3,
    "start_time": "2021-11-16T11:02:47.067Z"
   },
   {
    "duration": 3,
    "start_time": "2021-11-16T11:02:49.353Z"
   },
   {
    "duration": 3,
    "start_time": "2021-11-16T11:03:07.835Z"
   },
   {
    "duration": 3,
    "start_time": "2021-11-16T11:03:07.953Z"
   },
   {
    "duration": 112,
    "start_time": "2021-11-16T11:07:52.072Z"
   },
   {
    "duration": 187,
    "start_time": "2021-11-16T11:09:23.468Z"
   },
   {
    "duration": 4,
    "start_time": "2021-11-16T11:10:01.455Z"
   },
   {
    "duration": 3,
    "start_time": "2021-11-16T11:10:05.069Z"
   },
   {
    "duration": 4,
    "start_time": "2021-11-16T11:10:13.376Z"
   },
   {
    "duration": 3,
    "start_time": "2021-11-16T11:10:14.434Z"
   },
   {
    "duration": 3,
    "start_time": "2021-11-16T11:10:22.853Z"
   },
   {
    "duration": 4,
    "start_time": "2021-11-16T11:27:29.279Z"
   },
   {
    "duration": 4,
    "start_time": "2021-11-16T11:29:08.919Z"
   },
   {
    "duration": 118,
    "start_time": "2021-11-16T11:29:46.703Z"
   },
   {
    "duration": 437,
    "start_time": "2021-11-16T11:36:02.181Z"
   },
   {
    "duration": 157,
    "start_time": "2021-11-16T11:36:14.388Z"
   },
   {
    "duration": 207,
    "start_time": "2021-11-16T11:47:15.898Z"
   },
   {
    "duration": 3,
    "start_time": "2021-11-16T11:53:52.092Z"
   },
   {
    "duration": 3,
    "start_time": "2021-11-16T11:53:52.236Z"
   },
   {
    "duration": 3,
    "start_time": "2021-11-16T11:59:12.005Z"
   },
   {
    "duration": 112,
    "start_time": "2021-11-16T12:00:33.446Z"
   },
   {
    "duration": 3,
    "start_time": "2021-11-16T12:02:14.453Z"
   },
   {
    "duration": 3,
    "start_time": "2021-11-16T12:02:39.512Z"
   },
   {
    "duration": 106,
    "start_time": "2021-11-16T12:03:03.460Z"
   },
   {
    "duration": 3,
    "start_time": "2021-11-17T20:37:21.139Z"
   },
   {
    "duration": 3,
    "start_time": "2021-11-17T20:37:22.229Z"
   },
   {
    "duration": 3,
    "start_time": "2021-11-17T20:38:38.806Z"
   },
   {
    "duration": 3,
    "start_time": "2021-11-17T20:38:41.958Z"
   },
   {
    "duration": 3,
    "start_time": "2021-11-17T20:43:46.551Z"
   },
   {
    "duration": 4,
    "start_time": "2021-11-17T20:58:21.835Z"
   },
   {
    "duration": 3,
    "start_time": "2021-11-17T20:59:21.872Z"
   },
   {
    "duration": 4,
    "start_time": "2021-11-17T20:59:45.352Z"
   },
   {
    "duration": 4,
    "start_time": "2021-11-17T20:59:49.646Z"
   },
   {
    "duration": 159,
    "start_time": "2021-11-17T21:02:26.949Z"
   },
   {
    "duration": 3,
    "start_time": "2021-11-17T21:03:53.461Z"
   },
   {
    "duration": 3,
    "start_time": "2021-11-17T21:03:53.694Z"
   },
   {
    "duration": 3,
    "start_time": "2021-11-17T21:05:28.145Z"
   },
   {
    "duration": 116,
    "start_time": "2021-11-17T21:05:57.787Z"
   },
   {
    "duration": 3,
    "start_time": "2021-11-17T21:06:37.993Z"
   },
   {
    "duration": 3,
    "start_time": "2021-11-17T21:06:38.261Z"
   },
   {
    "duration": 3,
    "start_time": "2021-11-17T21:11:54.358Z"
   },
   {
    "duration": 3,
    "start_time": "2021-11-17T21:12:43.846Z"
   },
   {
    "duration": 4,
    "start_time": "2021-11-17T21:13:08.773Z"
   },
   {
    "duration": 3,
    "start_time": "2021-11-17T21:14:44.441Z"
   },
   {
    "duration": 3,
    "start_time": "2021-11-17T21:15:42.059Z"
   },
   {
    "duration": 4,
    "start_time": "2021-11-17T21:15:51.995Z"
   },
   {
    "duration": 3,
    "start_time": "2021-11-17T21:15:53.923Z"
   },
   {
    "duration": 3,
    "start_time": "2021-11-17T21:15:55.282Z"
   },
   {
    "duration": 3,
    "start_time": "2021-11-17T21:16:28.492Z"
   },
   {
    "duration": 3,
    "start_time": "2021-11-17T21:16:32.603Z"
   },
   {
    "duration": 3,
    "start_time": "2021-11-17T21:17:06.941Z"
   },
   {
    "duration": 98,
    "start_time": "2021-11-17T21:18:05.733Z"
   },
   {
    "duration": 4,
    "start_time": "2021-11-17T21:21:35.255Z"
   },
   {
    "duration": 3,
    "start_time": "2021-11-17T21:21:37.804Z"
   },
   {
    "duration": 4,
    "start_time": "2021-11-17T21:23:06.071Z"
   },
   {
    "duration": 3,
    "start_time": "2021-11-17T21:23:24.799Z"
   },
   {
    "duration": 3,
    "start_time": "2021-11-17T21:23:32.591Z"
   },
   {
    "duration": 98,
    "start_time": "2021-11-17T21:28:31.559Z"
   },
   {
    "duration": 3,
    "start_time": "2021-11-17T21:28:45.448Z"
   },
   {
    "duration": 3,
    "start_time": "2021-11-17T21:29:17.303Z"
   },
   {
    "duration": 3,
    "start_time": "2021-11-17T21:29:29.617Z"
   },
   {
    "duration": 3,
    "start_time": "2021-11-17T21:29:32.681Z"
   },
   {
    "duration": 3,
    "start_time": "2021-11-17T21:36:11.474Z"
   },
   {
    "duration": 3,
    "start_time": "2021-11-17T21:36:14.791Z"
   },
   {
    "duration": 3,
    "start_time": "2021-11-17T21:36:53.943Z"
   },
   {
    "duration": 3,
    "start_time": "2021-11-17T21:36:56.165Z"
   },
   {
    "duration": 4,
    "start_time": "2021-11-17T21:37:16.590Z"
   },
   {
    "duration": 3,
    "start_time": "2021-11-17T21:37:22.702Z"
   },
   {
    "duration": 4,
    "start_time": "2021-11-17T21:38:03.479Z"
   },
   {
    "duration": 3,
    "start_time": "2021-11-17T21:38:08.601Z"
   },
   {
    "duration": 3,
    "start_time": "2021-11-17T21:38:12.928Z"
   },
   {
    "duration": 3,
    "start_time": "2021-11-17T21:38:48.896Z"
   },
   {
    "duration": 2,
    "start_time": "2021-11-17T21:38:49.171Z"
   },
   {
    "duration": 4,
    "start_time": "2021-11-17T21:39:57.889Z"
   },
   {
    "duration": 3,
    "start_time": "2021-11-17T21:39:58.057Z"
   },
   {
    "duration": 3,
    "start_time": "2021-11-17T21:41:20.108Z"
   },
   {
    "duration": 3,
    "start_time": "2021-11-17T21:41:20.629Z"
   },
   {
    "duration": 3,
    "start_time": "2021-11-17T21:42:49.136Z"
   },
   {
    "duration": 3,
    "start_time": "2021-11-17T21:43:15.137Z"
   },
   {
    "duration": 4,
    "start_time": "2021-11-17T21:43:16.766Z"
   },
   {
    "duration": 4,
    "start_time": "2021-11-17T21:43:31.711Z"
   },
   {
    "duration": 3,
    "start_time": "2021-11-17T21:43:36.312Z"
   },
   {
    "duration": 4,
    "start_time": "2021-11-17T21:45:08.825Z"
   },
   {
    "duration": 4,
    "start_time": "2021-11-17T21:45:10.119Z"
   },
   {
    "duration": 4,
    "start_time": "2021-11-17T21:45:13.748Z"
   },
   {
    "duration": 3,
    "start_time": "2021-11-17T21:45:22.219Z"
   },
   {
    "duration": 3,
    "start_time": "2021-11-17T21:45:33.412Z"
   },
   {
    "duration": 2,
    "start_time": "2021-11-17T21:46:01.885Z"
   },
   {
    "duration": 3,
    "start_time": "2021-11-17T21:46:03.628Z"
   },
   {
    "duration": 107,
    "start_time": "2021-11-17T21:47:32.512Z"
   },
   {
    "duration": 103,
    "start_time": "2021-11-17T21:50:36.243Z"
   },
   {
    "duration": 3,
    "start_time": "2021-11-18T06:28:31.440Z"
   },
   {
    "duration": 3,
    "start_time": "2021-11-18T06:29:00.168Z"
   },
   {
    "duration": 3,
    "start_time": "2021-11-18T06:31:27.008Z"
   },
   {
    "duration": 2,
    "start_time": "2021-11-18T06:35:34.288Z"
   },
   {
    "duration": 2,
    "start_time": "2021-11-18T06:38:04.527Z"
   },
   {
    "duration": 921,
    "start_time": "2024-05-16T18:07:02.836Z"
   },
   {
    "duration": 1117,
    "start_time": "2024-05-16T18:10:17.863Z"
   },
   {
    "duration": 123,
    "start_time": "2024-05-16T18:10:35.070Z"
   },
   {
    "duration": 7,
    "start_time": "2024-05-16T18:12:53.961Z"
   },
   {
    "duration": 5,
    "start_time": "2024-05-16T18:13:17.658Z"
   },
   {
    "duration": 124,
    "start_time": "2024-05-16T18:13:30.200Z"
   },
   {
    "duration": 13,
    "start_time": "2024-05-16T18:15:10.620Z"
   },
   {
    "duration": 10,
    "start_time": "2024-05-16T18:15:16.934Z"
   },
   {
    "duration": 399,
    "start_time": "2024-05-16T18:20:12.942Z"
   },
   {
    "duration": 31,
    "start_time": "2024-05-16T18:30:23.480Z"
   },
   {
    "duration": 7,
    "start_time": "2024-05-16T18:45:07.052Z"
   },
   {
    "duration": 11,
    "start_time": "2024-05-16T18:47:37.419Z"
   },
   {
    "duration": 34,
    "start_time": "2024-05-16T18:49:50.951Z"
   },
   {
    "duration": 911,
    "start_time": "2024-05-17T16:32:55.043Z"
   },
   {
    "duration": 372,
    "start_time": "2024-05-17T16:33:00.203Z"
   },
   {
    "duration": 32,
    "start_time": "2024-05-17T16:33:07.092Z"
   },
   {
    "duration": 8,
    "start_time": "2024-05-17T16:33:19.526Z"
   },
   {
    "duration": 10,
    "start_time": "2024-05-17T16:33:27.860Z"
   },
   {
    "duration": 36,
    "start_time": "2024-05-17T16:33:30.912Z"
   },
   {
    "duration": 13,
    "start_time": "2024-05-17T16:36:35.657Z"
   },
   {
    "duration": 10,
    "start_time": "2024-05-17T16:37:03.405Z"
   },
   {
    "duration": 55,
    "start_time": "2024-05-17T16:37:48.221Z"
   },
   {
    "duration": 25,
    "start_time": "2024-05-17T16:39:16.804Z"
   },
   {
    "duration": 30,
    "start_time": "2024-05-17T16:40:35.304Z"
   },
   {
    "duration": 30,
    "start_time": "2024-05-17T16:42:04.930Z"
   },
   {
    "duration": 58,
    "start_time": "2024-05-17T16:43:38.208Z"
   },
   {
    "duration": 22,
    "start_time": "2024-05-17T16:45:25.080Z"
   },
   {
    "duration": 437,
    "start_time": "2024-05-17T16:46:35.243Z"
   },
   {
    "duration": 3,
    "start_time": "2024-05-17T16:50:06.481Z"
   },
   {
    "duration": 14,
    "start_time": "2024-05-17T16:53:55.978Z"
   },
   {
    "duration": 24,
    "start_time": "2024-05-17T16:54:42.097Z"
   },
   {
    "duration": 20,
    "start_time": "2024-05-17T16:54:56.496Z"
   },
   {
    "duration": 21,
    "start_time": "2024-05-17T16:55:05.772Z"
   },
   {
    "duration": 12,
    "start_time": "2024-05-17T16:55:20.423Z"
   },
   {
    "duration": 9,
    "start_time": "2024-05-17T16:55:37.367Z"
   },
   {
    "duration": 11,
    "start_time": "2024-05-17T16:55:48.174Z"
   },
   {
    "duration": 20,
    "start_time": "2024-05-17T17:27:51.217Z"
   },
   {
    "duration": 17,
    "start_time": "2024-05-17T17:28:14.024Z"
   },
   {
    "duration": 15,
    "start_time": "2024-05-17T17:28:27.838Z"
   },
   {
    "duration": 14,
    "start_time": "2024-05-17T17:29:44.410Z"
   },
   {
    "duration": 16,
    "start_time": "2024-05-17T17:30:29.907Z"
   },
   {
    "duration": 26,
    "start_time": "2024-05-17T17:30:49.637Z"
   },
   {
    "duration": 20,
    "start_time": "2024-05-17T17:31:04.458Z"
   },
   {
    "duration": 28,
    "start_time": "2024-05-17T17:31:22.633Z"
   },
   {
    "duration": 13,
    "start_time": "2024-05-17T17:32:46.439Z"
   },
   {
    "duration": 16,
    "start_time": "2024-05-17T17:33:36.408Z"
   },
   {
    "duration": 12,
    "start_time": "2024-05-17T17:33:45.359Z"
   },
   {
    "duration": 11,
    "start_time": "2024-05-17T17:33:57.706Z"
   },
   {
    "duration": 10,
    "start_time": "2024-05-17T17:36:02.486Z"
   },
   {
    "duration": 12,
    "start_time": "2024-05-17T17:47:39.633Z"
   },
   {
    "duration": 3,
    "start_time": "2024-05-17T18:08:25.906Z"
   },
   {
    "duration": 367,
    "start_time": "2024-05-17T18:08:25.922Z"
   },
   {
    "duration": 16,
    "start_time": "2024-05-17T18:08:26.292Z"
   },
   {
    "duration": 12,
    "start_time": "2024-05-17T18:08:26.311Z"
   },
   {
    "duration": 11,
    "start_time": "2024-05-17T18:08:26.328Z"
   },
   {
    "duration": 15,
    "start_time": "2024-05-17T18:08:26.343Z"
   },
   {
    "duration": 58,
    "start_time": "2024-05-17T18:08:26.361Z"
   },
   {
    "duration": 16,
    "start_time": "2024-05-17T18:08:26.423Z"
   },
   {
    "duration": 4,
    "start_time": "2024-05-17T18:08:26.442Z"
   },
   {
    "duration": 5,
    "start_time": "2024-05-17T18:08:26.448Z"
   },
   {
    "duration": 58,
    "start_time": "2024-05-17T18:08:26.459Z"
   },
   {
    "duration": 7,
    "start_time": "2024-05-17T18:08:26.520Z"
   },
   {
    "duration": 4,
    "start_time": "2024-05-17T18:08:26.530Z"
   },
   {
    "duration": 7,
    "start_time": "2024-05-17T18:08:30.628Z"
   },
   {
    "duration": 17,
    "start_time": "2024-05-17T18:08:41.404Z"
   },
   {
    "duration": 28,
    "start_time": "2024-05-17T18:11:00.737Z"
   },
   {
    "duration": 19,
    "start_time": "2024-05-17T18:11:09.242Z"
   },
   {
    "duration": 18,
    "start_time": "2024-05-17T18:12:03.600Z"
   },
   {
    "duration": 22,
    "start_time": "2024-05-17T18:12:44.939Z"
   },
   {
    "duration": 21,
    "start_time": "2024-05-17T18:12:52.062Z"
   },
   {
    "duration": 25,
    "start_time": "2024-05-17T18:34:33.096Z"
   },
   {
    "duration": 8,
    "start_time": "2024-05-17T18:34:40.353Z"
   },
   {
    "duration": 7,
    "start_time": "2024-05-17T18:37:19.323Z"
   },
   {
    "duration": 35,
    "start_time": "2024-05-17T18:38:48.802Z"
   },
   {
    "duration": 28,
    "start_time": "2024-05-17T18:39:55.778Z"
   },
   {
    "duration": 30,
    "start_time": "2024-05-17T18:40:01.706Z"
   },
   {
    "duration": 15,
    "start_time": "2024-05-17T18:40:39.663Z"
   },
   {
    "duration": 852,
    "start_time": "2024-05-17T18:41:59.334Z"
   },
   {
    "duration": 20,
    "start_time": "2024-05-17T18:42:14.875Z"
   },
   {
    "duration": 32,
    "start_time": "2024-05-17T18:42:47.620Z"
   },
   {
    "duration": 26,
    "start_time": "2024-05-17T18:43:18.246Z"
   },
   {
    "duration": 335,
    "start_time": "2024-05-17T18:49:29.741Z"
   },
   {
    "duration": 84,
    "start_time": "2024-05-17T18:49:45.416Z"
   },
   {
    "duration": 288,
    "start_time": "2024-05-17T18:50:06.776Z"
   },
   {
    "duration": 925,
    "start_time": "2024-05-21T18:13:07.578Z"
   },
   {
    "duration": 346,
    "start_time": "2024-05-21T18:13:08.507Z"
   },
   {
    "duration": 21,
    "start_time": "2024-05-21T18:13:08.859Z"
   },
   {
    "duration": 11,
    "start_time": "2024-05-21T18:13:08.883Z"
   },
   {
    "duration": 34,
    "start_time": "2024-05-21T18:13:08.899Z"
   },
   {
    "duration": 12,
    "start_time": "2024-05-21T18:13:08.937Z"
   },
   {
    "duration": 17,
    "start_time": "2024-05-21T18:13:08.952Z"
   },
   {
    "duration": 54,
    "start_time": "2024-05-21T18:13:08.972Z"
   },
   {
    "duration": 4,
    "start_time": "2024-05-21T18:13:09.029Z"
   },
   {
    "duration": 4,
    "start_time": "2024-05-21T18:13:09.036Z"
   },
   {
    "duration": 16,
    "start_time": "2024-05-21T18:13:09.043Z"
   },
   {
    "duration": 3,
    "start_time": "2024-05-21T18:13:09.063Z"
   },
   {
    "duration": 58,
    "start_time": "2024-05-21T18:13:09.069Z"
   },
   {
    "duration": 5,
    "start_time": "2024-05-21T18:13:09.134Z"
   },
   {
    "duration": 19,
    "start_time": "2024-05-21T18:13:09.143Z"
   },
   {
    "duration": 25,
    "start_time": "2024-05-21T18:13:09.165Z"
   },
   {
    "duration": 54,
    "start_time": "2024-05-21T18:13:09.193Z"
   },
   {
    "duration": 3,
    "start_time": "2024-05-21T18:13:09.252Z"
   },
   {
    "duration": 28,
    "start_time": "2024-05-21T18:13:09.259Z"
   },
   {
    "duration": 40,
    "start_time": "2024-05-21T18:13:09.326Z"
   },
   {
    "duration": 25,
    "start_time": "2024-05-21T18:13:09.370Z"
   },
   {
    "duration": 37,
    "start_time": "2024-05-21T18:13:09.398Z"
   },
   {
    "duration": 3,
    "start_time": "2024-05-21T18:13:09.439Z"
   },
   {
    "duration": 18,
    "start_time": "2024-05-21T18:13:09.445Z"
   },
   {
    "duration": 20,
    "start_time": "2024-05-21T18:13:09.466Z"
   },
   {
    "duration": 23,
    "start_time": "2024-05-21T18:13:09.525Z"
   },
   {
    "duration": 32,
    "start_time": "2024-05-21T18:13:09.551Z"
   },
   {
    "duration": 50,
    "start_time": "2024-05-21T18:13:09.586Z"
   },
   {
    "duration": 29,
    "start_time": "2024-05-21T18:13:09.639Z"
   },
   {
    "duration": 3,
    "start_time": "2024-05-21T18:13:09.671Z"
   },
   {
    "duration": 969,
    "start_time": "2024-05-21T19:50:56.191Z"
   },
   {
    "duration": 359,
    "start_time": "2024-05-21T19:50:57.163Z"
   },
   {
    "duration": 22,
    "start_time": "2024-05-21T19:50:57.524Z"
   },
   {
    "duration": 12,
    "start_time": "2024-05-21T19:50:57.550Z"
   },
   {
    "duration": 10,
    "start_time": "2024-05-21T19:50:57.565Z"
   },
   {
    "duration": 37,
    "start_time": "2024-05-21T19:50:57.578Z"
   },
   {
    "duration": 13,
    "start_time": "2024-05-21T19:50:57.618Z"
   },
   {
    "duration": 15,
    "start_time": "2024-05-21T19:50:57.634Z"
   },
   {
    "duration": 4,
    "start_time": "2024-05-21T19:50:57.651Z"
   },
   {
    "duration": 3,
    "start_time": "2024-05-21T19:50:57.706Z"
   },
   {
    "duration": 15,
    "start_time": "2024-05-21T19:50:57.712Z"
   },
   {
    "duration": 4,
    "start_time": "2024-05-21T19:50:57.729Z"
   },
   {
    "duration": 9,
    "start_time": "2024-05-21T19:50:57.736Z"
   },
   {
    "duration": 7,
    "start_time": "2024-05-21T19:50:57.747Z"
   },
   {
    "duration": 58,
    "start_time": "2024-05-21T19:50:57.756Z"
   },
   {
    "duration": 25,
    "start_time": "2024-05-21T19:50:57.818Z"
   },
   {
    "duration": 23,
    "start_time": "2024-05-21T19:50:57.846Z"
   },
   {
    "duration": 41,
    "start_time": "2024-05-21T19:50:57.872Z"
   },
   {
    "duration": 36,
    "start_time": "2024-05-21T19:50:57.917Z"
   },
   {
    "duration": 54,
    "start_time": "2024-05-21T19:50:57.955Z"
   },
   {
    "duration": 21,
    "start_time": "2024-05-21T19:50:58.012Z"
   },
   {
    "duration": 14,
    "start_time": "2024-05-21T19:50:58.036Z"
   },
   {
    "duration": 4,
    "start_time": "2024-05-21T19:50:58.052Z"
   },
   {
    "duration": 65,
    "start_time": "2024-05-21T19:50:58.059Z"
   },
   {
    "duration": 23,
    "start_time": "2024-05-21T19:50:58.128Z"
   },
   {
    "duration": 23,
    "start_time": "2024-05-21T19:50:58.154Z"
   },
   {
    "duration": 34,
    "start_time": "2024-05-21T19:50:58.209Z"
   },
   {
    "duration": 25,
    "start_time": "2024-05-21T19:50:58.250Z"
   },
   {
    "duration": 53,
    "start_time": "2024-05-21T19:50:58.278Z"
   },
   {
    "duration": 4,
    "start_time": "2024-05-21T19:50:58.333Z"
   },
   {
    "duration": 38,
    "start_time": "2024-05-21T19:51:01.483Z"
   },
   {
    "duration": 1063,
    "start_time": "2024-05-21T19:57:33.565Z"
   },
   {
    "duration": 85,
    "start_time": "2024-05-21T19:57:51.292Z"
   },
   {
    "duration": 155,
    "start_time": "2024-05-21T19:57:55.673Z"
   },
   {
    "duration": 28,
    "start_time": "2024-05-21T19:59:32.571Z"
   },
   {
    "duration": 36,
    "start_time": "2024-05-21T19:59:45.452Z"
   },
   {
    "duration": 85,
    "start_time": "2024-05-21T20:07:03.406Z"
   },
   {
    "duration": 276,
    "start_time": "2024-05-21T20:08:57.044Z"
   },
   {
    "duration": 28,
    "start_time": "2024-05-21T20:09:56.325Z"
   },
   {
    "duration": 7,
    "start_time": "2024-05-21T20:14:58.961Z"
   },
   {
    "duration": 33,
    "start_time": "2024-05-21T20:15:15.816Z"
   },
   {
    "duration": 22,
    "start_time": "2024-05-21T20:15:27.937Z"
   },
   {
    "duration": 26,
    "start_time": "2024-05-21T20:15:41.809Z"
   },
   {
    "duration": 35,
    "start_time": "2024-05-21T20:15:54.745Z"
   },
   {
    "duration": 29,
    "start_time": "2024-05-21T20:16:05.480Z"
   },
   {
    "duration": 920,
    "start_time": "2024-05-22T15:31:16.261Z"
   },
   {
    "duration": 330,
    "start_time": "2024-05-22T15:31:17.185Z"
   },
   {
    "duration": 23,
    "start_time": "2024-05-22T15:31:17.518Z"
   },
   {
    "duration": 11,
    "start_time": "2024-05-22T15:31:17.545Z"
   },
   {
    "duration": 12,
    "start_time": "2024-05-22T15:31:17.559Z"
   },
   {
    "duration": 11,
    "start_time": "2024-05-22T15:31:17.575Z"
   },
   {
    "duration": 48,
    "start_time": "2024-05-22T15:31:17.590Z"
   },
   {
    "duration": 15,
    "start_time": "2024-05-22T15:31:17.641Z"
   },
   {
    "duration": 4,
    "start_time": "2024-05-22T15:31:17.659Z"
   },
   {
    "duration": 3,
    "start_time": "2024-05-22T15:31:17.670Z"
   },
   {
    "duration": 59,
    "start_time": "2024-05-22T15:31:17.677Z"
   },
   {
    "duration": 3,
    "start_time": "2024-05-22T15:31:17.740Z"
   },
   {
    "duration": 8,
    "start_time": "2024-05-22T15:31:17.746Z"
   },
   {
    "duration": 6,
    "start_time": "2024-05-22T15:31:17.757Z"
   },
   {
    "duration": 9,
    "start_time": "2024-05-22T15:31:17.767Z"
   },
   {
    "duration": 71,
    "start_time": "2024-05-22T15:31:17.778Z"
   },
   {
    "duration": 22,
    "start_time": "2024-05-22T15:31:17.852Z"
   },
   {
    "duration": 3,
    "start_time": "2024-05-22T15:31:17.877Z"
   },
   {
    "duration": 62,
    "start_time": "2024-05-22T15:31:17.884Z"
   },
   {
    "duration": 35,
    "start_time": "2024-05-22T15:31:17.949Z"
   },
   {
    "duration": 46,
    "start_time": "2024-05-22T15:31:17.987Z"
   },
   {
    "duration": 15,
    "start_time": "2024-05-22T15:31:18.036Z"
   },
   {
    "duration": 3,
    "start_time": "2024-05-22T15:31:18.054Z"
   },
   {
    "duration": 17,
    "start_time": "2024-05-22T15:31:18.060Z"
   },
   {
    "duration": 56,
    "start_time": "2024-05-22T15:31:18.080Z"
   },
   {
    "duration": 23,
    "start_time": "2024-05-22T15:31:18.139Z"
   },
   {
    "duration": 29,
    "start_time": "2024-05-22T15:31:18.165Z"
   },
   {
    "duration": 51,
    "start_time": "2024-05-22T15:31:18.201Z"
   },
   {
    "duration": 32,
    "start_time": "2024-05-22T15:31:18.254Z"
   },
   {
    "duration": 3,
    "start_time": "2024-05-22T15:31:18.292Z"
   },
   {
    "duration": 59,
    "start_time": "2024-05-22T15:31:18.298Z"
   },
   {
    "duration": 3,
    "start_time": "2024-05-22T15:31:18.360Z"
   },
   {
    "duration": 3,
    "start_time": "2024-05-22T15:31:18.367Z"
   },
   {
    "duration": 65,
    "start_time": "2024-05-22T15:31:18.374Z"
   },
   {
    "duration": 430,
    "start_time": "2024-05-22T15:33:16.898Z"
   },
   {
    "duration": 34,
    "start_time": "2024-05-22T15:36:23.094Z"
   },
   {
    "duration": 28,
    "start_time": "2024-05-22T15:36:39.923Z"
   },
   {
    "duration": 12,
    "start_time": "2024-05-22T15:36:58.043Z"
   },
   {
    "duration": 11,
    "start_time": "2024-05-22T15:38:27.176Z"
   },
   {
    "duration": 19,
    "start_time": "2024-05-22T15:38:39.929Z"
   },
   {
    "duration": 22,
    "start_time": "2024-05-22T16:27:39.292Z"
   },
   {
    "duration": 22,
    "start_time": "2024-05-22T16:27:52.111Z"
   },
   {
    "duration": 43,
    "start_time": "2024-05-22T16:37:59.126Z"
   },
   {
    "duration": 37,
    "start_time": "2024-05-22T16:38:53.199Z"
   },
   {
    "duration": 32,
    "start_time": "2024-05-22T16:59:42.773Z"
   },
   {
    "duration": 43,
    "start_time": "2024-05-22T17:04:26.876Z"
   },
   {
    "duration": 4837,
    "start_time": "2024-05-22T18:08:40.311Z"
   },
   {
    "duration": 5,
    "start_time": "2024-05-22T18:08:59.052Z"
   },
   {
    "duration": 390,
    "start_time": "2024-05-22T18:08:59.061Z"
   },
   {
    "duration": 18,
    "start_time": "2024-05-22T18:08:59.454Z"
   },
   {
    "duration": 11,
    "start_time": "2024-05-22T18:08:59.475Z"
   },
   {
    "duration": 10,
    "start_time": "2024-05-22T18:08:59.491Z"
   },
   {
    "duration": 12,
    "start_time": "2024-05-22T18:08:59.535Z"
   },
   {
    "duration": 14,
    "start_time": "2024-05-22T18:08:59.550Z"
   },
   {
    "duration": 21,
    "start_time": "2024-05-22T18:08:59.567Z"
   },
   {
    "duration": 45,
    "start_time": "2024-05-22T18:08:59.591Z"
   },
   {
    "duration": 4,
    "start_time": "2024-05-22T18:08:59.639Z"
   },
   {
    "duration": 15,
    "start_time": "2024-05-22T18:08:59.648Z"
   },
   {
    "duration": 4,
    "start_time": "2024-05-22T18:08:59.665Z"
   },
   {
    "duration": 18,
    "start_time": "2024-05-22T18:08:59.672Z"
   },
   {
    "duration": 47,
    "start_time": "2024-05-22T18:08:59.692Z"
   },
   {
    "duration": 9,
    "start_time": "2024-05-22T18:08:59.743Z"
   },
   {
    "duration": 25,
    "start_time": "2024-05-22T18:08:59.756Z"
   },
   {
    "duration": 58,
    "start_time": "2024-05-22T18:08:59.784Z"
   },
   {
    "duration": 4,
    "start_time": "2024-05-22T18:08:59.845Z"
   },
   {
    "duration": 27,
    "start_time": "2024-05-22T18:08:59.852Z"
   },
   {
    "duration": 67,
    "start_time": "2024-05-22T18:08:59.882Z"
   },
   {
    "duration": 19,
    "start_time": "2024-05-22T18:08:59.952Z"
   },
   {
    "duration": 14,
    "start_time": "2024-05-22T18:08:59.974Z"
   },
   {
    "duration": 4,
    "start_time": "2024-05-22T18:08:59.991Z"
   },
   {
    "duration": 51,
    "start_time": "2024-05-22T18:08:59.998Z"
   },
   {
    "duration": 20,
    "start_time": "2024-05-22T18:09:00.052Z"
   },
   {
    "duration": 22,
    "start_time": "2024-05-22T18:09:00.075Z"
   },
   {
    "duration": 61,
    "start_time": "2024-05-22T18:09:00.100Z"
   },
   {
    "duration": 22,
    "start_time": "2024-05-22T18:09:00.164Z"
   },
   {
    "duration": 54,
    "start_time": "2024-05-22T18:09:00.194Z"
   },
   {
    "duration": 10,
    "start_time": "2024-05-22T18:09:00.251Z"
   },
   {
    "duration": 38,
    "start_time": "2024-05-22T18:09:00.266Z"
   },
   {
    "duration": 29,
    "start_time": "2024-05-22T18:09:00.307Z"
   },
   {
    "duration": 3,
    "start_time": "2024-05-22T18:09:00.339Z"
   },
   {
    "duration": 30,
    "start_time": "2024-05-22T18:09:00.345Z"
   },
   {
    "duration": 22,
    "start_time": "2024-05-22T18:09:00.378Z"
   },
   {
    "duration": 43,
    "start_time": "2024-05-22T18:09:00.433Z"
   },
   {
    "duration": 3,
    "start_time": "2024-05-22T18:09:00.479Z"
   },
   {
    "duration": 23,
    "start_time": "2024-05-22T18:10:24.894Z"
   },
   {
    "duration": 248,
    "start_time": "2024-05-22T18:13:10.034Z"
   },
   {
    "duration": 8,
    "start_time": "2024-05-22T18:17:01.526Z"
   },
   {
    "duration": 399,
    "start_time": "2024-05-22T18:18:30.890Z"
   },
   {
    "duration": 398,
    "start_time": "2024-05-22T18:18:39.951Z"
   },
   {
    "duration": 510,
    "start_time": "2024-05-22T18:18:53.147Z"
   },
   {
    "duration": 422,
    "start_time": "2024-05-22T18:20:24.220Z"
   },
   {
    "duration": 4838,
    "start_time": "2024-05-22T19:14:55.565Z"
   },
   {
    "duration": 365,
    "start_time": "2024-05-22T19:15:00.408Z"
   },
   {
    "duration": 19,
    "start_time": "2024-05-22T19:15:00.775Z"
   },
   {
    "duration": 12,
    "start_time": "2024-05-22T19:15:00.810Z"
   },
   {
    "duration": 11,
    "start_time": "2024-05-22T19:15:00.825Z"
   },
   {
    "duration": 12,
    "start_time": "2024-05-22T19:15:00.838Z"
   },
   {
    "duration": 12,
    "start_time": "2024-05-22T19:15:00.853Z"
   },
   {
    "duration": 16,
    "start_time": "2024-05-22T19:15:00.910Z"
   },
   {
    "duration": 3,
    "start_time": "2024-05-22T19:15:00.930Z"
   },
   {
    "duration": 3,
    "start_time": "2024-05-22T19:15:00.939Z"
   },
   {
    "duration": 15,
    "start_time": "2024-05-22T19:15:00.946Z"
   },
   {
    "duration": 3,
    "start_time": "2024-05-22T19:15:01.008Z"
   },
   {
    "duration": 8,
    "start_time": "2024-05-22T19:15:01.014Z"
   },
   {
    "duration": 7,
    "start_time": "2024-05-22T19:15:01.025Z"
   },
   {
    "duration": 13,
    "start_time": "2024-05-22T19:15:01.034Z"
   },
   {
    "duration": 65,
    "start_time": "2024-05-22T19:15:01.051Z"
   },
   {
    "duration": 22,
    "start_time": "2024-05-22T19:15:01.119Z"
   },
   {
    "duration": 3,
    "start_time": "2024-05-22T19:15:01.144Z"
   },
   {
    "duration": 59,
    "start_time": "2024-05-22T19:15:01.150Z"
   },
   {
    "duration": 33,
    "start_time": "2024-05-22T19:15:01.211Z"
   },
   {
    "duration": 20,
    "start_time": "2024-05-22T19:15:01.247Z"
   },
   {
    "duration": 42,
    "start_time": "2024-05-22T19:15:01.270Z"
   },
   {
    "duration": 4,
    "start_time": "2024-05-22T19:15:01.315Z"
   },
   {
    "duration": 17,
    "start_time": "2024-05-22T19:15:01.322Z"
   },
   {
    "duration": 21,
    "start_time": "2024-05-22T19:15:01.342Z"
   },
   {
    "duration": 62,
    "start_time": "2024-05-22T19:15:01.366Z"
   },
   {
    "duration": 30,
    "start_time": "2024-05-22T19:15:01.431Z"
   },
   {
    "duration": 46,
    "start_time": "2024-05-22T19:15:01.468Z"
   },
   {
    "duration": 26,
    "start_time": "2024-05-22T19:15:01.517Z"
   },
   {
    "duration": 4,
    "start_time": "2024-05-22T19:15:01.546Z"
   },
   {
    "duration": 64,
    "start_time": "2024-05-22T19:15:01.553Z"
   },
   {
    "duration": 3,
    "start_time": "2024-05-22T19:15:01.620Z"
   },
   {
    "duration": 4,
    "start_time": "2024-05-22T19:15:01.626Z"
   },
   {
    "duration": 29,
    "start_time": "2024-05-22T19:15:01.634Z"
   },
   {
    "duration": 59,
    "start_time": "2024-05-22T19:15:01.666Z"
   },
   {
    "duration": 48,
    "start_time": "2024-05-22T19:15:01.729Z"
   },
   {
    "duration": 29,
    "start_time": "2024-05-22T19:15:01.779Z"
   },
   {
    "duration": 16,
    "start_time": "2024-05-22T19:15:01.811Z"
   },
   {
    "duration": 428,
    "start_time": "2024-05-22T19:18:16.037Z"
   },
   {
    "duration": 31,
    "start_time": "2024-05-22T19:21:15.933Z"
   },
   {
    "duration": 4842,
    "start_time": "2024-05-23T15:27:01.270Z"
   },
   {
    "duration": 355,
    "start_time": "2024-05-23T15:27:06.116Z"
   },
   {
    "duration": 17,
    "start_time": "2024-05-23T15:27:06.474Z"
   },
   {
    "duration": 25,
    "start_time": "2024-05-23T15:27:06.496Z"
   },
   {
    "duration": 11,
    "start_time": "2024-05-23T15:27:06.524Z"
   },
   {
    "duration": 12,
    "start_time": "2024-05-23T15:27:06.538Z"
   },
   {
    "duration": 14,
    "start_time": "2024-05-23T15:27:06.553Z"
   },
   {
    "duration": 57,
    "start_time": "2024-05-23T15:27:06.569Z"
   },
   {
    "duration": 5,
    "start_time": "2024-05-23T15:27:06.629Z"
   },
   {
    "duration": 3,
    "start_time": "2024-05-23T15:27:06.641Z"
   },
   {
    "duration": 17,
    "start_time": "2024-05-23T15:27:06.647Z"
   },
   {
    "duration": 44,
    "start_time": "2024-05-23T15:27:06.668Z"
   },
   {
    "duration": 8,
    "start_time": "2024-05-23T15:27:06.715Z"
   },
   {
    "duration": 7,
    "start_time": "2024-05-23T15:27:06.726Z"
   },
   {
    "duration": 10,
    "start_time": "2024-05-23T15:27:06.735Z"
   },
   {
    "duration": 72,
    "start_time": "2024-05-23T15:27:06.748Z"
   },
   {
    "duration": 23,
    "start_time": "2024-05-23T15:27:06.823Z"
   },
   {
    "duration": 3,
    "start_time": "2024-05-23T15:27:06.849Z"
   },
   {
    "duration": 56,
    "start_time": "2024-05-23T15:27:06.856Z"
   },
   {
    "duration": 37,
    "start_time": "2024-05-23T15:27:06.915Z"
   },
   {
    "duration": 20,
    "start_time": "2024-05-23T15:27:06.959Z"
   },
   {
    "duration": 43,
    "start_time": "2024-05-23T15:27:06.982Z"
   },
   {
    "duration": 3,
    "start_time": "2024-05-23T15:27:07.028Z"
   },
   {
    "duration": 18,
    "start_time": "2024-05-23T15:27:07.035Z"
   },
   {
    "duration": 57,
    "start_time": "2024-05-23T15:27:07.056Z"
   },
   {
    "duration": 23,
    "start_time": "2024-05-23T15:27:07.115Z"
   },
   {
    "duration": 32,
    "start_time": "2024-05-23T15:27:07.141Z"
   },
   {
    "duration": 47,
    "start_time": "2024-05-23T15:27:07.181Z"
   },
   {
    "duration": 26,
    "start_time": "2024-05-23T15:27:07.230Z"
   },
   {
    "duration": 3,
    "start_time": "2024-05-23T15:27:07.259Z"
   },
   {
    "duration": 69,
    "start_time": "2024-05-23T15:27:07.265Z"
   },
   {
    "duration": 4,
    "start_time": "2024-05-23T15:27:07.337Z"
   },
   {
    "duration": 4,
    "start_time": "2024-05-23T15:27:07.344Z"
   },
   {
    "duration": 34,
    "start_time": "2024-05-23T15:27:07.351Z"
   },
   {
    "duration": 21,
    "start_time": "2024-05-23T15:27:07.413Z"
   },
   {
    "duration": 43,
    "start_time": "2024-05-23T15:27:07.437Z"
   },
   {
    "duration": 32,
    "start_time": "2024-05-23T15:27:07.482Z"
   },
   {
    "duration": 27,
    "start_time": "2024-05-23T15:27:07.518Z"
   },
   {
    "duration": 453,
    "start_time": "2024-05-23T15:27:07.548Z"
   },
   {
    "duration": 9,
    "start_time": "2024-05-23T15:27:08.004Z"
   },
   {
    "duration": 4,
    "start_time": "2024-05-23T15:27:08.016Z"
   },
   {
    "duration": 4,
    "start_time": "2024-05-23T15:27:08.022Z"
   },
   {
    "duration": 3,
    "start_time": "2024-05-23T15:27:08.031Z"
   },
   {
    "duration": 5,
    "start_time": "2024-05-23T15:27:08.037Z"
   },
   {
    "duration": 81,
    "start_time": "2024-05-23T15:27:08.045Z"
   },
   {
    "duration": 1053,
    "start_time": "2024-05-23T15:36:00.718Z"
   },
   {
    "duration": 16,
    "start_time": "2024-05-23T15:38:04.925Z"
   },
   {
    "duration": 21,
    "start_time": "2024-05-23T15:38:55.309Z"
   },
   {
    "duration": 20,
    "start_time": "2024-05-23T15:39:22.013Z"
   },
   {
    "duration": 9,
    "start_time": "2024-05-23T15:41:26.171Z"
   },
   {
    "duration": 22,
    "start_time": "2024-05-23T15:42:24.120Z"
   },
   {
    "duration": 24,
    "start_time": "2024-05-23T16:02:06.231Z"
   },
   {
    "duration": 28,
    "start_time": "2024-05-23T16:03:16.936Z"
   },
   {
    "duration": 25,
    "start_time": "2024-05-23T16:41:41.162Z"
   },
   {
    "duration": 14,
    "start_time": "2024-05-23T16:41:53.020Z"
   },
   {
    "duration": 4,
    "start_time": "2024-05-23T16:47:44.787Z"
   },
   {
    "duration": 16,
    "start_time": "2024-05-23T16:51:29.476Z"
   },
   {
    "duration": 64,
    "start_time": "2024-05-23T17:05:38.048Z"
   },
   {
    "duration": 10,
    "start_time": "2024-05-23T17:05:58.311Z"
   },
   {
    "duration": 5,
    "start_time": "2024-05-23T17:07:55.993Z"
   },
   {
    "duration": 50,
    "start_time": "2024-05-23T17:08:03.397Z"
   },
   {
    "duration": 12,
    "start_time": "2024-05-23T17:10:34.598Z"
   },
   {
    "duration": 6201,
    "start_time": "2024-05-27T15:54:17.601Z"
   },
   {
    "duration": 487,
    "start_time": "2024-05-27T15:54:23.807Z"
   },
   {
    "duration": 28,
    "start_time": "2024-05-27T15:54:24.298Z"
   },
   {
    "duration": 28,
    "start_time": "2024-05-27T15:54:24.343Z"
   },
   {
    "duration": 18,
    "start_time": "2024-05-27T15:54:24.379Z"
   },
   {
    "duration": 40,
    "start_time": "2024-05-27T15:54:24.400Z"
   },
   {
    "duration": 18,
    "start_time": "2024-05-27T15:54:24.444Z"
   },
   {
    "duration": 23,
    "start_time": "2024-05-27T15:54:24.465Z"
   },
   {
    "duration": 8,
    "start_time": "2024-05-27T15:54:24.491Z"
   },
   {
    "duration": 4,
    "start_time": "2024-05-27T15:54:24.533Z"
   },
   {
    "duration": 20,
    "start_time": "2024-05-27T15:54:24.551Z"
   },
   {
    "duration": 5,
    "start_time": "2024-05-27T15:54:24.576Z"
   },
   {
    "duration": 22,
    "start_time": "2024-05-27T15:54:24.586Z"
   },
   {
    "duration": 17,
    "start_time": "2024-05-27T15:54:24.634Z"
   },
   {
    "duration": 11,
    "start_time": "2024-05-27T15:54:24.655Z"
   },
   {
    "duration": 29,
    "start_time": "2024-05-27T15:54:24.671Z"
   },
   {
    "duration": 62,
    "start_time": "2024-05-27T15:54:24.703Z"
   },
   {
    "duration": 3,
    "start_time": "2024-05-27T15:54:24.768Z"
   },
   {
    "duration": 58,
    "start_time": "2024-05-27T15:54:24.775Z"
   },
   {
    "duration": 40,
    "start_time": "2024-05-27T15:54:24.836Z"
   },
   {
    "duration": 19,
    "start_time": "2024-05-27T15:54:24.879Z"
   },
   {
    "duration": 43,
    "start_time": "2024-05-27T15:54:24.901Z"
   },
   {
    "duration": 3,
    "start_time": "2024-05-27T15:54:24.951Z"
   },
   {
    "duration": 24,
    "start_time": "2024-05-27T15:54:24.958Z"
   },
   {
    "duration": 55,
    "start_time": "2024-05-27T15:54:24.985Z"
   },
   {
    "duration": 29,
    "start_time": "2024-05-27T15:54:25.043Z"
   },
   {
    "duration": 30,
    "start_time": "2024-05-27T15:54:25.075Z"
   },
   {
    "duration": 30,
    "start_time": "2024-05-27T15:54:25.140Z"
   },
   {
    "duration": 27,
    "start_time": "2024-05-27T15:54:25.173Z"
   },
   {
    "duration": 30,
    "start_time": "2024-05-27T15:54:25.202Z"
   },
   {
    "duration": 43,
    "start_time": "2024-05-27T15:54:25.237Z"
   },
   {
    "duration": 4,
    "start_time": "2024-05-27T15:54:25.283Z"
   },
   {
    "duration": 44,
    "start_time": "2024-05-27T15:54:25.289Z"
   },
   {
    "duration": 42,
    "start_time": "2024-05-27T15:54:25.335Z"
   },
   {
    "duration": 22,
    "start_time": "2024-05-27T15:54:25.380Z"
   },
   {
    "duration": 52,
    "start_time": "2024-05-27T15:54:25.433Z"
   },
   {
    "duration": 4,
    "start_time": "2024-05-27T15:54:25.489Z"
   },
   {
    "duration": 48,
    "start_time": "2024-05-27T15:54:25.496Z"
   },
   {
    "duration": 515,
    "start_time": "2024-05-27T15:54:25.548Z"
   },
   {
    "duration": 4,
    "start_time": "2024-05-27T15:54:26.066Z"
   },
   {
    "duration": 4,
    "start_time": "2024-05-27T15:54:26.074Z"
   },
   {
    "duration": 4,
    "start_time": "2024-05-27T15:54:26.082Z"
   },
   {
    "duration": 7,
    "start_time": "2024-05-27T15:54:26.089Z"
   },
   {
    "duration": 3,
    "start_time": "2024-05-27T15:54:26.135Z"
   },
   {
    "duration": 41,
    "start_time": "2024-05-27T15:54:26.141Z"
   },
   {
    "duration": 67,
    "start_time": "2024-05-27T15:54:26.185Z"
   },
   {
    "duration": 14,
    "start_time": "2024-05-27T15:54:26.256Z"
   },
   {
    "duration": 17,
    "start_time": "2024-05-27T15:54:26.274Z"
   },
   {
    "duration": 39,
    "start_time": "2024-05-27T15:54:26.294Z"
   },
   {
    "duration": 16,
    "start_time": "2024-05-27T15:54:26.338Z"
   },
   {
    "duration": 12,
    "start_time": "2024-05-27T15:54:26.358Z"
   },
   {
    "duration": 8,
    "start_time": "2024-05-27T15:54:26.373Z"
   },
   {
    "duration": 6,
    "start_time": "2024-05-27T16:28:18.355Z"
   },
   {
    "duration": 24,
    "start_time": "2024-05-27T16:28:33.949Z"
   },
   {
    "duration": 7,
    "start_time": "2024-05-27T16:34:12.472Z"
   },
   {
    "duration": 17,
    "start_time": "2024-05-27T16:34:15.246Z"
   },
   {
    "duration": 18,
    "start_time": "2024-05-27T16:34:44.417Z"
   },
   {
    "duration": 14,
    "start_time": "2024-05-27T16:35:08.480Z"
   },
   {
    "duration": 23,
    "start_time": "2024-05-27T16:44:08.997Z"
   },
   {
    "duration": 19,
    "start_time": "2024-05-27T16:55:40.028Z"
   },
   {
    "duration": 359,
    "start_time": "2024-05-27T17:53:55.499Z"
   },
   {
    "duration": 4975,
    "start_time": "2024-05-27T17:54:23.200Z"
   },
   {
    "duration": 394,
    "start_time": "2024-05-27T17:54:28.179Z"
   },
   {
    "duration": 17,
    "start_time": "2024-05-27T17:54:28.576Z"
   },
   {
    "duration": 28,
    "start_time": "2024-05-27T17:54:28.597Z"
   },
   {
    "duration": 11,
    "start_time": "2024-05-27T17:54:28.628Z"
   },
   {
    "duration": 12,
    "start_time": "2024-05-27T17:54:28.642Z"
   },
   {
    "duration": 12,
    "start_time": "2024-05-27T17:54:28.657Z"
   },
   {
    "duration": 59,
    "start_time": "2024-05-27T17:54:28.672Z"
   },
   {
    "duration": 6,
    "start_time": "2024-05-27T17:54:28.735Z"
   },
   {
    "duration": 5,
    "start_time": "2024-05-27T17:54:28.751Z"
   },
   {
    "duration": 4,
    "start_time": "2024-05-27T17:54:28.760Z"
   },
   {
    "duration": 62,
    "start_time": "2024-05-27T17:54:28.768Z"
   },
   {
    "duration": 23,
    "start_time": "2024-05-27T17:54:28.835Z"
   },
   {
    "duration": 10,
    "start_time": "2024-05-27T17:54:28.862Z"
   },
   {
    "duration": 48,
    "start_time": "2024-05-27T17:54:28.876Z"
   },
   {
    "duration": 7,
    "start_time": "2024-05-27T17:54:28.928Z"
   },
   {
    "duration": 9,
    "start_time": "2024-05-27T17:54:28.938Z"
   },
   {
    "duration": 27,
    "start_time": "2024-05-27T17:54:28.951Z"
   },
   {
    "duration": 68,
    "start_time": "2024-05-27T17:54:28.981Z"
   },
   {
    "duration": 22,
    "start_time": "2024-05-27T17:54:29.054Z"
   },
   {
    "duration": 57,
    "start_time": "2024-05-27T17:54:29.080Z"
   },
   {
    "duration": 36,
    "start_time": "2024-05-27T17:54:29.140Z"
   },
   {
    "duration": 54,
    "start_time": "2024-05-27T17:54:29.180Z"
   },
   {
    "duration": 14,
    "start_time": "2024-05-27T17:54:29.237Z"
   },
   {
    "duration": 14,
    "start_time": "2024-05-27T18:00:20.626Z"
   },
   {
    "duration": 17,
    "start_time": "2024-05-27T18:01:52.365Z"
   },
   {
    "duration": 22,
    "start_time": "2024-05-27T18:02:00.995Z"
   },
   {
    "duration": 22,
    "start_time": "2024-05-27T18:02:04.189Z"
   },
   {
    "duration": 32,
    "start_time": "2024-05-27T18:02:14.630Z"
   },
   {
    "duration": 19,
    "start_time": "2024-05-27T18:03:08.438Z"
   },
   {
    "duration": 31,
    "start_time": "2024-05-27T18:03:47.936Z"
   },
   {
    "duration": 25,
    "start_time": "2024-05-27T18:03:54.002Z"
   },
   {
    "duration": 12,
    "start_time": "2024-05-27T18:04:19.916Z"
   },
   {
    "duration": 40,
    "start_time": "2024-05-27T18:19:20.944Z"
   },
   {
    "duration": 38,
    "start_time": "2024-05-27T18:22:16.226Z"
   },
   {
    "duration": 35,
    "start_time": "2024-05-27T18:23:27.985Z"
   },
   {
    "duration": 31,
    "start_time": "2024-05-27T18:28:06.098Z"
   },
   {
    "duration": 43,
    "start_time": "2024-05-27T18:28:29.714Z"
   },
   {
    "duration": 116,
    "start_time": "2024-05-27T18:29:10.356Z"
   },
   {
    "duration": 46,
    "start_time": "2024-05-27T18:31:03.726Z"
   },
   {
    "duration": 22,
    "start_time": "2024-05-27T18:32:22.394Z"
   },
   {
    "duration": 34,
    "start_time": "2024-05-27T18:33:35.342Z"
   },
   {
    "duration": 33,
    "start_time": "2024-05-27T18:33:38.853Z"
   },
   {
    "duration": 27,
    "start_time": "2024-05-27T18:33:45.145Z"
   },
   {
    "duration": 29,
    "start_time": "2024-05-27T18:34:12.042Z"
   },
   {
    "duration": 37,
    "start_time": "2024-05-27T18:48:06.394Z"
   },
   {
    "duration": 42,
    "start_time": "2024-05-27T18:49:03.134Z"
   },
   {
    "duration": 5280,
    "start_time": "2024-05-28T16:26:58.338Z"
   },
   {
    "duration": 440,
    "start_time": "2024-05-28T16:27:03.622Z"
   },
   {
    "duration": 23,
    "start_time": "2024-05-28T16:27:04.065Z"
   },
   {
    "duration": 28,
    "start_time": "2024-05-28T16:27:04.093Z"
   },
   {
    "duration": 15,
    "start_time": "2024-05-28T16:27:04.125Z"
   },
   {
    "duration": 16,
    "start_time": "2024-05-28T16:27:04.142Z"
   },
   {
    "duration": 50,
    "start_time": "2024-05-28T16:27:04.162Z"
   },
   {
    "duration": 18,
    "start_time": "2024-05-28T16:27:04.215Z"
   },
   {
    "duration": 4,
    "start_time": "2024-05-28T16:27:04.236Z"
   },
   {
    "duration": 4,
    "start_time": "2024-05-28T16:27:04.246Z"
   },
   {
    "duration": 4,
    "start_time": "2024-05-28T16:27:04.252Z"
   },
   {
    "duration": 15,
    "start_time": "2024-05-28T16:27:04.310Z"
   },
   {
    "duration": 20,
    "start_time": "2024-05-28T16:27:04.328Z"
   },
   {
    "duration": 10,
    "start_time": "2024-05-28T16:27:04.352Z"
   },
   {
    "duration": 60,
    "start_time": "2024-05-28T16:27:04.365Z"
   },
   {
    "duration": 6,
    "start_time": "2024-05-28T16:27:04.428Z"
   },
   {
    "duration": 9,
    "start_time": "2024-05-28T16:27:04.437Z"
   },
   {
    "duration": 65,
    "start_time": "2024-05-28T16:27:04.449Z"
   },
   {
    "duration": 29,
    "start_time": "2024-05-28T16:27:04.517Z"
   },
   {
    "duration": 30,
    "start_time": "2024-05-28T16:27:04.549Z"
   },
   {
    "duration": 48,
    "start_time": "2024-05-28T16:27:04.586Z"
   },
   {
    "duration": 43,
    "start_time": "2024-05-28T16:27:04.639Z"
   },
   {
    "duration": 38,
    "start_time": "2024-05-28T16:27:04.686Z"
   },
   {
    "duration": 17,
    "start_time": "2024-05-28T16:27:04.727Z"
   },
   {
    "duration": 14,
    "start_time": "2024-05-28T16:27:04.747Z"
   },
   {
    "duration": 54,
    "start_time": "2024-05-28T16:27:04.765Z"
   },
   {
    "duration": 21,
    "start_time": "2024-05-28T16:27:04.822Z"
   },
   {
    "duration": 24,
    "start_time": "2024-05-28T16:27:04.853Z"
   },
   {
    "duration": 52,
    "start_time": "2024-05-28T16:27:04.909Z"
   },
   {
    "duration": 22,
    "start_time": "2024-05-28T16:27:04.965Z"
   },
   {
    "duration": 34,
    "start_time": "2024-05-28T16:27:05.011Z"
   },
   {
    "duration": 27,
    "start_time": "2024-05-28T16:27:05.049Z"
   },
   {
    "duration": 41,
    "start_time": "2024-05-28T16:27:05.078Z"
   },
   {
    "duration": 42,
    "start_time": "2024-05-28T16:27:05.122Z"
   },
   {
    "duration": 60,
    "start_time": "2024-05-28T16:27:05.167Z"
   },
   {
    "duration": 33,
    "start_time": "2024-05-28T16:27:05.230Z"
   },
   {
    "duration": 59,
    "start_time": "2024-05-28T16:27:05.266Z"
   },
   {
    "duration": 60,
    "start_time": "2024-05-28T16:27:05.328Z"
   },
   {
    "duration": 40,
    "start_time": "2024-05-28T16:27:05.392Z"
   },
   {
    "duration": 16,
    "start_time": "2024-05-28T16:27:05.435Z"
   },
   {
    "duration": 487,
    "start_time": "2024-05-28T16:27:05.454Z"
   },
   {
    "duration": 4,
    "start_time": "2024-05-28T16:27:05.944Z"
   },
   {
    "duration": 4,
    "start_time": "2024-05-28T16:27:05.952Z"
   },
   {
    "duration": 4,
    "start_time": "2024-05-28T16:27:05.960Z"
   },
   {
    "duration": 40,
    "start_time": "2024-05-28T16:27:05.969Z"
   },
   {
    "duration": 4,
    "start_time": "2024-05-28T16:27:06.013Z"
   },
   {
    "duration": 33,
    "start_time": "2024-05-28T16:27:06.021Z"
   },
   {
    "duration": 11,
    "start_time": "2024-05-28T16:27:06.058Z"
   },
   {
    "duration": 24,
    "start_time": "2024-05-28T16:27:06.109Z"
   },
   {
    "duration": 4,
    "start_time": "2024-05-28T16:27:06.136Z"
   },
   {
    "duration": 20,
    "start_time": "2024-05-28T16:27:06.143Z"
   },
   {
    "duration": 44,
    "start_time": "2024-05-28T16:27:06.166Z"
   },
   {
    "duration": 4,
    "start_time": "2024-05-28T16:27:06.213Z"
   },
   {
    "duration": 54,
    "start_time": "2024-05-28T17:24:26.914Z"
   },
   {
    "duration": 40,
    "start_time": "2024-05-28T17:24:42.960Z"
   },
   {
    "duration": 50,
    "start_time": "2024-05-28T17:25:00.760Z"
   },
   {
    "duration": 46,
    "start_time": "2024-05-28T17:26:05.849Z"
   },
   {
    "duration": 4801,
    "start_time": "2024-05-29T16:41:17.983Z"
   },
   {
    "duration": 351,
    "start_time": "2024-05-29T16:41:22.789Z"
   },
   {
    "duration": 19,
    "start_time": "2024-05-29T16:41:23.143Z"
   },
   {
    "duration": 11,
    "start_time": "2024-05-29T16:41:23.167Z"
   },
   {
    "duration": 11,
    "start_time": "2024-05-29T16:41:23.181Z"
   },
   {
    "duration": 45,
    "start_time": "2024-05-29T16:41:23.195Z"
   },
   {
    "duration": 12,
    "start_time": "2024-05-29T16:41:23.243Z"
   },
   {
    "duration": 16,
    "start_time": "2024-05-29T16:41:23.258Z"
   },
   {
    "duration": 3,
    "start_time": "2024-05-29T16:41:23.277Z"
   },
   {
    "duration": 3,
    "start_time": "2024-05-29T16:41:23.332Z"
   },
   {
    "duration": 4,
    "start_time": "2024-05-29T16:41:23.338Z"
   },
   {
    "duration": 16,
    "start_time": "2024-05-29T16:41:23.345Z"
   },
   {
    "duration": 17,
    "start_time": "2024-05-29T16:41:23.366Z"
   },
   {
    "duration": 49,
    "start_time": "2024-05-29T16:41:23.386Z"
   },
   {
    "duration": 16,
    "start_time": "2024-05-29T16:41:23.438Z"
   },
   {
    "duration": 7,
    "start_time": "2024-05-29T16:41:23.457Z"
   },
   {
    "duration": 9,
    "start_time": "2024-05-29T16:41:23.467Z"
   },
   {
    "duration": 67,
    "start_time": "2024-05-29T16:41:23.479Z"
   },
   {
    "duration": 22,
    "start_time": "2024-05-29T16:41:23.549Z"
   },
   {
    "duration": 18,
    "start_time": "2024-05-29T16:41:23.574Z"
   },
   {
    "duration": 59,
    "start_time": "2024-05-29T16:41:23.595Z"
   },
   {
    "duration": 33,
    "start_time": "2024-05-29T16:41:23.657Z"
   },
   {
    "duration": 48,
    "start_time": "2024-05-29T16:41:23.693Z"
   },
   {
    "duration": 17,
    "start_time": "2024-05-29T16:41:23.745Z"
   },
   {
    "duration": 18,
    "start_time": "2024-05-29T16:41:23.766Z"
   },
   {
    "duration": 53,
    "start_time": "2024-05-29T16:41:23.787Z"
   },
   {
    "duration": 21,
    "start_time": "2024-05-29T16:41:23.845Z"
   },
   {
    "duration": 23,
    "start_time": "2024-05-29T16:41:23.875Z"
   },
   {
    "duration": 59,
    "start_time": "2024-05-29T16:41:23.900Z"
   },
   {
    "duration": 18,
    "start_time": "2024-05-29T16:41:23.962Z"
   },
   {
    "duration": 51,
    "start_time": "2024-05-29T16:41:23.985Z"
   },
   {
    "duration": 27,
    "start_time": "2024-05-29T16:41:24.038Z"
   },
   {
    "duration": 15,
    "start_time": "2024-05-29T16:41:24.068Z"
   },
   {
    "duration": 69,
    "start_time": "2024-05-29T16:41:24.087Z"
   },
   {
    "duration": 29,
    "start_time": "2024-05-29T16:41:24.159Z"
   },
   {
    "duration": 52,
    "start_time": "2024-05-29T16:41:24.191Z"
   },
   {
    "duration": 32,
    "start_time": "2024-05-29T16:41:24.246Z"
   },
   {
    "duration": 71,
    "start_time": "2024-05-29T16:41:24.281Z"
   },
   {
    "duration": 48,
    "start_time": "2024-05-29T16:41:24.355Z"
   },
   {
    "duration": 32,
    "start_time": "2024-05-29T16:41:24.406Z"
   },
   {
    "duration": 503,
    "start_time": "2024-05-29T16:41:24.441Z"
   },
   {
    "duration": 8,
    "start_time": "2024-05-29T16:41:24.952Z"
   },
   {
    "duration": 3,
    "start_time": "2024-05-29T16:41:24.966Z"
   },
   {
    "duration": 4,
    "start_time": "2024-05-29T16:41:24.972Z"
   },
   {
    "duration": 12,
    "start_time": "2024-05-29T16:41:24.980Z"
   },
   {
    "duration": 4,
    "start_time": "2024-05-29T16:41:24.994Z"
   },
   {
    "duration": 68,
    "start_time": "2024-05-29T16:41:25.001Z"
   },
   {
    "duration": 12,
    "start_time": "2024-05-29T16:41:25.071Z"
   },
   {
    "duration": 51,
    "start_time": "2024-05-29T16:41:25.086Z"
   },
   {
    "duration": 8,
    "start_time": "2024-05-29T16:41:25.141Z"
   },
   {
    "duration": 18,
    "start_time": "2024-05-29T16:41:25.154Z"
   },
   {
    "duration": 13,
    "start_time": "2024-05-29T16:41:25.179Z"
   },
   {
    "duration": 4,
    "start_time": "2024-05-29T16:41:25.196Z"
   },
   {
    "duration": 430,
    "start_time": "2024-05-29T16:46:22.844Z"
   },
   {
    "duration": 429,
    "start_time": "2024-05-29T16:47:38.284Z"
   },
   {
    "duration": 428,
    "start_time": "2024-05-29T16:48:08.836Z"
   },
   {
    "duration": 570,
    "start_time": "2024-05-29T16:50:01.946Z"
   },
   {
    "duration": 7,
    "start_time": "2024-05-29T17:26:05.344Z"
   },
   {
    "duration": 11,
    "start_time": "2024-05-29T17:27:27.189Z"
   },
   {
    "duration": 10,
    "start_time": "2024-05-29T17:27:44.187Z"
   },
   {
    "duration": 9,
    "start_time": "2024-05-29T17:28:20.170Z"
   },
   {
    "duration": 9,
    "start_time": "2024-05-29T17:28:34.871Z"
   },
   {
    "duration": 36,
    "start_time": "2024-05-29T17:30:28.689Z"
   },
   {
    "duration": 49,
    "start_time": "2024-05-29T17:30:49.639Z"
   },
   {
    "duration": 43,
    "start_time": "2024-05-29T17:32:30.427Z"
   },
   {
    "duration": 41,
    "start_time": "2024-05-29T17:32:44.269Z"
   },
   {
    "duration": 41,
    "start_time": "2024-05-29T17:33:39.124Z"
   },
   {
    "duration": 46,
    "start_time": "2024-05-29T17:37:59.577Z"
   },
   {
    "duration": 44,
    "start_time": "2024-05-29T17:39:44.564Z"
   },
   {
    "duration": 12,
    "start_time": "2024-05-29T17:40:18.225Z"
   },
   {
    "duration": 426,
    "start_time": "2024-05-29T17:40:21.387Z"
   },
   {
    "duration": 433,
    "start_time": "2024-05-29T17:40:31.800Z"
   },
   {
    "duration": 117,
    "start_time": "2024-05-29T17:42:03.364Z"
   },
   {
    "duration": 10,
    "start_time": "2024-05-29T17:43:02.412Z"
   },
   {
    "duration": 14,
    "start_time": "2024-05-29T17:43:42.933Z"
   },
   {
    "duration": 485,
    "start_time": "2024-05-29T18:01:52.616Z"
   },
   {
    "duration": 5,
    "start_time": "2024-05-29T18:04:24.024Z"
   },
   {
    "duration": 8,
    "start_time": "2024-05-29T18:20:04.804Z"
   },
   {
    "duration": 704,
    "start_time": "2024-05-29T18:20:21.909Z"
   },
   {
    "duration": 530,
    "start_time": "2024-05-29T18:33:46.149Z"
   },
   {
    "duration": 10,
    "start_time": "2024-05-29T18:37:59.249Z"
   },
   {
    "duration": 10,
    "start_time": "2024-05-29T18:43:00.560Z"
   },
   {
    "duration": 417,
    "start_time": "2024-05-29T18:43:03.144Z"
   },
   {
    "duration": 412,
    "start_time": "2024-05-29T18:43:10.500Z"
   },
   {
    "duration": 1463,
    "start_time": "2024-05-29T18:53:54.822Z"
   },
   {
    "duration": 52719,
    "start_time": "2024-05-29T18:54:18.495Z"
   },
   {
    "duration": 422,
    "start_time": "2024-05-29T19:02:54.738Z"
   },
   {
    "duration": 403,
    "start_time": "2024-05-29T19:04:44.916Z"
   },
   {
    "duration": 7,
    "start_time": "2024-05-29T19:07:32.944Z"
   },
   {
    "duration": 1270,
    "start_time": "2024-05-29T19:21:46.333Z"
   },
   {
    "duration": 429,
    "start_time": "2024-05-29T19:23:08.433Z"
   },
   {
    "duration": 8,
    "start_time": "2024-05-29T19:26:42.505Z"
   },
   {
    "duration": 87,
    "start_time": "2024-05-29T19:28:54.108Z"
   },
   {
    "duration": 43,
    "start_time": "2024-05-29T19:29:21.926Z"
   },
   {
    "duration": 44,
    "start_time": "2024-05-29T19:30:32.484Z"
   },
   {
    "duration": 54039,
    "start_time": "2024-05-29T19:31:10.458Z"
   },
   {
    "duration": 421,
    "start_time": "2024-05-29T19:32:04.500Z"
   },
   {
    "duration": 426,
    "start_time": "2024-05-29T19:32:37.217Z"
   },
   {
    "duration": 421,
    "start_time": "2024-05-29T19:34:28.123Z"
   },
   {
    "duration": 459,
    "start_time": "2024-05-29T19:37:24.076Z"
   },
   {
    "duration": 469,
    "start_time": "2024-05-29T19:54:27.312Z"
   },
   {
    "duration": 510,
    "start_time": "2024-05-29T19:55:50.823Z"
   },
   {
    "duration": 5404,
    "start_time": "2024-05-30T16:27:49.345Z"
   },
   {
    "duration": 375,
    "start_time": "2024-05-30T16:27:54.753Z"
   },
   {
    "duration": 20,
    "start_time": "2024-05-30T16:27:55.132Z"
   },
   {
    "duration": 13,
    "start_time": "2024-05-30T16:27:55.156Z"
   },
   {
    "duration": 49,
    "start_time": "2024-05-30T16:27:55.174Z"
   },
   {
    "duration": 14,
    "start_time": "2024-05-30T16:27:55.227Z"
   },
   {
    "duration": 14,
    "start_time": "2024-05-30T16:27:55.245Z"
   },
   {
    "duration": 17,
    "start_time": "2024-05-30T16:27:55.262Z"
   },
   {
    "duration": 7,
    "start_time": "2024-05-30T16:27:55.324Z"
   },
   {
    "duration": 3,
    "start_time": "2024-05-30T16:27:55.339Z"
   },
   {
    "duration": 5,
    "start_time": "2024-05-30T16:27:55.346Z"
   },
   {
    "duration": 17,
    "start_time": "2024-05-30T16:27:55.355Z"
   },
   {
    "duration": 19,
    "start_time": "2024-05-30T16:27:55.424Z"
   },
   {
    "duration": 8,
    "start_time": "2024-05-30T16:27:55.447Z"
   },
   {
    "duration": 18,
    "start_time": "2024-05-30T16:27:55.459Z"
   },
   {
    "duration": 46,
    "start_time": "2024-05-30T16:27:55.481Z"
   },
   {
    "duration": 11,
    "start_time": "2024-05-30T16:27:55.530Z"
   },
   {
    "duration": 27,
    "start_time": "2024-05-30T16:27:55.544Z"
   },
   {
    "duration": 76,
    "start_time": "2024-05-30T16:27:55.575Z"
   },
   {
    "duration": 21,
    "start_time": "2024-05-30T16:27:55.655Z"
   },
   {
    "duration": 65,
    "start_time": "2024-05-30T16:27:55.684Z"
   },
   {
    "duration": 44,
    "start_time": "2024-05-30T16:27:55.755Z"
   },
   {
    "duration": 42,
    "start_time": "2024-05-30T16:27:55.803Z"
   },
   {
    "duration": 26,
    "start_time": "2024-05-30T16:27:55.852Z"
   },
   {
    "duration": 48,
    "start_time": "2024-05-30T16:27:55.883Z"
   },
   {
    "duration": 29,
    "start_time": "2024-05-30T16:27:55.935Z"
   },
   {
    "duration": 26,
    "start_time": "2024-05-30T16:27:55.968Z"
   },
   {
    "duration": 34,
    "start_time": "2024-05-30T16:27:56.030Z"
   },
   {
    "duration": 70,
    "start_time": "2024-05-30T16:27:56.068Z"
   },
   {
    "duration": 18,
    "start_time": "2024-05-30T16:27:56.141Z"
   },
   {
    "duration": 23,
    "start_time": "2024-05-30T16:27:56.162Z"
   },
   {
    "duration": 62,
    "start_time": "2024-05-30T16:27:56.188Z"
   },
   {
    "duration": 20,
    "start_time": "2024-05-30T16:27:56.256Z"
   },
   {
    "duration": 70,
    "start_time": "2024-05-30T16:27:56.281Z"
   },
   {
    "duration": 69,
    "start_time": "2024-05-30T16:27:56.360Z"
   },
   {
    "duration": 46,
    "start_time": "2024-05-30T16:27:56.437Z"
   },
   {
    "duration": 56,
    "start_time": "2024-05-30T16:27:56.486Z"
   },
   {
    "duration": 77,
    "start_time": "2024-05-30T16:27:56.546Z"
   },
   {
    "duration": 50,
    "start_time": "2024-05-30T16:27:56.626Z"
   },
   {
    "duration": 41866,
    "start_time": "2024-05-30T16:27:56.680Z"
   },
   {
    "duration": 0,
    "start_time": "2024-05-30T16:28:38.550Z"
   },
   {
    "duration": 0,
    "start_time": "2024-05-30T16:28:38.552Z"
   },
   {
    "duration": 0,
    "start_time": "2024-05-30T16:28:38.555Z"
   },
   {
    "duration": 0,
    "start_time": "2024-05-30T16:28:38.557Z"
   },
   {
    "duration": 0,
    "start_time": "2024-05-30T16:28:38.560Z"
   },
   {
    "duration": 0,
    "start_time": "2024-05-30T16:28:38.562Z"
   },
   {
    "duration": 0,
    "start_time": "2024-05-30T16:28:38.565Z"
   },
   {
    "duration": 0,
    "start_time": "2024-05-30T16:28:38.567Z"
   },
   {
    "duration": 0,
    "start_time": "2024-05-30T16:28:38.569Z"
   },
   {
    "duration": 0,
    "start_time": "2024-05-30T16:28:38.573Z"
   },
   {
    "duration": 0,
    "start_time": "2024-05-30T16:28:38.574Z"
   },
   {
    "duration": 0,
    "start_time": "2024-05-30T16:28:38.577Z"
   },
   {
    "duration": 0,
    "start_time": "2024-05-30T16:28:38.624Z"
   },
   {
    "duration": 0,
    "start_time": "2024-05-30T16:28:38.628Z"
   },
   {
    "duration": 0,
    "start_time": "2024-05-30T16:28:38.631Z"
   },
   {
    "duration": 0,
    "start_time": "2024-05-30T16:28:38.635Z"
   },
   {
    "duration": 0,
    "start_time": "2024-05-30T16:28:38.638Z"
   },
   {
    "duration": 0,
    "start_time": "2024-05-30T16:28:38.641Z"
   },
   {
    "duration": 395,
    "start_time": "2024-05-30T17:00:26.200Z"
   },
   {
    "duration": 374,
    "start_time": "2024-05-30T17:02:22.973Z"
   },
   {
    "duration": 364,
    "start_time": "2024-05-30T17:02:37.586Z"
   },
   {
    "duration": 447,
    "start_time": "2024-05-30T17:07:38.612Z"
   },
   {
    "duration": 513,
    "start_time": "2024-05-30T17:08:24.805Z"
   },
   {
    "duration": 12,
    "start_time": "2024-05-30T17:08:31.204Z"
   },
   {
    "duration": 4,
    "start_time": "2024-05-30T17:17:09.040Z"
   },
   {
    "duration": 319,
    "start_time": "2024-05-30T17:17:09.048Z"
   },
   {
    "duration": 14,
    "start_time": "2024-05-30T17:17:09.371Z"
   },
   {
    "duration": 12,
    "start_time": "2024-05-30T17:17:09.388Z"
   },
   {
    "duration": 11,
    "start_time": "2024-05-30T17:17:09.424Z"
   },
   {
    "duration": 13,
    "start_time": "2024-05-30T17:17:09.440Z"
   },
   {
    "duration": 14,
    "start_time": "2024-05-30T17:17:09.456Z"
   },
   {
    "duration": 62,
    "start_time": "2024-05-30T17:17:09.473Z"
   },
   {
    "duration": 4,
    "start_time": "2024-05-30T17:17:09.539Z"
   },
   {
    "duration": 5,
    "start_time": "2024-05-30T17:17:09.546Z"
   },
   {
    "duration": 4,
    "start_time": "2024-05-30T17:17:09.557Z"
   },
   {
    "duration": 63,
    "start_time": "2024-05-30T17:17:09.564Z"
   },
   {
    "duration": 27,
    "start_time": "2024-05-30T17:17:09.630Z"
   },
   {
    "duration": 14,
    "start_time": "2024-05-30T17:17:09.667Z"
   },
   {
    "duration": 43,
    "start_time": "2024-05-30T17:17:09.686Z"
   },
   {
    "duration": 11,
    "start_time": "2024-05-30T17:17:09.732Z"
   },
   {
    "duration": 11,
    "start_time": "2024-05-30T17:17:09.753Z"
   },
   {
    "duration": 65,
    "start_time": "2024-05-30T17:17:09.770Z"
   },
   {
    "duration": 38,
    "start_time": "2024-05-30T17:17:09.839Z"
   },
   {
    "duration": 52,
    "start_time": "2024-05-30T17:17:09.881Z"
   },
   {
    "duration": 27,
    "start_time": "2024-05-30T17:17:09.937Z"
   },
   {
    "duration": 63,
    "start_time": "2024-05-30T17:17:09.967Z"
   },
   {
    "duration": 22,
    "start_time": "2024-05-30T17:17:10.034Z"
   },
   {
    "duration": 20,
    "start_time": "2024-05-30T17:17:10.059Z"
   },
   {
    "duration": 51,
    "start_time": "2024-05-30T17:17:10.083Z"
   },
   {
    "duration": 18,
    "start_time": "2024-05-30T17:17:10.138Z"
   },
   {
    "duration": 23,
    "start_time": "2024-05-30T17:17:10.159Z"
   },
   {
    "duration": 60,
    "start_time": "2024-05-30T17:17:10.185Z"
   },
   {
    "duration": 38,
    "start_time": "2024-05-30T17:17:10.253Z"
   },
   {
    "duration": 21,
    "start_time": "2024-05-30T17:17:10.322Z"
   },
   {
    "duration": 22,
    "start_time": "2024-05-30T17:17:10.347Z"
   },
   {
    "duration": 57,
    "start_time": "2024-05-30T17:17:10.372Z"
   },
   {
    "duration": 13,
    "start_time": "2024-05-30T17:17:10.433Z"
   },
   {
    "duration": 40,
    "start_time": "2024-05-30T17:17:10.450Z"
   },
   {
    "duration": 34,
    "start_time": "2024-05-30T17:17:10.523Z"
   },
   {
    "duration": 29,
    "start_time": "2024-05-30T17:17:10.560Z"
   },
   {
    "duration": 62,
    "start_time": "2024-05-30T17:17:10.591Z"
   },
   {
    "duration": 70,
    "start_time": "2024-05-30T17:17:10.656Z"
   },
   {
    "duration": 48,
    "start_time": "2024-05-30T17:17:10.729Z"
   },
   {
    "duration": 443,
    "start_time": "2024-05-30T17:17:10.780Z"
   },
   {
    "duration": 449,
    "start_time": "2024-05-30T17:17:11.227Z"
   },
   {
    "duration": 458,
    "start_time": "2024-05-30T17:17:11.680Z"
   },
   {
    "duration": 10,
    "start_time": "2024-05-30T17:17:12.142Z"
   },
   {
    "duration": 507,
    "start_time": "2024-05-30T17:17:12.155Z"
   },
   {
    "duration": 765,
    "start_time": "2024-05-30T17:17:12.665Z"
   },
   {
    "duration": 448,
    "start_time": "2024-05-30T17:17:13.435Z"
   },
   {
    "duration": 9,
    "start_time": "2024-05-30T17:17:13.886Z"
   },
   {
    "duration": 503,
    "start_time": "2024-05-30T17:17:13.899Z"
   },
   {
    "duration": 456,
    "start_time": "2024-05-30T17:17:14.406Z"
   },
   {
    "duration": 9,
    "start_time": "2024-05-30T17:17:14.865Z"
   },
   {
    "duration": 466,
    "start_time": "2024-05-30T17:17:14.878Z"
   },
   {
    "duration": 479,
    "start_time": "2024-05-30T17:17:15.350Z"
   },
   {
    "duration": 438,
    "start_time": "2024-05-30T17:17:15.832Z"
   },
   {
    "duration": 492,
    "start_time": "2024-05-30T17:17:16.273Z"
   },
   {
    "duration": 10,
    "start_time": "2024-05-30T17:17:16.768Z"
   },
   {
    "duration": 16,
    "start_time": "2024-05-30T17:17:16.781Z"
   },
   {
    "duration": 13,
    "start_time": "2024-05-30T17:17:16.823Z"
   },
   {
    "duration": 12,
    "start_time": "2024-05-30T17:17:16.839Z"
   },
   {
    "duration": 12,
    "start_time": "2024-05-30T17:41:56.066Z"
   },
   {
    "duration": 10,
    "start_time": "2024-05-30T17:42:10.362Z"
   },
   {
    "duration": 15,
    "start_time": "2024-05-30T17:42:15.709Z"
   },
   {
    "duration": 48,
    "start_time": "2024-05-30T17:42:36.965Z"
   },
   {
    "duration": 47,
    "start_time": "2024-05-30T17:42:45.641Z"
   },
   {
    "duration": 11,
    "start_time": "2024-05-30T17:43:22.207Z"
   },
   {
    "duration": 18,
    "start_time": "2024-05-30T17:43:26.648Z"
   },
   {
    "duration": 6,
    "start_time": "2024-05-30T17:44:59.730Z"
   },
   {
    "duration": 347,
    "start_time": "2024-05-30T17:44:59.758Z"
   },
   {
    "duration": 18,
    "start_time": "2024-05-30T17:45:00.108Z"
   },
   {
    "duration": 14,
    "start_time": "2024-05-30T17:45:00.129Z"
   },
   {
    "duration": 13,
    "start_time": "2024-05-30T17:45:00.148Z"
   },
   {
    "duration": 58,
    "start_time": "2024-05-30T17:45:00.165Z"
   },
   {
    "duration": 17,
    "start_time": "2024-05-30T17:45:00.227Z"
   },
   {
    "duration": 16,
    "start_time": "2024-05-30T17:45:00.249Z"
   },
   {
    "duration": 4,
    "start_time": "2024-05-30T17:45:00.269Z"
   },
   {
    "duration": 48,
    "start_time": "2024-05-30T17:45:00.276Z"
   },
   {
    "duration": 3,
    "start_time": "2024-05-30T17:45:00.333Z"
   },
   {
    "duration": 17,
    "start_time": "2024-05-30T17:45:00.340Z"
   },
   {
    "duration": 20,
    "start_time": "2024-05-30T17:45:00.360Z"
   },
   {
    "duration": 44,
    "start_time": "2024-05-30T17:45:00.384Z"
   },
   {
    "duration": 20,
    "start_time": "2024-05-30T17:45:00.432Z"
   },
   {
    "duration": 8,
    "start_time": "2024-05-30T17:45:00.456Z"
   },
   {
    "duration": 55,
    "start_time": "2024-05-30T17:45:00.468Z"
   },
   {
    "duration": 28,
    "start_time": "2024-05-30T17:45:03.411Z"
   },
   {
    "duration": 36,
    "start_time": "2024-05-30T17:45:09.633Z"
   },
   {
    "duration": 20,
    "start_time": "2024-05-30T17:45:11.606Z"
   },
   {
    "duration": 27,
    "start_time": "2024-05-30T17:45:17.626Z"
   },
   {
    "duration": 35,
    "start_time": "2024-05-30T17:45:20.317Z"
   },
   {
    "duration": 42,
    "start_time": "2024-05-30T17:45:25.208Z"
   },
   {
    "duration": 26,
    "start_time": "2024-05-30T17:45:28.113Z"
   },
   {
    "duration": 18,
    "start_time": "2024-05-30T17:45:30.349Z"
   },
   {
    "duration": 19,
    "start_time": "2024-05-30T17:45:35.906Z"
   },
   {
    "duration": 24,
    "start_time": "2024-05-30T17:45:38.112Z"
   },
   {
    "duration": 24,
    "start_time": "2024-05-30T17:45:40.466Z"
   },
   {
    "duration": 31,
    "start_time": "2024-05-30T17:45:43.744Z"
   },
   {
    "duration": 22,
    "start_time": "2024-05-30T17:45:50.208Z"
   },
   {
    "duration": 22,
    "start_time": "2024-05-30T17:45:55.635Z"
   },
   {
    "duration": 28,
    "start_time": "2024-05-30T17:45:57.836Z"
   },
   {
    "duration": 4,
    "start_time": "2024-05-30T17:46:16.525Z"
   },
   {
    "duration": 385,
    "start_time": "2024-05-30T17:46:16.536Z"
   },
   {
    "duration": 14,
    "start_time": "2024-05-30T17:46:16.925Z"
   },
   {
    "duration": 13,
    "start_time": "2024-05-30T17:46:16.943Z"
   },
   {
    "duration": 11,
    "start_time": "2024-05-30T17:46:16.960Z"
   },
   {
    "duration": 52,
    "start_time": "2024-05-30T17:46:16.975Z"
   },
   {
    "duration": 13,
    "start_time": "2024-05-30T17:46:17.031Z"
   },
   {
    "duration": 14,
    "start_time": "2024-05-30T17:46:17.048Z"
   },
   {
    "duration": 5,
    "start_time": "2024-05-30T17:46:17.065Z"
   },
   {
    "duration": 4,
    "start_time": "2024-05-30T17:46:17.073Z"
   },
   {
    "duration": 3,
    "start_time": "2024-05-30T17:46:17.128Z"
   },
   {
    "duration": 15,
    "start_time": "2024-05-30T17:46:17.134Z"
   },
   {
    "duration": 35,
    "start_time": "2024-05-30T17:46:17.152Z"
   },
   {
    "duration": 8,
    "start_time": "2024-05-30T17:46:17.190Z"
   },
   {
    "duration": 15,
    "start_time": "2024-05-30T17:46:17.224Z"
   },
   {
    "duration": 7,
    "start_time": "2024-05-30T17:46:17.242Z"
   },
   {
    "duration": 9,
    "start_time": "2024-05-30T17:46:17.252Z"
   },
   {
    "duration": 70,
    "start_time": "2024-05-30T17:46:17.264Z"
   },
   {
    "duration": 24,
    "start_time": "2024-05-30T17:46:17.339Z"
   },
   {
    "duration": 38,
    "start_time": "2024-05-30T17:46:17.366Z"
   },
   {
    "duration": 39,
    "start_time": "2024-05-30T17:46:17.407Z"
   },
   {
    "duration": 33,
    "start_time": "2024-05-30T17:46:17.450Z"
   },
   {
    "duration": 48,
    "start_time": "2024-05-30T17:46:17.486Z"
   },
   {
    "duration": 17,
    "start_time": "2024-05-30T17:46:17.538Z"
   },
   {
    "duration": 16,
    "start_time": "2024-05-30T17:46:17.558Z"
   },
   {
    "duration": 54,
    "start_time": "2024-05-30T17:46:17.577Z"
   },
   {
    "duration": 22,
    "start_time": "2024-05-30T17:46:17.633Z"
   },
   {
    "duration": 23,
    "start_time": "2024-05-30T17:46:17.658Z"
   },
   {
    "duration": 63,
    "start_time": "2024-05-30T17:46:17.688Z"
   },
   {
    "duration": 21,
    "start_time": "2024-05-30T17:46:17.754Z"
   },
   {
    "duration": 50,
    "start_time": "2024-05-30T17:46:17.778Z"
   },
   {
    "duration": 26,
    "start_time": "2024-05-30T17:46:17.832Z"
   },
   {
    "duration": 12,
    "start_time": "2024-05-30T17:46:17.860Z"
   },
   {
    "duration": 66,
    "start_time": "2024-05-30T17:46:17.876Z"
   },
   {
    "duration": 32,
    "start_time": "2024-05-30T17:46:17.946Z"
   },
   {
    "duration": 65,
    "start_time": "2024-05-30T17:46:17.982Z"
   },
   {
    "duration": 39,
    "start_time": "2024-05-30T17:46:18.050Z"
   },
   {
    "duration": 87,
    "start_time": "2024-05-30T17:46:18.093Z"
   },
   {
    "duration": 74,
    "start_time": "2024-05-30T17:46:18.184Z"
   },
   {
    "duration": 456,
    "start_time": "2024-05-30T17:46:18.262Z"
   },
   {
    "duration": 471,
    "start_time": "2024-05-30T17:46:18.724Z"
   },
   {
    "duration": 446,
    "start_time": "2024-05-30T17:46:19.199Z"
   },
   {
    "duration": 9,
    "start_time": "2024-05-30T17:46:19.649Z"
   },
   {
    "duration": 572,
    "start_time": "2024-05-30T17:46:19.662Z"
   },
   {
    "duration": 481,
    "start_time": "2024-05-30T17:46:20.238Z"
   },
   {
    "duration": 835,
    "start_time": "2024-05-30T17:46:20.725Z"
   },
   {
    "duration": 9,
    "start_time": "2024-05-30T17:46:21.565Z"
   },
   {
    "duration": 478,
    "start_time": "2024-05-30T17:46:21.579Z"
   },
   {
    "duration": 467,
    "start_time": "2024-05-30T17:46:22.060Z"
   },
   {
    "duration": 10,
    "start_time": "2024-05-30T17:46:22.531Z"
   },
   {
    "duration": 496,
    "start_time": "2024-05-30T17:46:22.544Z"
   },
   {
    "duration": 456,
    "start_time": "2024-05-30T17:46:23.043Z"
   },
   {
    "duration": 453,
    "start_time": "2024-05-30T17:46:23.501Z"
   },
   {
    "duration": 478,
    "start_time": "2024-05-30T17:46:23.958Z"
   },
   {
    "duration": 9,
    "start_time": "2024-05-30T17:47:28.477Z"
   },
   {
    "duration": 10,
    "start_time": "2024-05-30T17:52:45.067Z"
   },
   {
    "duration": 5609,
    "start_time": "2024-05-30T18:32:01.806Z"
   },
   {
    "duration": 396,
    "start_time": "2024-05-30T18:32:07.419Z"
   },
   {
    "duration": 21,
    "start_time": "2024-05-30T18:32:07.818Z"
   },
   {
    "duration": 11,
    "start_time": "2024-05-30T18:32:07.843Z"
   },
   {
    "duration": 31,
    "start_time": "2024-05-30T18:32:07.861Z"
   },
   {
    "duration": 15,
    "start_time": "2024-05-30T18:32:07.895Z"
   },
   {
    "duration": 16,
    "start_time": "2024-05-30T18:32:07.913Z"
   },
   {
    "duration": 61,
    "start_time": "2024-05-30T18:32:07.932Z"
   },
   {
    "duration": 3,
    "start_time": "2024-05-30T18:32:07.996Z"
   },
   {
    "duration": 6,
    "start_time": "2024-05-30T18:32:08.002Z"
   },
   {
    "duration": 3,
    "start_time": "2024-05-30T18:32:08.012Z"
   },
   {
    "duration": 17,
    "start_time": "2024-05-30T18:32:08.019Z"
   },
   {
    "duration": 57,
    "start_time": "2024-05-30T18:32:08.039Z"
   },
   {
    "duration": 9,
    "start_time": "2024-05-30T18:32:08.104Z"
   },
   {
    "duration": 19,
    "start_time": "2024-05-30T18:32:08.116Z"
   },
   {
    "duration": 8,
    "start_time": "2024-05-30T18:32:08.138Z"
   },
   {
    "duration": 57,
    "start_time": "2024-05-30T18:32:08.149Z"
   },
   {
    "duration": 36,
    "start_time": "2024-05-30T18:32:08.212Z"
   },
   {
    "duration": 22,
    "start_time": "2024-05-30T18:32:08.251Z"
   },
   {
    "duration": 22,
    "start_time": "2024-05-30T18:32:08.292Z"
   },
   {
    "duration": 33,
    "start_time": "2024-05-30T18:32:08.318Z"
   },
   {
    "duration": 68,
    "start_time": "2024-05-30T18:32:08.355Z"
   },
   {
    "duration": 25,
    "start_time": "2024-05-30T18:32:08.427Z"
   },
   {
    "duration": 41,
    "start_time": "2024-05-30T18:32:08.455Z"
   },
   {
    "duration": 18,
    "start_time": "2024-05-30T18:32:08.506Z"
   },
   {
    "duration": 21,
    "start_time": "2024-05-30T18:32:08.528Z"
   },
   {
    "duration": 48,
    "start_time": "2024-05-30T18:32:08.551Z"
   },
   {
    "duration": 30,
    "start_time": "2024-05-30T18:32:08.602Z"
   },
   {
    "duration": 31,
    "start_time": "2024-05-30T18:32:08.635Z"
   },
   {
    "duration": 47,
    "start_time": "2024-05-30T18:32:08.668Z"
   },
   {
    "duration": 31,
    "start_time": "2024-05-30T18:32:08.719Z"
   },
   {
    "duration": 65,
    "start_time": "2024-05-30T18:32:08.753Z"
   },
   {
    "duration": 15,
    "start_time": "2024-05-30T18:32:08.821Z"
   },
   {
    "duration": 72,
    "start_time": "2024-05-30T18:32:08.839Z"
   },
   {
    "duration": 37,
    "start_time": "2024-05-30T18:32:08.914Z"
   },
   {
    "duration": 61,
    "start_time": "2024-05-30T18:32:08.954Z"
   },
   {
    "duration": 38,
    "start_time": "2024-05-30T18:32:09.018Z"
   },
   {
    "duration": 79,
    "start_time": "2024-05-30T18:32:09.059Z"
   },
   {
    "duration": 69,
    "start_time": "2024-05-30T18:32:09.142Z"
   },
   {
    "duration": 461,
    "start_time": "2024-05-30T18:32:09.214Z"
   },
   {
    "duration": 497,
    "start_time": "2024-05-30T18:32:09.692Z"
   },
   {
    "duration": 576,
    "start_time": "2024-05-30T18:32:10.193Z"
   },
   {
    "duration": 19,
    "start_time": "2024-05-30T18:32:10.772Z"
   },
   {
    "duration": 593,
    "start_time": "2024-05-30T18:32:10.794Z"
   },
   {
    "duration": 435,
    "start_time": "2024-05-30T18:32:11.399Z"
   },
   {
    "duration": 493,
    "start_time": "2024-05-30T18:32:11.837Z"
   },
   {
    "duration": 9,
    "start_time": "2024-05-30T18:32:12.334Z"
   },
   {
    "duration": 489,
    "start_time": "2024-05-30T18:32:12.346Z"
   },
   {
    "duration": 456,
    "start_time": "2024-05-30T18:32:12.839Z"
   },
   {
    "duration": 8,
    "start_time": "2024-05-30T18:32:13.301Z"
   },
   {
    "duration": 492,
    "start_time": "2024-05-30T18:32:13.317Z"
   },
   {
    "duration": 534,
    "start_time": "2024-05-30T18:32:13.813Z"
   },
   {
    "duration": 484,
    "start_time": "2024-05-30T18:32:14.351Z"
   },
   {
    "duration": 452,
    "start_time": "2024-05-30T18:32:14.838Z"
   },
   {
    "duration": 9,
    "start_time": "2024-05-30T18:32:15.294Z"
   },
   {
    "duration": 13,
    "start_time": "2024-05-30T18:32:15.306Z"
   },
   {
    "duration": 9,
    "start_time": "2024-05-30T18:32:15.322Z"
   },
   {
    "duration": 56,
    "start_time": "2024-05-30T18:32:15.335Z"
   },
   {
    "duration": 14,
    "start_time": "2024-05-30T18:32:15.394Z"
   },
   {
    "duration": 8,
    "start_time": "2024-05-30T18:33:20.448Z"
   },
   {
    "duration": 26,
    "start_time": "2024-05-30T18:33:29.417Z"
   },
   {
    "duration": 469,
    "start_time": "2024-05-30T18:39:10.615Z"
   },
   {
    "duration": 43,
    "start_time": "2024-05-30T18:39:20.287Z"
   },
   {
    "duration": 4,
    "start_time": "2024-05-30T18:39:42.649Z"
   },
   {
    "duration": 27,
    "start_time": "2024-05-30T18:40:03.375Z"
   },
   {
    "duration": 909,
    "start_time": "2024-05-30T18:41:39.635Z"
   },
   {
    "duration": 22,
    "start_time": "2024-05-30T18:42:00.212Z"
   },
   {
    "duration": 6,
    "start_time": "2024-05-30T18:50:29.762Z"
   },
   {
    "duration": 7,
    "start_time": "2024-05-30T19:03:18.949Z"
   },
   {
    "duration": 5,
    "start_time": "2024-05-30T19:03:35.915Z"
   },
   {
    "duration": 49,
    "start_time": "2024-05-30T19:03:50.947Z"
   },
   {
    "duration": 31,
    "start_time": "2024-05-30T19:04:17.129Z"
   },
   {
    "duration": 5,
    "start_time": "2024-05-30T19:06:18.569Z"
   },
   {
    "duration": 285,
    "start_time": "2024-05-30T19:06:18.579Z"
   },
   {
    "duration": 22,
    "start_time": "2024-05-30T19:06:18.868Z"
   },
   {
    "duration": 14,
    "start_time": "2024-05-30T19:06:18.894Z"
   },
   {
    "duration": 17,
    "start_time": "2024-05-30T19:06:18.916Z"
   },
   {
    "duration": 14,
    "start_time": "2024-05-30T19:06:18.936Z"
   },
   {
    "duration": 48,
    "start_time": "2024-05-30T19:06:18.955Z"
   },
   {
    "duration": 15,
    "start_time": "2024-05-30T19:06:19.007Z"
   },
   {
    "duration": 4,
    "start_time": "2024-05-30T19:06:19.025Z"
   },
   {
    "duration": 4,
    "start_time": "2024-05-30T19:06:19.033Z"
   },
   {
    "duration": 48,
    "start_time": "2024-05-30T19:06:19.042Z"
   },
   {
    "duration": 15,
    "start_time": "2024-05-30T19:06:19.094Z"
   },
   {
    "duration": 18,
    "start_time": "2024-05-30T19:06:19.112Z"
   },
   {
    "duration": 8,
    "start_time": "2024-05-30T19:06:19.133Z"
   },
   {
    "duration": 55,
    "start_time": "2024-05-30T19:06:19.145Z"
   },
   {
    "duration": 8,
    "start_time": "2024-05-30T19:06:19.204Z"
   },
   {
    "duration": 26,
    "start_time": "2024-05-30T19:06:28.046Z"
   },
   {
    "duration": 24,
    "start_time": "2024-05-30T19:06:34.409Z"
   },
   {
    "duration": 17,
    "start_time": "2024-05-30T19:06:36.666Z"
   },
   {
    "duration": 27,
    "start_time": "2024-05-30T19:06:46.198Z"
   },
   {
    "duration": 34,
    "start_time": "2024-05-30T19:06:53.139Z"
   },
   {
    "duration": 19,
    "start_time": "2024-05-30T19:06:59.065Z"
   },
   {
    "duration": 14,
    "start_time": "2024-05-30T19:07:01.917Z"
   },
   {
    "duration": 13,
    "start_time": "2024-05-30T19:07:05.893Z"
   },
   {
    "duration": 18,
    "start_time": "2024-05-30T19:07:12.570Z"
   },
   {
    "duration": 20,
    "start_time": "2024-05-30T19:07:17.414Z"
   },
   {
    "duration": 23,
    "start_time": "2024-05-30T19:07:19.812Z"
   },
   {
    "duration": 37,
    "start_time": "2024-05-30T19:07:24.882Z"
   },
   {
    "duration": 17,
    "start_time": "2024-05-30T19:07:28.571Z"
   },
   {
    "duration": 24,
    "start_time": "2024-05-30T19:07:38.108Z"
   },
   {
    "duration": 27,
    "start_time": "2024-05-30T19:07:40.070Z"
   },
   {
    "duration": 12,
    "start_time": "2024-05-30T19:07:44.594Z"
   },
   {
    "duration": 35,
    "start_time": "2024-05-30T19:08:01.931Z"
   },
   {
    "duration": 33,
    "start_time": "2024-05-30T19:08:16.364Z"
   },
   {
    "duration": 29,
    "start_time": "2024-05-30T19:08:27.073Z"
   },
   {
    "duration": 30,
    "start_time": "2024-05-30T19:08:36.334Z"
   },
   {
    "duration": 47,
    "start_time": "2024-05-30T19:08:46.428Z"
   },
   {
    "duration": 303,
    "start_time": "2024-05-30T19:10:53.693Z"
   },
   {
    "duration": 142,
    "start_time": "2024-05-30T19:11:12.999Z"
   },
   {
    "duration": 6,
    "start_time": "2024-05-30T19:11:37.662Z"
   },
   {
    "duration": 390,
    "start_time": "2024-05-30T19:17:42.502Z"
   },
   {
    "duration": 420,
    "start_time": "2024-05-30T19:17:46.533Z"
   },
   {
    "duration": 380,
    "start_time": "2024-05-30T19:18:54.590Z"
   },
   {
    "duration": 414,
    "start_time": "2024-05-30T19:41:29.193Z"
   },
   {
    "duration": 7,
    "start_time": "2024-05-30T19:41:38.190Z"
   },
   {
    "duration": 459,
    "start_time": "2024-05-30T19:41:48.544Z"
   },
   {
    "duration": 439,
    "start_time": "2024-05-30T19:41:56.750Z"
   },
   {
    "duration": 536,
    "start_time": "2024-05-30T19:42:11.279Z"
   },
   {
    "duration": 9,
    "start_time": "2024-05-30T19:42:18.043Z"
   },
   {
    "duration": 465,
    "start_time": "2024-05-30T19:42:22.002Z"
   },
   {
    "duration": 544,
    "start_time": "2024-05-30T19:42:30.311Z"
   },
   {
    "duration": 7,
    "start_time": "2024-05-30T19:42:52.928Z"
   },
   {
    "duration": 461,
    "start_time": "2024-05-30T19:42:58.319Z"
   },
   {
    "duration": 437,
    "start_time": "2024-05-30T19:43:14.529Z"
   },
   {
    "duration": 428,
    "start_time": "2024-05-30T19:43:28.574Z"
   },
   {
    "duration": 467,
    "start_time": "2024-05-30T19:43:38.427Z"
   },
   {
    "duration": 19,
    "start_time": "2024-05-30T19:43:58.405Z"
   },
   {
    "duration": 16,
    "start_time": "2024-05-30T19:44:27.027Z"
   },
   {
    "duration": 3,
    "start_time": "2024-05-30T19:45:19.835Z"
   },
   {
    "duration": 7,
    "start_time": "2024-05-30T19:49:42.327Z"
   },
   {
    "duration": 9,
    "start_time": "2024-05-30T19:49:57.956Z"
   },
   {
    "duration": 8,
    "start_time": "2024-05-30T19:50:01.752Z"
   },
   {
    "duration": 12,
    "start_time": "2024-05-30T19:50:56.206Z"
   },
   {
    "duration": 9,
    "start_time": "2024-05-30T19:51:02.945Z"
   },
   {
    "duration": 10,
    "start_time": "2024-05-30T19:51:44.406Z"
   },
   {
    "duration": 12,
    "start_time": "2024-05-30T19:51:46.846Z"
   },
   {
    "duration": 4,
    "start_time": "2024-05-31T15:17:15.959Z"
   },
   {
    "duration": 5061,
    "start_time": "2024-05-31T15:22:58.698Z"
   },
   {
    "duration": 391,
    "start_time": "2024-05-31T15:23:03.763Z"
   },
   {
    "duration": 19,
    "start_time": "2024-05-31T15:23:04.157Z"
   },
   {
    "duration": 11,
    "start_time": "2024-05-31T15:23:04.180Z"
   },
   {
    "duration": 39,
    "start_time": "2024-05-31T15:23:04.195Z"
   },
   {
    "duration": 12,
    "start_time": "2024-05-31T15:23:04.236Z"
   },
   {
    "duration": 12,
    "start_time": "2024-05-31T15:23:04.252Z"
   },
   {
    "duration": 17,
    "start_time": "2024-05-31T15:23:04.267Z"
   },
   {
    "duration": 3,
    "start_time": "2024-05-31T15:23:04.330Z"
   },
   {
    "duration": 3,
    "start_time": "2024-05-31T15:24:53.810Z"
   },
   {
    "duration": 15,
    "start_time": "2024-05-31T15:27:49.561Z"
   },
   {
    "duration": 18,
    "start_time": "2024-05-31T15:27:54.601Z"
   },
   {
    "duration": 8,
    "start_time": "2024-05-31T15:28:03.084Z"
   },
   {
    "duration": 6,
    "start_time": "2024-05-31T15:30:04.172Z"
   },
   {
    "duration": 8,
    "start_time": "2024-05-31T15:30:31.185Z"
   },
   {
    "duration": 16,
    "start_time": "2024-05-31T15:32:36.849Z"
   },
   {
    "duration": 7,
    "start_time": "2024-05-31T15:32:43.180Z"
   },
   {
    "duration": 31,
    "start_time": "2024-05-31T15:37:03.270Z"
   },
   {
    "duration": 25,
    "start_time": "2024-05-31T15:37:06.286Z"
   },
   {
    "duration": 21,
    "start_time": "2024-05-31T15:37:10.175Z"
   },
   {
    "duration": 36,
    "start_time": "2024-05-31T15:38:19.358Z"
   },
   {
    "duration": 38,
    "start_time": "2024-05-31T15:39:44.464Z"
   },
   {
    "duration": 19,
    "start_time": "2024-05-31T15:40:06.864Z"
   },
   {
    "duration": 14,
    "start_time": "2024-05-31T15:40:10.714Z"
   },
   {
    "duration": 17,
    "start_time": "2024-05-31T15:40:19.532Z"
   },
   {
    "duration": 24,
    "start_time": "2024-05-31T15:40:51.786Z"
   },
   {
    "duration": 25,
    "start_time": "2024-05-31T15:40:54.684Z"
   },
   {
    "duration": 28,
    "start_time": "2024-05-31T15:40:58.589Z"
   },
   {
    "duration": 44,
    "start_time": "2024-05-31T15:41:10.256Z"
   },
   {
    "duration": 17,
    "start_time": "2024-05-31T15:41:13.012Z"
   },
   {
    "duration": 29,
    "start_time": "2024-05-31T15:41:26.715Z"
   },
   {
    "duration": 28,
    "start_time": "2024-05-31T15:41:31.079Z"
   },
   {
    "duration": 5275,
    "start_time": "2024-05-31T16:28:47.338Z"
   },
   {
    "duration": 379,
    "start_time": "2024-05-31T16:28:52.616Z"
   },
   {
    "duration": 26,
    "start_time": "2024-05-31T16:28:52.998Z"
   },
   {
    "duration": 19,
    "start_time": "2024-05-31T16:28:53.028Z"
   },
   {
    "duration": 23,
    "start_time": "2024-05-31T16:28:53.050Z"
   },
   {
    "duration": 13,
    "start_time": "2024-05-31T16:28:53.076Z"
   },
   {
    "duration": 35,
    "start_time": "2024-05-31T16:28:53.093Z"
   },
   {
    "duration": 19,
    "start_time": "2024-05-31T16:28:53.132Z"
   },
   {
    "duration": 4,
    "start_time": "2024-05-31T16:28:53.155Z"
   },
   {
    "duration": 5,
    "start_time": "2024-05-31T16:28:53.167Z"
   },
   {
    "duration": 5,
    "start_time": "2024-05-31T16:28:53.226Z"
   },
   {
    "duration": 16,
    "start_time": "2024-05-31T16:28:53.234Z"
   },
   {
    "duration": 19,
    "start_time": "2024-05-31T16:28:53.253Z"
   },
   {
    "duration": 40,
    "start_time": "2024-05-31T16:28:53.275Z"
   },
   {
    "duration": 18,
    "start_time": "2024-05-31T16:28:53.322Z"
   },
   {
    "duration": 8,
    "start_time": "2024-05-31T16:28:53.344Z"
   },
   {
    "duration": 3,
    "start_time": "2024-05-31T16:28:53.356Z"
   },
   {
    "duration": 65,
    "start_time": "2024-05-31T16:28:53.369Z"
   },
   {
    "duration": 37,
    "start_time": "2024-05-31T16:28:53.438Z"
   },
   {
    "duration": 38,
    "start_time": "2024-05-31T16:28:53.478Z"
   },
   {
    "duration": 29,
    "start_time": "2024-05-31T16:28:53.520Z"
   },
   {
    "duration": 37,
    "start_time": "2024-05-31T16:28:53.552Z"
   },
   {
    "duration": 26,
    "start_time": "2024-05-31T16:28:53.614Z"
   },
   {
    "duration": 14,
    "start_time": "2024-05-31T16:28:53.644Z"
   },
   {
    "duration": 14,
    "start_time": "2024-05-31T16:28:53.662Z"
   },
   {
    "duration": 20,
    "start_time": "2024-05-31T16:28:53.713Z"
   },
   {
    "duration": 25,
    "start_time": "2024-05-31T16:28:53.736Z"
   },
   {
    "duration": 59,
    "start_time": "2024-05-31T16:28:53.769Z"
   },
   {
    "duration": 42,
    "start_time": "2024-05-31T16:28:53.832Z"
   },
   {
    "duration": 46,
    "start_time": "2024-05-31T16:28:53.877Z"
   },
   {
    "duration": 30,
    "start_time": "2024-05-31T16:28:53.926Z"
   },
   {
    "duration": 33,
    "start_time": "2024-05-31T16:28:53.958Z"
   },
   {
    "duration": 16,
    "start_time": "2024-05-31T16:28:54.012Z"
   },
   {
    "duration": 37,
    "start_time": "2024-05-31T17:12:11.924Z"
   },
   {
    "duration": 30,
    "start_time": "2024-05-31T17:25:54.625Z"
   },
   {
    "duration": 30,
    "start_time": "2024-05-31T17:26:02.434Z"
   },
   {
    "duration": 29,
    "start_time": "2024-05-31T17:26:31.870Z"
   },
   {
    "duration": 47,
    "start_time": "2024-05-31T17:26:35.233Z"
   },
   {
    "duration": 50,
    "start_time": "2024-05-31T17:26:47.535Z"
   },
   {
    "duration": 401,
    "start_time": "2024-05-31T17:26:58.802Z"
   },
   {
    "duration": 419,
    "start_time": "2024-05-31T17:27:02.072Z"
   },
   {
    "duration": 439,
    "start_time": "2024-05-31T17:27:24.456Z"
   },
   {
    "duration": 13,
    "start_time": "2024-05-31T17:27:30.977Z"
   },
   {
    "duration": 494,
    "start_time": "2024-05-31T17:27:33.877Z"
   },
   {
    "duration": 515,
    "start_time": "2024-05-31T17:28:47.486Z"
   },
   {
    "duration": 411,
    "start_time": "2024-05-31T17:28:54.646Z"
   },
   {
    "duration": 8,
    "start_time": "2024-05-31T17:29:00.817Z"
   },
   {
    "duration": 449,
    "start_time": "2024-05-31T17:29:03.297Z"
   },
   {
    "duration": 431,
    "start_time": "2024-05-31T17:29:11.188Z"
   },
   {
    "duration": 8,
    "start_time": "2024-05-31T17:39:46.496Z"
   },
   {
    "duration": 426,
    "start_time": "2024-05-31T17:39:49.688Z"
   },
   {
    "duration": 412,
    "start_time": "2024-05-31T17:39:58.135Z"
   },
   {
    "duration": 522,
    "start_time": "2024-05-31T17:40:04.421Z"
   },
   {
    "duration": 461,
    "start_time": "2024-05-31T17:40:11.253Z"
   },
   {
    "duration": 14,
    "start_time": "2024-05-31T17:41:39.920Z"
   },
   {
    "duration": 8,
    "start_time": "2024-05-31T17:41:42.273Z"
   },
   {
    "duration": 11,
    "start_time": "2024-05-31T17:42:14.155Z"
   },
   {
    "duration": 7,
    "start_time": "2024-05-31T17:43:34.962Z"
   },
   {
    "duration": 10,
    "start_time": "2024-05-31T17:44:11.721Z"
   },
   {
    "duration": 12,
    "start_time": "2024-05-31T17:44:17.117Z"
   },
   {
    "duration": 10,
    "start_time": "2024-05-31T17:45:43.250Z"
   },
   {
    "duration": 7,
    "start_time": "2024-05-31T18:13:14.087Z"
   },
   {
    "duration": 7,
    "start_time": "2024-05-31T18:13:20.925Z"
   },
   {
    "duration": 7,
    "start_time": "2024-05-31T18:13:31.128Z"
   }
  ],
  "colab": {
   "provenance": []
  },
  "kernelspec": {
   "display_name": "Python 3",
   "language": "python",
   "name": "python3"
  },
  "language_info": {
   "codemirror_mode": {
    "name": "ipython",
    "version": 3
   },
   "file_extension": ".py",
   "mimetype": "text/x-python",
   "name": "python",
   "nbconvert_exporter": "python",
   "pygments_lexer": "ipython3",
   "version": "3.12.7"
  },
  "toc": {
   "base_numbering": 1,
   "nav_menu": {},
   "number_sections": true,
   "sideBar": true,
   "skip_h1_title": false,
   "title_cell": "Table of Contents",
   "title_sidebar": "Contents",
   "toc_cell": false,
   "toc_position": {
    "height": "calc(100% - 180px)",
    "left": "10px",
    "top": "150px",
    "width": "165px"
   },
   "toc_section_display": true,
   "toc_window_display": true
  }
 },
 "nbformat": 4,
 "nbformat_minor": 1
}
